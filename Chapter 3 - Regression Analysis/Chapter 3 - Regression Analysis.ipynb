{
 "cells": [
  {
   "cell_type": "markdown",
   "metadata": {},
   "source": [
    "# Topic 2 - Gradient Descent"
   ]
  },
  {
   "cell_type": "markdown",
   "metadata": {},
   "source": [
    "To begin exploring regression analysis we are going to consider a core concept in machine learning; gradient descent, in which an algorithm attempts to recursively improve on its predictions."
   ]
  },
  {
   "cell_type": "code",
   "execution_count": 1,
   "metadata": {
    "ExecuteTime": {
     "end_time": "2018-08-25T03:56:23.993097Z",
     "start_time": "2018-08-25T03:56:23.138209Z"
    },
    "collapsed": true
   },
   "outputs": [],
   "source": [
    "# Typical Import Statements\n",
    "import numpy as np\n",
    "import matplotlib.pyplot as plt\n",
    "import pandas as pd\n",
    "plt.style.use(['classic'])\n",
    "%matplotlib inline"
   ]
  },
  {
   "cell_type": "markdown",
   "metadata": {},
   "source": [
    "## Simulating Some Rainfall and Humidity Data"
   ]
  },
  {
   "cell_type": "markdown",
   "metadata": {},
   "source": [
    "The following code generates our data points and plots them to show the relationship.\n",
    "\n",
    "We're going to simply make 10 numbers between 0 and 1 for humidity and for rainfall 10 numbers which are slightly more, using the numpy random.rand() function, which takes a number (x) as an argument and returns an array of length (x) in which each element of the array is a number between 0 and 1.\n",
    "\n",
    "We are also going to use the matplotlib plt function, which is flexible to many inputs but in our case is taking three arguments: our simulated humidity data, our simulated rainfall data and 'b.' to denote the colour blue should be used in plotting. We also use plt.xlabel and plt.ylabel to label our axes."
   ]
  },
  {
   "cell_type": "code",
   "execution_count": 2,
   "metadata": {
    "ExecuteTime": {
     "end_time": "2018-08-25T03:56:24.027559Z",
     "start_time": "2018-08-25T03:56:24.016052Z"
    }
   },
   "outputs": [
    {
     "name": "stdout",
     "output_type": "stream",
     "text": [
      "humidity values -\n",
      " [0.60726451 0.73486183 0.20006468 0.5289698  0.10836253 0.19206835\n",
      " 0.36874293 0.26476195 0.13811278 0.81178069]\n",
      "rainfall values -\n",
      " [3.14689084 3.86986162 0.7228138  2.89329577 2.0172859  0.77031791\n",
      " 1.96296207 2.70448791 1.29378589 4.85254931]\n"
     ]
    },
    {
     "data": {
      "text/plain": [
       "<matplotlib.text.Text at 0x10c8e0080>"
      ]
     },
     "execution_count": 2,
     "metadata": {},
     "output_type": "execute_result"
    },
    {
     "data": {
      "image/png": "[encoded data removed]",
      "text/plain": [
       "<matplotlib.figure.Figure at 0x10c89b400>"
      ]
     },
     "metadata": {},
     "output_type": "display_data"
    }
   ],
   "source": [
    "humidity = np.random.rand(10)\n",
    "\n",
    "print('humidity values -\\n', humidity)\n",
    "\n",
    "rainfall = 1 + 4 * humidity+np.random.randn(10)\n",
    "\n",
    "print('rainfall values -\\n',rainfall)\n",
    "\n",
    "#This code makes the plot\n",
    "plt.figure()\n",
    "plt.plot(humidity,rainfall,'b.')\n",
    "plt.xlabel(\"$Humidity$\")\n",
    "plt.ylabel(\"$Rainfall (cm)$\")"
   ]
  },
  {
   "cell_type": "markdown",
   "metadata": {},
   "source": [
    "## Adding Our Model\n",
    "\n",
    "Let's have a go at putting a line on that describes this data. We're going to do a simple line from the _origin_ (x=0,y=0), sloping up through the data. To do this we use the same plt.plot command as before, but this time adding in two coordinates as a numpy array. Matplotlib recognises this as a line and plots accordingly.\n",
    "\n",
    "The line is defined as moving between 0 and 1 in the x axis : 0 and _gradient_ in the y axis.\n",
    "\n",
    "To begin with we set our gradient parameter as 12."
   ]
  },
  {
   "cell_type": "code",
   "execution_count": 3,
   "metadata": {},
   "outputs": [
    {
     "data": {
      "text/plain": [
       "[<matplotlib.lines.Line2D at 0x10ce25fd0>]"
      ]
     },
     "execution_count": 3,
     "metadata": {},
     "output_type": "execute_result"
    },
    {
     "data": {
      "image/png": "[encoded data removed]",
      "text/plain": [
       "<matplotlib.figure.Figure at 0x10cda9e48>"
      ]
     },
     "metadata": {},
     "output_type": "display_data"
    }
   ],
   "source": [
    "plt.figure()\n",
    "plt.plot(humidity,rainfall,'b.')\n",
    "plt.xlabel(\"$Humidity$\")\n",
    "plt.ylabel(\"$Rainfall (cm)$\")\n",
    "\n",
    "# In our first line, every 1 step in the x axis means 12 cm of rainfall\n",
    "gradient = 12\n",
    "\n",
    "line_y_coord = np.array([[0],[gradient]])\n",
    "line_x_coord = np.array([[0],[1]])\n",
    "plt.plot(line_x_coord, line_y_coord, 'r-')"
   ]
  },
  {
   "cell_type": "markdown",
   "metadata": {},
   "source": [
    "## :-/\n",
    "\n",
    "This doesn't look like a fantastic model does it. The line looks too high for the data! Using the line as reference, a humidity of 0.8 would be associated with ~9cm of rain, which is not reflective of our datapoints.\n",
    "\n",
    "The piece of code below calculates the difference in rainfall between each point and its respective prediction in our model.\n",
    "\n",
    "The interesting thing here is the lambda function, which takes an input x and figures out the corresponding point on the line. By subtracting this value from the real rainfall figure, we can find our errors."
   ]
  },
  {
   "cell_type": "code",
   "execution_count": 4,
   "metadata": {},
   "outputs": [
    {
     "name": "stdout",
     "output_type": "stream",
     "text": [
      "[-4.14028323 -4.94848031 -1.67796236 -3.45434183  0.71693557 -1.53450225\n",
      " -2.4619531  -0.4726555  -0.36356747 -4.88881891]\n"
     ]
    }
   ],
   "source": [
    "rainfall_errors = rainfall-list(map(lambda x: gradient*x,humidity))\n",
    "\n",
    "print(rainfall_errors)"
   ]
  },
  {
   "cell_type": "markdown",
   "metadata": {},
   "source": [
    "## Root Mean Squared Error\n",
    "\n",
    "Clearly we have a problem above with our predictions above and we need some way of summarising how bad the problem is. \n",
    "\n",
    "Root Mean Squared Error is a metric that allows us to summarise the performance of a regression model.\n",
    "\n",
    "What the equation below says is.\n",
    "\n",
    "1. Work out the errors by subtracting the predicted value from the true value. (Error)\n",
    "2. Square the errors to remove negative values (Squared)\n",
    "3. Add all these resultant values together and divide by the count (Mean)\n",
    "4. Square Root the value to make it comparable to our original values (Root)"
   ]
  },
  {
   "cell_type": "markdown",
   "metadata": {},
   "source": [
    "<b>Root Mean Squared Error</b>\n",
    "\\begin{equation}\n",
    "RMSE = (1/m \\sum_{i=1}^{m} (Truth - Prediction)^{2})^{1/2} \n",
    "\\end{equation}"
   ]
  },
  {
   "cell_type": "code",
   "execution_count": 5,
   "metadata": {},
   "outputs": [
    {
     "data": {
      "text/plain": [
       "2.9927158141890113"
      ]
     },
     "execution_count": 5,
     "metadata": {},
     "output_type": "execute_result"
    }
   ],
   "source": [
    "np.sqrt(np.mean(np.square(rainfall_errors)))"
   ]
  },
  {
   "cell_type": "markdown",
   "metadata": {},
   "source": [
    "Perhaps we can improve on this metric with a different line. Let's have another go. This time we are adjusting our gradient parameter to 8."
   ]
  },
  {
   "cell_type": "code",
   "execution_count": 6,
   "metadata": {},
   "outputs": [
    {
     "data": {
      "text/plain": [
       "[<matplotlib.lines.Line2D at 0x10ccc5588>]"
      ]
     },
     "execution_count": 6,
     "metadata": {},
     "output_type": "execute_result"
    },
    {
     "data": {
      "image/png": "[encoded data removed]",
      "text/plain": [
       "<matplotlib.figure.Figure at 0x10cc9bb00>"
      ]
     },
     "metadata": {},
     "output_type": "display_data"
    }
   ],
   "source": [
    "plt.figure()\n",
    "plt.plot(humidity,rainfall,'b.')\n",
    "plt.xlabel(\"$Humidity$\")\n",
    "plt.ylabel(\"$Rainfall (cm)$\")\n",
    "\n",
    "gradient = 8\n",
    "\n",
    "line_y_coord = np.array([[0],[gradient]])\n",
    "line_x_coord = np.array([[0],[1]])\n",
    "plt.plot(line_x_coord, line_y_coord, 'r-')"
   ]
  },
  {
   "cell_type": "code",
   "execution_count": 7,
   "metadata": {},
   "outputs": [
    {
     "name": "stdout",
     "output_type": "stream",
     "text": [
      "[-1.71122521 -2.009033   -0.87770364 -1.33846263  1.15038568 -0.76622887\n",
      " -0.98698137  0.5863923   0.18888365 -1.64169617]\n"
     ]
    }
   ],
   "source": [
    "rainfall_errors = rainfall-list(map(lambda x: gradient*x,humidity))\n",
    "\n",
    "print(rainfall_errors)"
   ]
  },
  {
   "cell_type": "code",
   "execution_count": 8,
   "metadata": {},
   "outputs": [
    {
     "data": {
      "text/plain": [
       "1.2444145847444357"
      ]
     },
     "execution_count": 8,
     "metadata": {},
     "output_type": "execute_result"
    }
   ],
   "source": [
    "np.sqrt(np.mean(np.square(rainfall_errors)))"
   ]
  },
  {
   "cell_type": "markdown",
   "metadata": {},
   "source": [
    "This is a great improvement! But just looking at it we can see that we could probably do better.\n",
    "\n",
    "Clearly as we change our gradient parameter we affect the overall performance of the model.\n",
    "\n",
    "So far doing this manually we have improved things, but we man write an algorithm to perform these adjustments for us."
   ]
  },
  {
   "cell_type": "markdown",
   "metadata": {},
   "source": [
    "## Gradient Descent - Now we're Machine Learning!"
   ]
  },
  {
   "cell_type": "markdown",
   "metadata": {},
   "source": [
    "Gradient descent refers to an algorithm that attempts to minimize some kind of loss function. In our case, the Root Mean Squared Error. \n",
    "\n",
    "The first thing to do is to write a function that, per iteration of the algorithm, tells us how accurate our model is."
   ]
  },
  {
   "cell_type": "code",
   "execution_count": 9,
   "metadata": {
    "collapsed": true
   },
   "outputs": [],
   "source": [
    "def loss_this_iteration(gradient):\n",
    "\n",
    "    #figure out predictions by finding the rainfall point for a given humidity on our red line\n",
    "    predictions = np.stack(list(map(lambda x: gradient*x,humidity))).squeeze(axis=1)\n",
    "\n",
    "    #work out the errors in these predictions\n",
    "    rainfall_errors = rainfall - predictions\n",
    "\n",
    "    #calculate RMSE\n",
    "    loss = np.sqrt(np.mean(np.square(rainfall_errors)))\n",
    "\n",
    "    return predictions, rainfall_errors, loss"
   ]
  },
  {
   "cell_type": "markdown",
   "metadata": {},
   "source": [
    "This function takes a line gradient (slope) as an input, figures out what the predictions are for each humidity point, the errors of these predictions and then an overall error metric called the _loss_.\n",
    "\n",
    "We've seen that we can check the accuracy of a model by comparing its predictions to the actual data.\n",
    "\n",
    "We know that at some point, the line is the most accurate we can make it. The trick is to write an algorithm that adjusts the gradient by some amount, based on how inaccurate it is."
   ]
  },
  {
   "cell_type": "code",
   "execution_count": 10,
   "metadata": {
    "collapsed": true
   },
   "outputs": [],
   "source": [
    "def gradient_descent(humidity,rainfall,start_gradient,learning_rate=0.01,iterations=100):\n",
    "\n",
    "    #initialise our history, which will allow us to look back at the history of the process\n",
    "    loss_history = np.zeros(iterations)\n",
    "    gradient_history = np.zeros(iterations)\n",
    "    \n",
    "    #use our function from the previous chunk\n",
    "    predictions, rainfall_errors, loss = loss_this_iteration(start_gradient)\n",
    "    \n",
    "    #figure out how much we need to change the gradient next iteration\n",
    "    #n.b this is known as the 'partial derivative' in pure mathematics\n",
    "    gradient_change = -(2/len(humidity)) * sum(humidity * (rainfall_errors))\n",
    "\n",
    "    #change the gradient by some factor called the 'learning rate'\n",
    "    gradient = start_gradient - learning_rate * gradient_change\n",
    "        \n",
    "    #loop through the number of iterations, updating our line\n",
    "    for it in range(iterations):\n",
    "                \n",
    "        _, rainfall_errors, loss = loss_this_iteration(gradient)\n",
    "        loss_history[it]  = loss\n",
    "        \n",
    "        gradient_change = -(2/len(humidity)) * sum(humidity * rainfall_errors)\n",
    "\n",
    "        gradient = gradient - learning_rate * gradient_change\n",
    "        \n",
    "        gradient_history[it] = gradient\n",
    "        \n",
    "    return gradient, gradient_history, loss_history\n"
   ]
  },
  {
   "cell_type": "markdown",
   "metadata": {},
   "source": [
    "We start with our original gradient from the first chart we made. Using a learning rate of 0.01 and running 2000 iterations."
   ]
  },
  {
   "cell_type": "code",
   "execution_count": 11,
   "metadata": {
    "ExecuteTime": {
     "end_time": "2018-08-25T03:56:27.126960Z",
     "start_time": "2018-08-25T03:56:27.062811Z"
    },
    "scrolled": false
   },
   "outputs": [
    {
     "name": "stdout",
     "output_type": "stream",
     "text": [
      "First Gradient: 11.945787383476867\n",
      "Final Gradient: 5.716933103352685\n",
      "First MSE/Loss: 2.980388162132516\n",
      "Final MSE/Loss: 0.648766774160809\n"
     ]
    }
   ],
   "source": [
    "start_gradient = np.array([12])\n",
    "\n",
    "gradient, gradient_history, loss_history = gradient_descent(humidity,rainfall,start_gradient,learning_rate=0.01,iterations=2000)\n",
    "\n",
    "print('First Gradient: ' + str(gradient_history[0]))\n",
    "print('Final Gradient: ' + str(gradient_history[-1]))\n",
    "print('First MSE/Loss: ' + str(loss_history[0]))\n",
    "print('Final MSE/Loss: ' + str(loss_history[-1]))"
   ]
  },
  {
   "cell_type": "markdown",
   "metadata": {},
   "source": [
    "Looks like our gradient has indeed descended. In the process we have reduced Mean Squared Error significantly also. Fantastic!"
   ]
  },
  {
   "cell_type": "markdown",
   "metadata": {},
   "source": [
    "## Making a Graph of our Gradient Descent"
   ]
  },
  {
   "cell_type": "code",
   "execution_count": 12,
   "metadata": {
    "ExecuteTime": {
     "end_time": "2018-08-25T04:01:31.912400Z",
     "start_time": "2018-08-25T04:01:31.604459Z"
    },
    "scrolled": false
   },
   "outputs": [
    {
     "data": {
      "image/png": "[encoded data removed]",
      "text/plain": [
       "<matplotlib.figure.Figure at 0x10cd9d208>"
      ]
     },
     "metadata": {},
     "output_type": "display_data"
    }
   ],
   "source": [
    "fig,ax = plt.subplots(figsize=(12,8))\n",
    "\n",
    "ax.set_ylabel('RMSE')\n",
    "ax.set_xlabel('Iterations')\n",
    "_=ax.plot(range(2000),loss_history,'b.')"
   ]
  },
  {
   "cell_type": "markdown",
   "metadata": {},
   "source": [
    "It's interesting to note that at first the descent is faster, later on it's much more difficult to make improvements. Eventually we reach a point called _convergence_, at which point the line does not change as the model is as accurate as it can be without changing other aspects of it."
   ]
  },
  {
   "cell_type": "markdown",
   "metadata": {},
   "source": [
    "## Let's watch it this time, starting with a gradient of 1"
   ]
  },
  {
   "cell_type": "markdown",
   "metadata": {},
   "source": [
    "The following function makes a plot for every iteration of the gradient descent algorithm. It's worth noting that the _descent_ part of gradient descent refers to the error, rather than the actual line. In the following instance with the gradient starting at 1, the gradient actually increases to fit the data better."
   ]
  },
  {
   "cell_type": "code",
   "execution_count": 13,
   "metadata": {
    "ExecuteTime": {
     "end_time": "2018-08-25T04:06:54.948007Z",
     "start_time": "2018-08-25T04:06:54.916435Z"
    },
    "collapsed": true,
    "scrolled": false
   },
   "outputs": [],
   "source": [
    "def plot_GD_base(n_iter,lr):\n",
    "\n",
    "    var = np.array([1])\n",
    "    cost_history = np.zeros(n_iter)\n",
    "\n",
    "    for i in range(n_iter):\n",
    "        pred_prev = np.stack(list(map(lambda x: var*x,humidity))).squeeze(axis=1)\n",
    "        var,h,_ = gradient_descent(humidity,rainfall,var,lr,1)\n",
    "        pred = np.stack(list(map(lambda x: var*x,humidity))).squeeze(axis=1)\n",
    "        cost_history[i] = h[0]\n",
    "        plt.figure()\n",
    "        plt.plot(humidity,rainfall,'b.')\n",
    "        plt.plot(humidity,pred,'r-')\n",
    "        plt.xlabel(\"$Humidity$\")\n",
    "        plt.ylabel(\"$Rainfall (cm)$\")"
   ]
  },
  {
   "cell_type": "code",
   "execution_count": 14,
   "metadata": {},
   "outputs": [
    {
     "data": {
      "image/png": "[encoded data removed]",
      "text/plain": [
       "<matplotlib.figure.Figure at 0x10cd9df98>"
      ]
     },
     "metadata": {},
     "output_type": "display_data"
    },
    {
     "data": {
      "image/png": "[encoded data removed]",
      "text/plain": [
       "<matplotlib.figure.Figure at 0x10d46a908>"
      ]
     },
     "metadata": {},
     "output_type": "display_data"
    },
    {
     "data": {
      "image/png": "[encoded data removed]",
      "text/plain": [
       "<matplotlib.figure.Figure at 0x10d4c0cf8>"
      ]
     },
     "metadata": {},
     "output_type": "display_data"
    },
    {
     "data": {
      "image/png": "[encoded data removed]",
      "text/plain": [
       "<matplotlib.figure.Figure at 0x10d543080>"
      ]
     },
     "metadata": {},
     "output_type": "display_data"
    },
    {
     "data": {
      "image/png": "[encoded data removed]",
      "text/plain": [
       "<matplotlib.figure.Figure at 0x10d5b2908>"
      ]
     },
     "metadata": {},
     "output_type": "display_data"
    },
    {
     "data": {
      "image/png": "[encoded data removed]",
      "text/plain": [
       "<matplotlib.figure.Figure at 0x10d5df048>"
      ]
     },
     "metadata": {},
     "output_type": "display_data"
    },
    {
     "data": {
      "image/png": "[encoded data removed]",
      "text/plain": [
       "<matplotlib.figure.Figure at 0x10d6a70f0>"
      ]
     },
     "metadata": {},
     "output_type": "display_data"
    },
    {
     "data": {
      "image/png": "[encoded data removed]",
      "text/plain": [
       "<matplotlib.figure.Figure at 0x10d70cac8>"
      ]
     },
     "metadata": {},
     "output_type": "display_data"
    },
    {
     "data": {
      "image/png": "[encoded data removed]",
      "text/plain": [
       "<matplotlib.figure.Figure at 0x10d786d30>"
      ]
     },
     "metadata": {},
     "output_type": "display_data"
    },
    {
     "data": {
      "image/png": "[encoded data removed]",
      "text/plain": [
       "<matplotlib.figure.Figure at 0x10d7fe0b8>"
      ]
     },
     "metadata": {},
     "output_type": "display_data"
    },
    {
     "data": {
      "image/png": "[encoded data removed]",
      "text/plain": [
       "<matplotlib.figure.Figure at 0x10d82a390>"
      ]
     },
     "metadata": {},
     "output_type": "display_data"
    },
    {
     "data": {
      "image/png": "[encoded data removed]",
      "text/plain": [
       "<matplotlib.figure.Figure at 0x10ccc31d0>"
      ]
     },
     "metadata": {},
     "output_type": "display_data"
    },
    {
     "data": {
      "image/png": "[encoded data removed]",
      "text/plain": [
       "<matplotlib.figure.Figure at 0x10c99eeb8>"
      ]
     },
     "metadata": {},
     "output_type": "display_data"
    },
    {
     "data": {
      "image/png": "[encoded data removed]",
      "text/plain": [
       "<matplotlib.figure.Figure at 0x10d890240>"
      ]
     },
     "metadata": {},
     "output_type": "display_data"
    },
    {
     "data": {
      "image/png": "[encoded data removed]",
      "text/plain": [
       "<matplotlib.figure.Figure at 0x10d8f98d0>"
      ]
     },
     "metadata": {},
     "output_type": "display_data"
    },
    {
     "data": {
      "image/png": "[encoded data removed]",
      "text/plain": [
       "<matplotlib.figure.Figure at 0x10d976a58>"
      ]
     },
     "metadata": {},
     "output_type": "display_data"
    },
    {
     "data": {
      "image/png": "[encoded data removed]",
      "text/plain": [
       "<matplotlib.figure.Figure at 0x10d9f2b70>"
      ]
     },
     "metadata": {},
     "output_type": "display_data"
    },
    {
     "data": {
      "image/png": "[encoded data removed]",
      "text/plain": [
       "<matplotlib.figure.Figure at 0x10d986080>"
      ]
     },
     "metadata": {},
     "output_type": "display_data"
    },
    {
     "data": {
      "image/png": "[encoded data removed]",
      "text/plain": [
       "<matplotlib.figure.Figure at 0x10dadb400>"
      ]
     },
     "metadata": {},
     "output_type": "display_data"
    },
    {
     "data": {
      "image/png": "[encoded data removed]",
      "text/plain": [
       "<matplotlib.figure.Figure at 0x10db456d8>"
      ]
     },
     "metadata": {},
     "output_type": "display_data"
    }
   ],
   "source": [
    "#Note how the gradient of the line increases\n",
    "plot_GD_base(20,0.1)"
   ]
  },
  {
   "cell_type": "markdown",
   "metadata": {},
   "source": [
    "# Other Considerations for Gradient Descent"
   ]
  },
  {
   "cell_type": "markdown",
   "metadata": {},
   "source": [
    "### Stochastic gradient Descent\n",
    "\n",
    "With many dimensions in real world problems, gradient descent quickly becomes compuationally expensive and slow. A further concern is that, in some instances we might think we've finished gradient descent, when in fact we have found a _local minimum_ - a point that _looks_ like the bottom of the gradient descent but actually is not. Data Scientists have looked at this problem in great deal and found other techniques such as _stochastic_ gradient descent. In which random subsets of data are used for the task. \n",
    "\n",
    "### Solving the System vs Gradient Descent\n",
    "\n",
    "It is worth adding that there is a further approach to regression that involves solving the entire system of inputs to find an optimal in a single calculation. However this becomes impractical in large datasets with many inputs. The majority of contemporary machine learning algorithms will rely on some variety of gradient descent."
   ]
  },
  {
   "cell_type": "markdown",
   "metadata": {},
   "source": [
    "# Gradient Descent - Activity"
   ]
  },
  {
   "cell_type": "markdown",
   "metadata": {},
   "source": [
    "1. Perform Gradient Descent on the following much larger dataset, using an initial gradient of 15, a learning rate of 0.1 and 1000 iterations. \n",
    "\n",
    "2. Find the Final gradient and RMSE\n",
    "\n",
    "3. Provide a gradient descent curve of the kind found in 'Making a Graph of our Gradient Descent'"
   ]
  },
  {
   "cell_type": "code",
   "execution_count": 15,
   "metadata": {},
   "outputs": [
    {
     "name": "stdout",
     "output_type": "stream",
     "text": [
      "humidity values -\n",
      " [3.12747941e-02 9.61067574e-01 8.85582718e-01 4.26342023e-01\n",
      " 2.16905759e-01 7.03322441e-01 6.03840632e-01 4.39673573e-01\n",
      " 3.35235491e-01 1.38430706e-01 3.45285969e-01 8.95084448e-01\n",
      " 5.98134035e-01 7.44615219e-01 5.89125325e-01 3.22381565e-01\n",
      " 2.57293408e-01 7.76046576e-02 4.27252436e-01 7.77595587e-02\n",
      " 9.85378457e-01 3.29505422e-01 4.97913649e-01 7.38514062e-01\n",
      " 8.91239880e-01 4.29280048e-01 9.62844665e-01 3.36757141e-01\n",
      " 2.85116330e-01 8.57478118e-01 8.23968898e-01 1.02235717e-01\n",
      " 5.72923531e-01 5.00257314e-01 3.70490273e-01 3.21036207e-01\n",
      " 3.13810924e-01 7.53106023e-01 4.13969760e-01 4.55643844e-01\n",
      " 3.99267450e-01 1.97169202e-01 3.20905373e-01 8.32893112e-02\n",
      " 3.22661736e-01 6.73756098e-02 7.37842189e-01 5.54252230e-01\n",
      " 4.47595696e-02 9.89003159e-01 1.45728890e-01 2.82723316e-02\n",
      " 2.46306482e-01 6.27928256e-01 7.47554034e-01 7.31984399e-01\n",
      " 6.19756991e-01 2.94693538e-01 4.98582356e-01 6.58411611e-01\n",
      " 7.12781365e-01 6.08507625e-01 6.40043105e-01 2.93271288e-01\n",
      " 4.36058123e-01 8.52737081e-01 5.67798531e-01 5.40613658e-01\n",
      " 1.06209656e-01 1.06312628e-02 6.63383605e-01 3.47655664e-01\n",
      " 9.39693039e-01 9.82346136e-02 6.16016607e-01 1.74774295e-01\n",
      " 7.90959419e-01 1.26115401e-01 7.46278178e-01 7.68787824e-02\n",
      " 9.08112012e-01 9.99876294e-01 6.38373707e-01 2.88742207e-01\n",
      " 7.92904470e-01 6.99256228e-01 7.82481922e-01 4.25647070e-01\n",
      " 5.66869301e-01 2.74874626e-01 1.15113258e-01 7.84121618e-01\n",
      " 7.14125453e-01 8.52333844e-01 8.94215383e-01 7.48752811e-01\n",
      " 1.60166566e-01 8.84603263e-01 2.04213258e-01 8.36309191e-01\n",
      " 7.11846102e-01 5.38383477e-01 4.23911987e-01 7.58376076e-01\n",
      " 8.40089327e-01 9.60419937e-02 5.34877903e-01 4.68024310e-01\n",
      " 6.53960598e-01 2.43820200e-01 8.54514925e-01 3.02719061e-01\n",
      " 7.53094680e-01 8.83581071e-01 3.17152488e-01 3.20958641e-01\n",
      " 8.22960087e-01 1.12907207e-02 7.31699656e-01 3.77666345e-01\n",
      " 3.68409226e-01 9.08172044e-01 9.47450053e-01 3.95910526e-01\n",
      " 2.43846505e-01 6.73837388e-01 7.49905087e-01 8.59264141e-01\n",
      " 2.54133778e-01 2.08209605e-01 2.64455131e-01 8.48454121e-01\n",
      " 4.70808988e-01 7.55026487e-01 5.17828556e-02 2.89701090e-01\n",
      " 6.26749362e-01 7.96793743e-01 1.62198399e-01 4.65125180e-01\n",
      " 4.19733521e-01 7.09529583e-01 3.85478171e-01 9.06944975e-01\n",
      " 1.98215919e-01 9.67551482e-01 7.36877674e-01 4.74003385e-01\n",
      " 6.95300248e-01 6.61961400e-02 2.73300063e-01 5.27632947e-01\n",
      " 9.49745894e-01 9.14165280e-01 5.26877716e-01 8.70181338e-01\n",
      " 3.05816046e-01 1.73865161e-01 5.06525487e-01 2.10704906e-01\n",
      " 1.80397706e-01 4.68614667e-01 5.06752182e-01 2.79734248e-01\n",
      " 1.99849676e-01 5.95949047e-01 4.81308710e-01 1.91450514e-01\n",
      " 6.88381594e-01 4.80845608e-02 1.65081608e-01 7.41082597e-01\n",
      " 6.62445312e-01 1.81266963e-02 1.13265234e-01 2.78519197e-02\n",
      " 8.49576326e-01 2.44852882e-01 4.00223938e-01 4.34505911e-01\n",
      " 3.72141413e-01 7.56769943e-01 2.28875058e-01 5.74242661e-01\n",
      " 6.12566975e-01 6.95255328e-02 7.17113574e-01 8.64206670e-01\n",
      " 8.66614770e-01 4.34165962e-01 3.65438075e-01 7.71693419e-01\n",
      " 6.91393904e-01 9.63387491e-01 3.07121184e-01 1.68675102e-01\n",
      " 7.02904142e-01 3.33752116e-01 1.54881716e-01 3.31598522e-01\n",
      " 2.37083913e-01 7.45051131e-01 4.58200152e-01 9.47648025e-01\n",
      " 7.25014703e-02 2.64957162e-01 9.65546464e-01 4.48653979e-01\n",
      " 8.08125988e-01 5.48899012e-01 5.00672023e-01 5.63227477e-01\n",
      " 4.04253433e-02 8.81822335e-01 1.90488789e-01 9.77084248e-01\n",
      " 2.14397942e-01 8.21452741e-01 8.64753880e-01 2.49139293e-01\n",
      " 9.44894517e-01 5.97971153e-02 7.84030840e-01 1.11894843e-01\n",
      " 8.71959551e-01 5.84986940e-01 8.66450998e-01 4.90493950e-01\n",
      " 9.19603191e-01 7.61332715e-01 9.93405731e-01 1.41082089e-01\n",
      " 9.92300408e-01 3.00407808e-01 8.80341590e-01 6.33223812e-01\n",
      " 3.52631960e-01 2.55055208e-01 4.64293140e-01 6.17175418e-01\n",
      " 4.01720889e-01 5.77705632e-01 5.20244631e-02 6.95052473e-01\n",
      " 5.99572076e-01 6.49137377e-01 5.05084521e-01 9.48011332e-02\n",
      " 1.23080932e-01 5.86961716e-01 6.06813719e-01 4.32533373e-01\n",
      " 8.29524496e-01 1.54926312e-01 3.91440370e-01 8.49647599e-01\n",
      " 2.11496298e-01 2.34840144e-01 9.10679536e-01 1.08617892e-01\n",
      " 1.90413365e-01 8.76501468e-01 2.15902383e-01 8.45934684e-01\n",
      " 1.45670064e-01 1.67755251e-01 8.52818815e-01 9.25774484e-01\n",
      " 3.32208160e-01 4.03328064e-01 4.75580729e-01 2.39296000e-01\n",
      " 9.07829052e-03 8.52937401e-01 9.62931113e-01 3.35241564e-01\n",
      " 3.64573249e-01 5.87646713e-01 6.42255281e-01 1.58776091e-01\n",
      " 1.51948269e-01 5.74921969e-01 5.84391357e-01 7.55673228e-01\n",
      " 2.42965657e-01 7.30836179e-01 8.39629857e-01 5.54738554e-01\n",
      " 8.02583714e-01 9.63594162e-01 4.47530837e-01 8.42365773e-01\n",
      " 9.62724042e-01 1.23062007e-01 1.88464346e-01 6.83022963e-01\n",
      " 8.48184102e-01 7.31854499e-01 7.43987512e-01 1.62903006e-01\n",
      " 5.04201016e-01 3.71509542e-01 8.77721023e-02 2.69747184e-01\n",
      " 8.05088138e-01 6.42588916e-01 5.23486757e-01 7.95219107e-01\n",
      " 2.31624846e-01 2.17567818e-01 1.81774614e-01 1.13893964e-01\n",
      " 4.55426443e-01 6.94773311e-01 9.81552740e-01 4.68565138e-01\n",
      " 2.44347959e-01 8.40913579e-01 8.37778777e-01 7.90776968e-01\n",
      " 7.46808451e-01 8.53035963e-01 7.59651183e-01 5.61598046e-01\n",
      " 3.65397053e-02 5.36219093e-01 7.41048722e-01 7.48843638e-01\n",
      " 7.04480414e-03 6.51722209e-01 2.41400931e-01 1.66407481e-01\n",
      " 9.94148842e-01 7.45482228e-02 2.12279151e-01 1.87160149e-01\n",
      " 7.07725201e-01 7.25371786e-01 6.49130466e-01 1.05733905e-02\n",
      " 6.99462155e-01 7.08645137e-02 7.23066478e-01 1.79660649e-02\n",
      " 2.36651424e-02 8.22018212e-01 8.03886813e-02 2.30499230e-01\n",
      " 4.23448582e-02 7.12469136e-01 7.35026296e-01 6.05353079e-01\n",
      " 3.24808871e-01 9.80829693e-01 7.47143325e-01 1.68139423e-01\n",
      " 4.86556072e-01 1.91151512e-01 6.60446142e-01 7.18843460e-01\n",
      " 2.93862273e-01 9.63949750e-01 9.68022288e-01 4.57606126e-01\n",
      " 5.00073445e-02 8.54854681e-01 2.83280459e-01 7.75410422e-01\n",
      " 3.61529499e-01 4.30360426e-01 8.74717290e-01 9.26068229e-01\n",
      " 4.35036891e-01 9.84657859e-01 2.46277859e-01 3.95659597e-01\n",
      " 9.85113447e-01 7.13174243e-01 6.29640689e-01 8.11014678e-01\n",
      " 2.78802712e-01 7.95058827e-01 2.79726190e-01 5.43331455e-01\n",
      " 6.27849256e-01 8.60998274e-02 1.74432794e-01 6.64066098e-01\n",
      " 1.40823081e-01 8.72133200e-01 2.34269922e-01 2.71709400e-01\n",
      " 6.80349939e-01 8.23120037e-02 5.40523433e-01 4.94626428e-01\n",
      " 5.07893688e-01 2.40095395e-01 6.32114088e-01 5.35990478e-01\n",
      " 5.51043407e-01 7.56424963e-01 1.52157764e-01 2.67705452e-01\n",
      " 6.47383986e-02 3.69365487e-01 1.44989800e-01 8.05004181e-01\n",
      " 5.98490475e-01 6.14127689e-01 3.41304528e-01 2.85765520e-02\n",
      " 8.35050168e-01 2.87179307e-01 9.54422397e-01 4.90735778e-01\n",
      " 5.77332928e-01 7.49124736e-02 3.15678554e-01 4.19902998e-01\n",
      " 2.27884901e-01 1.84737293e-01 5.24559816e-01 3.82231949e-01\n",
      " 9.11756100e-04 8.92554464e-01 8.19533286e-01 3.65325802e-01\n",
      " 7.22899538e-01 3.35995661e-01 1.76602143e-01 3.23879370e-01\n",
      " 1.24080929e-01 4.97744956e-01 7.62739472e-01 4.57726230e-01\n",
      " 3.04358744e-01 8.60892397e-01 6.98560985e-01 1.40343307e-01\n",
      " 2.50986188e-02 7.74196087e-01 2.81044147e-01 2.16597796e-01\n",
      " 4.27588105e-01 9.04180063e-01 9.49277206e-01 2.79456547e-01\n",
      " 7.61679319e-01 4.78573630e-01 9.50769565e-01 1.02524276e-01\n",
      " 9.86038494e-01 3.91241135e-01 5.09403312e-01 1.62319264e-01\n",
      " 8.72814630e-01 8.17699127e-01 9.49112994e-02 2.14653339e-02\n",
      " 1.40412947e-01 5.28087348e-01 9.99202500e-01 7.27310504e-01\n",
      " 6.80534460e-01 7.25076101e-01 4.87910526e-01 1.53868039e-01\n",
      " 8.53417504e-01 9.52229511e-01 6.87852340e-01 8.56197438e-01\n",
      " 6.53088556e-01 1.96009506e-01 2.47332088e-01 3.25909855e-01\n",
      " 2.61863560e-01 4.48547553e-01 3.31319189e-01 8.03876689e-01\n",
      " 6.40537274e-02 9.13316418e-01 1.39407976e-01 7.54835971e-01\n",
      " 8.77949869e-01 6.93428152e-01 7.07665154e-01 5.82862983e-01\n",
      " 8.16051463e-01 8.95403853e-01 8.08189373e-01 6.24616006e-01\n",
      " 4.70086996e-01 8.56232626e-01 2.00519789e-01 7.23978191e-01\n",
      " 9.17968425e-01 8.42607737e-01 6.89330220e-01 6.18080224e-01]\n",
      "rainfall values -\n",
      " [4.2947709  6.9292241  6.87701559 6.15121826 4.59869046 8.11713727\n",
      " 6.93636129 5.13760363 4.28782655 6.36350599 5.06670978 6.09681693\n",
      " 6.01574021 6.9318167  4.4331083  3.26938079 6.06314336 4.30096642\n",
      " 5.50914856 4.56627365 5.04391932 5.05937411 5.01700119 5.86619584\n",
      " 5.7621726  4.77204846 7.39304811 5.17321772 4.81878626 6.78768925\n",
      " 6.81445176 3.58446774 5.51457724 4.76899787 5.42118581 5.46325401\n",
      " 3.71945479 6.93726159 5.72025906 6.32040126 5.92676958 4.69147108\n",
      " 4.88955504 3.57237519 4.62880841 3.80934484 4.7576729  5.87843925\n",
      " 5.56169445 6.73607815 4.56189136 2.23374262 4.48045552 6.2298173\n",
      " 7.84975713 7.16037789 5.30362294 5.50622102 5.31913875 5.62518114\n",
      " 7.99113132 4.87926825 6.07647372 4.59390465 5.94527815 7.76164215\n",
      " 5.41545425 5.32371371 4.92179494 5.24719725 6.02686382 6.299581\n",
      " 7.65100127 2.51635541 7.31246595 4.11342404 5.8460519  5.97649151\n",
      " 6.47204412 4.10775906 7.62100475 6.02228391 6.62170583 4.76105354\n",
      " 5.92735402 6.64679114 6.84601202 5.05169308 6.92319276 4.54677163\n",
      " 4.53023903 5.2815111  5.63148046 5.25130471 5.97091678 5.26760649\n",
      " 3.84955459 7.70558162 4.36477431 6.94398335 5.44856679 6.33950365\n",
      " 5.94027162 5.95164317 5.93683898 6.24800448 4.91702899 3.2068667\n",
      " 6.69928395 4.11843256 7.85563811 5.23197719 6.10971763 5.48409556\n",
      " 5.46739316 5.36629139 5.23070597 4.3332271  5.55712885 3.40535016\n",
      " 5.81419382 6.11793184 7.02945074 6.16801202 4.62563577 8.7298294\n",
      " 4.48445918 6.7591168  4.99180376 3.86926194 3.5167623  6.30241198\n",
      " 5.38983319 6.44917103 2.92968006 5.69147053 4.95021872 6.55488145\n",
      " 4.75406479 5.09768198 3.66543707 6.11004195 5.40110884 5.77801963\n",
      " 5.60158916 7.56569012 7.08028624 5.70648581 6.18619789 4.08346201\n",
      " 3.5590086  5.32398665 6.62745976 7.34709475 5.55813241 6.40725092\n",
      " 6.16320895 3.59063284 4.10445419 4.14875834 4.60490582 5.03029613\n",
      " 5.29069252 5.11258836 4.23606644 6.09386896 5.57578203 5.5549853\n",
      " 5.48866478 4.66990938 3.96599091 7.53384336 6.23379392 5.09724403\n",
      " 5.47899807 4.43908073 7.29178092 5.96842115 4.82760725 5.74963244\n",
      " 4.52426734 8.73582407 4.63023822 4.8094107  4.97007027 4.52701455\n",
      " 6.11561503 5.78814943 8.21334084 4.06965019 5.57832499 6.66090157\n",
      " 7.32912814 7.22355019 5.25444685 5.33540399 5.12740537 6.23913333\n",
      " 4.97709657 5.45715612 5.73252765 7.45655913 5.60745508 6.09762958\n",
      " 3.69443001 5.03974393 8.35262816 5.48842357 6.65307914 5.61359662\n",
      " 3.5884593  5.15391004 3.55625157 6.26968541 4.35984015 6.16230824\n",
      " 3.63416771 7.37859154 5.56972663 4.80325348 6.13392036 4.65973291\n",
      " 5.26950266 3.76559534 3.69370126 5.13033671 7.730576   6.42215706\n",
      " 6.6729163  7.9019504  6.75320626 3.97801821 8.64686701 5.84109626\n",
      " 6.99373309 6.27394505 4.6411132  5.07244268 5.54714266 5.4329782\n",
      " 6.00863975 5.69856069 3.3862747  5.57984105 6.47769648 5.82616808\n",
      " 4.58868473 2.46508707 3.31633065 6.83331086 5.6115297  4.8257981\n",
      " 6.21629002 4.32373114 5.88760856 6.23331893 4.87584745 4.72977674\n",
      " 5.95975915 4.62173285 3.97468121 6.28583398 3.64510855 5.8052735\n",
      " 5.16011959 5.25242607 6.6373958  6.45439514 4.16075936 4.75426142\n",
      " 5.09020123 5.29200713 5.36344959 6.96975593 7.42787584 5.49929258\n",
      " 4.07612029 5.41775946 6.69467319 4.02735216 4.45692174 6.394207\n",
      " 5.65755814 6.44133227 5.13130507 5.82402593 5.56503953 3.62699793\n",
      " 8.33807768 7.99236056 5.5471915  6.669339   7.31168234 3.73466783\n",
      " 4.6090682  5.32077694 6.85512721 6.32982435 7.42255534 5.27748711\n",
      " 4.52203347 5.43239427 3.64649798 4.59393445 6.16714459 6.85444327\n",
      " 4.75902351 6.44879882 4.75198231 5.49991949 4.27905828 5.01069057\n",
      " 4.68614575 4.33556556 6.68037013 4.33378929 4.77570075 7.42457724\n",
      " 5.26529067 6.96740423 5.97240324 7.33964924 6.47563828 4.62674109\n",
      " 3.95197771 4.74190537 5.45204718 6.74060688 3.48166025 6.93301452\n",
      " 3.79201445 6.04484754 4.67091491 5.92618577 5.29329929 5.73306132\n",
      " 7.15001544 3.78882489 6.71812078 5.1133269  5.67821471 4.47805582\n",
      " 6.48758856 4.0750136  2.95458125 6.23276569 4.38454795 5.4168061\n",
      " 4.91152164 6.38669129 7.29718333 6.86639642 5.60802057 7.7636757\n",
      " 6.36010735 4.30064948 4.03390434 3.83786507 5.71162418 6.24680667\n",
      " 3.74959861 6.38223656 6.34473718 7.15196063 4.46093928 7.13069805\n",
      " 4.52359203 6.29536797 4.94052448 3.79778682 5.83649438 7.08337476\n",
      " 5.57267406 6.03826949 5.991135   3.06668123 6.59238811 5.80463303\n",
      " 4.12047682 5.69226207 4.72626684 7.12501942 5.5940036  6.19714856\n",
      " 5.4603853  5.59176881 4.95534409 5.55217475 5.13535551 6.72056764\n",
      " 3.98048702 4.96331307 5.41082201 4.17557608 5.4936777  3.63175673\n",
      " 5.82378847 7.26266439 7.46758557 5.42920657 6.3958929  6.72693404\n",
      " 4.35340276 5.1390284  5.40489192 4.56874745 4.9331612  5.3469975\n",
      " 5.79958202 6.11136339 5.00326291 5.03338972 7.18841372 4.68366581\n",
      " 6.98236509 5.05503581 5.52424362 5.92064347 3.81420706 4.12514023\n",
      " 2.2226272  4.27246884 4.7318434  5.5858176  4.46257733 7.52462334\n",
      " 6.99720906 3.31130203 4.43143986 3.32787295 4.34104351 4.39080492\n",
      " 3.8210888  6.26147837 4.35219832 5.06733968 5.19973389 6.56264161\n",
      " 6.53473501 5.94216671 3.56668161 8.69568003 4.99726215 3.60902538\n",
      " 4.68032911 8.56655672 5.84271757 5.09623471 8.35058354 4.47206002\n",
      " 7.33000257 4.42810878 6.36752129 5.70105533 5.1956371  5.41638884\n",
      " 6.3734243  6.6016556  4.7179929  4.86689562 2.98546927 6.1157332\n",
      " 7.82572187 4.69948699 7.13575206 7.26098227 7.35008647 3.80207769\n",
      " 5.4090625  7.67697384 3.90698509 6.22664498 5.09578791 5.91155035\n",
      " 4.62558454 4.16998015 3.3546438  6.19796783 8.02736167 7.65201088\n",
      " 4.06477839 7.50956896 5.33574344 4.24577152 7.3841417  6.25038822\n",
      " 5.32611813 4.92617749 5.84644745 5.72411617 6.66722734 6.63943984\n",
      " 7.56047622 8.27273354 4.26227305 6.73249341 7.53743989 7.68280025\n",
      " 5.528077   6.47261234]\n"
     ]
    },
    {
     "data": {
      "text/plain": [
       "<matplotlib.text.Text at 0x10dec1828>"
      ]
     },
     "execution_count": 15,
     "metadata": {},
     "output_type": "execute_result"
    },
    {
     "data": {
      "image/png": "[encoded data removed]",
      "text/plain": [
       "<matplotlib.figure.Figure at 0x10d8589e8>"
      ]
     },
     "metadata": {},
     "output_type": "display_data"
    }
   ],
   "source": [
    "#Perform Gradient Descent on the following dataset\n",
    "\n",
    "humidity = np.random.rand(500)\n",
    "\n",
    "print('humidity values -\\n', humidity)\n",
    "\n",
    "rainfall = 4 + 3 * humidity+np.random.randn(500)\n",
    "\n",
    "print('rainfall values -\\n',rainfall)\n",
    "\n",
    "plt.figure()\n",
    "plt.plot(humidity,rainfall,'b.')\n",
    "plt.xlabel(\"$Humidity$\")\n",
    "plt.ylabel(\"$Rainfall (cm)$\")"
   ]
  },
  {
   "cell_type": "code",
   "execution_count": 16,
   "metadata": {},
   "outputs": [
    {
     "data": {
      "text/plain": [
       "[<matplotlib.lines.Line2D at 0x10ddc20b8>]"
      ]
     },
     "execution_count": 16,
     "metadata": {},
     "output_type": "execute_result"
    },
    {
     "data": {
      "image/png": "[encoded data removed]",
      "text/plain": [
       "<matplotlib.figure.Figure at 0x10ddc2e80>"
      ]
     },
     "metadata": {},
     "output_type": "display_data"
    }
   ],
   "source": [
    "gradient = 15\n",
    "\n",
    "plt.figure()\n",
    "plt.plot(humidity,rainfall,'b.')\n",
    "plt.xlabel(\"$Humidity$\")\n",
    "plt.ylabel(\"$Rainfall (cm)$\")\n",
    "\n",
    "line_y_coord = np.array([[0],[gradient]])\n",
    "line_x_coord = np.array([[0],[1]])\n",
    "plt.plot(line_x_coord, line_y_coord, 'r-')"
   ]
  },
  {
   "cell_type": "markdown",
   "metadata": {},
   "source": [
    "### INSTRUCTORS ONLY - SOLUTION"
   ]
  },
  {
   "cell_type": "code",
   "execution_count": 17,
   "metadata": {},
   "outputs": [
    {
     "name": "stdout",
     "output_type": "stream",
     "text": [
      "First Gradient: 14.917382349140595\n",
      "Final Gradient: 8.950602896785986\n",
      "First MSE/Loss: 4.152258064052585\n",
      "Final MSE/Loss: 2.2079025330718913\n"
     ]
    },
    {
     "data": {
      "image/png": "[encoded data removed]",
      "text/plain": [
       "<matplotlib.figure.Figure at 0x10eab9128>"
      ]
     },
     "metadata": {},
     "output_type": "display_data"
    }
   ],
   "source": [
    "def loss_this_iteration(gradient):\n",
    "\n",
    "    #figure out predictions by finding the rainfall point for a given humidity on our red line\n",
    "    predictions = np.stack(list(map(lambda x: gradient*x,humidity))).squeeze(axis=1)\n",
    "\n",
    "    #work out the errors in these predictions\n",
    "    rainfall_errors = rainfall - predictions\n",
    "\n",
    "    #calculate RMSE\n",
    "    loss = np.sqrt(np.mean(np.square(rainfall_errors)))\n",
    "\n",
    "    return predictions, rainfall_errors, loss\n",
    "\n",
    "def gradient_descent(humidity,rainfall,start_gradient,learning_rate=0.01,iterations=100):\n",
    "\n",
    "    #initialise our history, which will allow us to look back at the history of the process\n",
    "    loss_history = np.zeros(iterations)\n",
    "    gradient_history = np.zeros(iterations)\n",
    "    \n",
    "    #use our function from the previous chunk\n",
    "    predictions, rainfall_errors, loss = loss_this_iteration(start_gradient)\n",
    "    \n",
    "    #figure out how much we need to change the gradient next iteration\n",
    "    #n.b this is known as the 'partial derivative' in pure mathematics\n",
    "    gradient_change = -(2/len(humidity)) * sum(humidity * (rainfall_errors))\n",
    "\n",
    "    #change the gradient by some factor called the 'learning rate'\n",
    "    gradient = start_gradient - learning_rate * gradient_change\n",
    "        \n",
    "    #loop through the number of iterations, updating our line\n",
    "    for it in range(iterations):\n",
    "                \n",
    "        _, rainfall_errors, loss = loss_this_iteration(gradient)\n",
    "        loss_history[it]  = loss\n",
    "        \n",
    "        gradient_change = -(2/len(humidity)) * sum(humidity * rainfall_errors)\n",
    "\n",
    "        gradient = gradient - learning_rate * gradient_change\n",
    "        \n",
    "        gradient_history[it] = gradient\n",
    "        \n",
    "    return gradient, gradient_history, loss_history\n",
    "\n",
    "start_gradient = np.array([15])\n",
    "\n",
    "gradient, gradient_history, loss_history = gradient_descent(humidity,rainfall,start_gradient,learning_rate=0.01,iterations=2000)\n",
    "\n",
    "print('First Gradient: ' + str(gradient_history[0]))\n",
    "print('Final Gradient: ' + str(gradient_history[-1]))\n",
    "print('First MSE/Loss: ' + str(loss_history[0]))\n",
    "print('Final MSE/Loss: ' + str(loss_history[-1]))\n",
    "\n",
    "fig,ax = plt.subplots(figsize=(12,8))\n",
    "\n",
    "ax.set_ylabel('RMSE')\n",
    "ax.set_xlabel('Iterations')\n",
    "_=ax.plot(range(2000),loss_history,'b.')"
   ]
  },
  {
   "cell_type": "markdown",
   "metadata": {},
   "source": [
    "# Topic 3 - Regression Analysis with Scitkit Learn"
   ]
  },
  {
   "cell_type": "markdown",
   "metadata": {},
   "source": [
    "Now to look at some real weather data and perform some real regression analysis. The following dataset contains 96453 rows of weather observations including information on humidity, temperature and a description of precipitation and cloud cover. Since we don't have a continuous metric for rainfall, we will instead be modelling Apparent Temperature (C). The first step is to examine our data and think intuitively about which features will be useful in predicting Apparent Temperature."
   ]
  },
  {
   "cell_type": "markdown",
   "metadata": {},
   "source": [
    "## Scikit Learn Basics and Building a Simple Model"
   ]
  },
  {
   "cell_type": "code",
   "execution_count": 18,
   "metadata": {
    "collapsed": true
   },
   "outputs": [],
   "source": [
    "import pandas as pd\n",
    "from sklearn import linear_model\n",
    "from sklearn.metrics import mean_squared_error"
   ]
  },
  {
   "cell_type": "code",
   "execution_count": 19,
   "metadata": {},
   "outputs": [
    {
     "data": {
      "text/html": [
       "<div>\n",
       "<style scoped>\n",
       "    .dataframe tbody tr th:only-of-type {\n",
       "        vertical-align: middle;\n",
       "    }\n",
       "\n",
       "    .dataframe tbody tr th {\n",
       "        vertical-align: top;\n",
       "    }\n",
       "\n",
       "    .dataframe thead th {\n",
       "        text-align: right;\n",
       "    }\n",
       "</style>\n",
       "<table border=\"1\" class=\"dataframe\">\n",
       "  <thead>\n",
       "    <tr style=\"text-align: right;\">\n",
       "      <th></th>\n",
       "      <th>Formatted Date</th>\n",
       "      <th>Summary</th>\n",
       "      <th>Precip Type</th>\n",
       "      <th>Temperature (C)</th>\n",
       "      <th>Apparent Temperature (C)</th>\n",
       "      <th>Humidity</th>\n",
       "      <th>Wind Speed (km/h)</th>\n",
       "      <th>Wind Bearing (degrees)</th>\n",
       "      <th>Visibility (km)</th>\n",
       "      <th>Loud Cover</th>\n",
       "      <th>Pressure (millibars)</th>\n",
       "      <th>Daily Summary</th>\n",
       "    </tr>\n",
       "  </thead>\n",
       "  <tbody>\n",
       "    <tr>\n",
       "      <th>0</th>\n",
       "      <td>2006-04-01 00:00:00.000 +0200</td>\n",
       "      <td>Partly Cloudy</td>\n",
       "      <td>rain</td>\n",
       "      <td>9.472222</td>\n",
       "      <td>7.388889</td>\n",
       "      <td>0.89</td>\n",
       "      <td>14.1197</td>\n",
       "      <td>251.0</td>\n",
       "      <td>15.8263</td>\n",
       "      <td>0.0</td>\n",
       "      <td>1015.13</td>\n",
       "      <td>Partly cloudy throughout the day.</td>\n",
       "    </tr>\n",
       "    <tr>\n",
       "      <th>1</th>\n",
       "      <td>2006-04-01 01:00:00.000 +0200</td>\n",
       "      <td>Partly Cloudy</td>\n",
       "      <td>rain</td>\n",
       "      <td>9.355556</td>\n",
       "      <td>7.227778</td>\n",
       "      <td>0.86</td>\n",
       "      <td>14.2646</td>\n",
       "      <td>259.0</td>\n",
       "      <td>15.8263</td>\n",
       "      <td>0.0</td>\n",
       "      <td>1015.63</td>\n",
       "      <td>Partly cloudy throughout the day.</td>\n",
       "    </tr>\n",
       "    <tr>\n",
       "      <th>2</th>\n",
       "      <td>2006-04-01 02:00:00.000 +0200</td>\n",
       "      <td>Mostly Cloudy</td>\n",
       "      <td>rain</td>\n",
       "      <td>9.377778</td>\n",
       "      <td>9.377778</td>\n",
       "      <td>0.89</td>\n",
       "      <td>3.9284</td>\n",
       "      <td>204.0</td>\n",
       "      <td>14.9569</td>\n",
       "      <td>0.0</td>\n",
       "      <td>1015.94</td>\n",
       "      <td>Partly cloudy throughout the day.</td>\n",
       "    </tr>\n",
       "    <tr>\n",
       "      <th>3</th>\n",
       "      <td>2006-04-01 03:00:00.000 +0200</td>\n",
       "      <td>Partly Cloudy</td>\n",
       "      <td>rain</td>\n",
       "      <td>8.288889</td>\n",
       "      <td>5.944444</td>\n",
       "      <td>0.83</td>\n",
       "      <td>14.1036</td>\n",
       "      <td>269.0</td>\n",
       "      <td>15.8263</td>\n",
       "      <td>0.0</td>\n",
       "      <td>1016.41</td>\n",
       "      <td>Partly cloudy throughout the day.</td>\n",
       "    </tr>\n",
       "    <tr>\n",
       "      <th>4</th>\n",
       "      <td>2006-04-01 04:00:00.000 +0200</td>\n",
       "      <td>Mostly Cloudy</td>\n",
       "      <td>rain</td>\n",
       "      <td>8.755556</td>\n",
       "      <td>6.977778</td>\n",
       "      <td>0.83</td>\n",
       "      <td>11.0446</td>\n",
       "      <td>259.0</td>\n",
       "      <td>15.8263</td>\n",
       "      <td>0.0</td>\n",
       "      <td>1016.51</td>\n",
       "      <td>Partly cloudy throughout the day.</td>\n",
       "    </tr>\n",
       "  </tbody>\n",
       "</table>\n",
       "</div>"
      ],
      "text/plain": [
       "                  Formatted Date        Summary Precip Type  Temperature (C)  \\\n",
       "0  2006-04-01 00:00:00.000 +0200  Partly Cloudy        rain         9.472222   \n",
       "1  2006-04-01 01:00:00.000 +0200  Partly Cloudy        rain         9.355556   \n",
       "2  2006-04-01 02:00:00.000 +0200  Mostly Cloudy        rain         9.377778   \n",
       "3  2006-04-01 03:00:00.000 +0200  Partly Cloudy        rain         8.288889   \n",
       "4  2006-04-01 04:00:00.000 +0200  Mostly Cloudy        rain         8.755556   \n",
       "\n",
       "   Apparent Temperature (C)  Humidity  Wind Speed (km/h)  \\\n",
       "0                  7.388889      0.89            14.1197   \n",
       "1                  7.227778      0.86            14.2646   \n",
       "2                  9.377778      0.89             3.9284   \n",
       "3                  5.944444      0.83            14.1036   \n",
       "4                  6.977778      0.83            11.0446   \n",
       "\n",
       "   Wind Bearing (degrees)  Visibility (km)  Loud Cover  Pressure (millibars)  \\\n",
       "0                   251.0          15.8263         0.0               1015.13   \n",
       "1                   259.0          15.8263         0.0               1015.63   \n",
       "2                   204.0          14.9569         0.0               1015.94   \n",
       "3                   269.0          15.8263         0.0               1016.41   \n",
       "4                   259.0          15.8263         0.0               1016.51   \n",
       "\n",
       "                       Daily Summary  \n",
       "0  Partly cloudy throughout the day.  \n",
       "1  Partly cloudy throughout the day.  \n",
       "2  Partly cloudy throughout the day.  \n",
       "3  Partly cloudy throughout the day.  \n",
       "4  Partly cloudy throughout the day.  "
      ]
     },
     "execution_count": 19,
     "metadata": {},
     "output_type": "execute_result"
    }
   ],
   "source": [
    "df = pd.read_csv('weather.csv')\n",
    "df.head()"
   ]
  },
  {
   "cell_type": "markdown",
   "metadata": {},
   "source": [
    "Looking at the dataframe we can see a variety of data both numerical and catagorical. Humidity is likely to have an effect on temperature, so we reduce our dataframe to a more simple version with just these two data types using the .iloc() method of the dataframe, and giving a row reference : (which is a wildcard meaning all rows) and selecting columns [4,5] that contain our data of interest."
   ]
  },
  {
   "cell_type": "code",
   "execution_count": 20,
   "metadata": {},
   "outputs": [
    {
     "data": {
      "text/html": [
       "<div>\n",
       "<style scoped>\n",
       "    .dataframe tbody tr th:only-of-type {\n",
       "        vertical-align: middle;\n",
       "    }\n",
       "\n",
       "    .dataframe tbody tr th {\n",
       "        vertical-align: top;\n",
       "    }\n",
       "\n",
       "    .dataframe thead th {\n",
       "        text-align: right;\n",
       "    }\n",
       "</style>\n",
       "<table border=\"1\" class=\"dataframe\">\n",
       "  <thead>\n",
       "    <tr style=\"text-align: right;\">\n",
       "      <th></th>\n",
       "      <th>Apparent Temperature (C)</th>\n",
       "      <th>Humidity</th>\n",
       "    </tr>\n",
       "  </thead>\n",
       "  <tbody>\n",
       "    <tr>\n",
       "      <th>0</th>\n",
       "      <td>7.388889</td>\n",
       "      <td>0.89</td>\n",
       "    </tr>\n",
       "    <tr>\n",
       "      <th>1</th>\n",
       "      <td>7.227778</td>\n",
       "      <td>0.86</td>\n",
       "    </tr>\n",
       "    <tr>\n",
       "      <th>2</th>\n",
       "      <td>9.377778</td>\n",
       "      <td>0.89</td>\n",
       "    </tr>\n",
       "    <tr>\n",
       "      <th>3</th>\n",
       "      <td>5.944444</td>\n",
       "      <td>0.83</td>\n",
       "    </tr>\n",
       "    <tr>\n",
       "      <th>4</th>\n",
       "      <td>6.977778</td>\n",
       "      <td>0.83</td>\n",
       "    </tr>\n",
       "  </tbody>\n",
       "</table>\n",
       "</div>"
      ],
      "text/plain": [
       "   Apparent Temperature (C)  Humidity\n",
       "0                  7.388889      0.89\n",
       "1                  7.227778      0.86\n",
       "2                  9.377778      0.89\n",
       "3                  5.944444      0.83\n",
       "4                  6.977778      0.83"
      ]
     },
     "execution_count": 20,
     "metadata": {},
     "output_type": "execute_result"
    }
   ],
   "source": [
    "reg_df = df.iloc[:,[4,5]]\n",
    "\n",
    "reg_df.head()"
   ]
  },
  {
   "cell_type": "markdown",
   "metadata": {},
   "source": [
    "Let's start by examining this relationship. We transform to numpy arrays for plotting using the .values attribute of the dataframe, and plot in the same way as in previous exercises."
   ]
  },
  {
   "cell_type": "code",
   "execution_count": 21,
   "metadata": {},
   "outputs": [
    {
     "data": {
      "image/png": "[encoded data removed]",
      "text/plain": [
       "<matplotlib.figure.Figure at 0x108e5ad68>"
      ]
     },
     "metadata": {},
     "output_type": "display_data"
    }
   ],
   "source": [
    "#Our second column contains the humidity data, which is our feature\n",
    "x = reg_df.iloc[:,1].values\n",
    "\n",
    "#Our first column contains our label\n",
    "y = reg_df.iloc[:,0].values\n",
    "\n",
    "plt.figure()\n",
    "plt.plot(x,y,'b.')\n",
    "plt.xlabel(\"$Humidity$\")\n",
    "plt.ylabel(\"$Temp (C)$\")\n",
    "plt.show()"
   ]
  },
  {
   "cell_type": "markdown",
   "metadata": {},
   "source": [
    "Now, this data is looking rather cluttered. Points are layered on top of one and other and it's hard to tell where the bulk of them are. To get around this we can use a heatmap, which expresses density of points as different colours."
   ]
  },
  {
   "cell_type": "code",
   "execution_count": 22,
   "metadata": {},
   "outputs": [
    {
     "data": {
      "image/png": "[encoded data removed]",
      "text/plain": [
       "<matplotlib.figure.Figure at 0x10ee14358>"
      ]
     },
     "metadata": {},
     "output_type": "display_data"
    }
   ],
   "source": [
    "heatmap, xedges, yedges = np.histogram2d(x, y, bins=50)\n",
    "\n",
    "extent = [xedges[0], xedges[-1]*100, yedges[0], yedges[-1]]\n",
    "\n",
    "plt.clf()\n",
    "plt.imshow(heatmap.T, extent=extent, origin='lower')\n",
    "plt.xlabel(\"$Humidity$\")\n",
    "plt.ylabel(\"$Temp (C)$\")\n",
    "plt.show()"
   ]
  },
  {
   "cell_type": "markdown",
   "metadata": {},
   "source": [
    "That's a much clearer picture. As humidity increases, temperature will generally decrease. Now we can quantify this with a regression model.\n",
    "\n",
    "### The Scikit Learn Model\n",
    "\n",
    "Scikit learn works with model _instances_. We make a linear regression model by calling the .LinearRegression() method of our linear_model object we imported earlier, and saving this to model.\n",
    "\n",
    "Having done this, we can call _fit_.\n",
    "### Calling _fit()_ on the model\n",
    "\n",
    "_fit_ works by taking an input x and y.\n",
    "\n",
    "The x input should be a numpy matrix of features, in this case just one feature.\n",
    "\n",
    "The input y should be a numpy vector of labels that correspond to the features in x.\n",
    "\n",
    "n.b we call reshape(-1,1) on the x in this one dimensional instance because the matrix has to take a certain shape."
   ]
  },
  {
   "cell_type": "code",
   "execution_count": 23,
   "metadata": {
    "collapsed": true
   },
   "outputs": [],
   "source": [
    "model = linear_model.LinearRegression()\n",
    "\n",
    "reg = model.fit(X=x.reshape(-1,1),y=y)"
   ]
  },
  {
   "cell_type": "markdown",
   "metadata": {},
   "source": [
    "### Making Predictions with the Model\n",
    "\n",
    "Having called _fit()_ on the model, we are ready to get predictions. We do this by passing in a matrix of values to be used in predictions, in our case just the same training data again."
   ]
  },
  {
   "cell_type": "code",
   "execution_count": 24,
   "metadata": {
    "collapsed": true
   },
   "outputs": [],
   "source": [
    "predictions = reg.predict(x.reshape(-1,1))"
   ]
  },
  {
   "cell_type": "markdown",
   "metadata": {},
   "source": [
    "Now we can replot our heatmap with our new regression line."
   ]
  },
  {
   "cell_type": "code",
   "execution_count": 25,
   "metadata": {},
   "outputs": [
    {
     "data": {
      "image/png": "[encoded data removed]",
      "text/plain": [
       "<matplotlib.figure.Figure at 0x10d9a39b0>"
      ]
     },
     "metadata": {},
     "output_type": "display_data"
    }
   ],
   "source": [
    "heatmap, xedges, yedges = np.histogram2d(x, y, bins=50)\n",
    "\n",
    "extent = [xedges[0], xedges[-1]*100, yedges[0], yedges[-1]]\n",
    "\n",
    "plt.clf()\n",
    "plt.imshow(heatmap.T, extent=extent, origin='lower')\n",
    "plt.plot(x*100, predictions, color='black', linewidth=3)\n",
    "plt.show()"
   ]
  },
  {
   "cell_type": "markdown",
   "metadata": {},
   "source": [
    "This looks like a convincing model!\n",
    "\n",
    "Now we check the coefficients of each feature and the RMSE."
   ]
  },
  {
   "cell_type": "code",
   "execution_count": 26,
   "metadata": {},
   "outputs": [
    {
     "name": "stdout",
     "output_type": "stream",
     "text": [
      "Coefficients: \n",
      " Index(['Humidity'], dtype='object') [-0.3297447]\n",
      "Mean squared error: 72.88\n"
     ]
    }
   ],
   "source": [
    "print('Coefficients: \\n',reg_df.iloc[:,1:].columns, reg.coef_/100)\n",
    "# The mean squared error\n",
    "print(\"Mean squared error: %.2f\"\n",
    "      % mean_squared_error(y, predictions))"
   ]
  },
  {
   "cell_type": "markdown",
   "metadata": {},
   "source": [
    "For each percentage increase in humidity, the model predicts a 0.33 drop in degrees C. The model also has a MSE of 72.88."
   ]
  },
  {
   "cell_type": "markdown",
   "metadata": {},
   "source": [
    "Perhaps adding in Visibility might improve the model?"
   ]
  },
  {
   "cell_type": "code",
   "execution_count": 27,
   "metadata": {
    "collapsed": true
   },
   "outputs": [],
   "source": [
    "reg_df2 = df.iloc[:,[4,5,8]]\n",
    "\n",
    "x = reg_df2.iloc[:,1:].values\n",
    "\n",
    "y = reg_df2.iloc[:,0].values"
   ]
  },
  {
   "cell_type": "markdown",
   "metadata": {},
   "source": [
    "n.b because x now has more than one feature, we no longer need to call reshape when we predict."
   ]
  },
  {
   "cell_type": "code",
   "execution_count": 28,
   "metadata": {
    "collapsed": true
   },
   "outputs": [],
   "source": [
    "reg = linear_model.LinearRegression().fit(X=x,y=y)\n",
    "\n",
    "predictions = reg.predict(x)"
   ]
  },
  {
   "cell_type": "code",
   "execution_count": 29,
   "metadata": {},
   "outputs": [
    {
     "name": "stdout",
     "output_type": "stream",
     "text": [
      "Coefficients: \n",
      " Index(['Humidity', 'Visibility (km)'], dtype='object') [-29.24924285   0.47051729]\n",
      "Mean squared error: 69.52\n"
     ]
    }
   ],
   "source": [
    "print('Coefficients: \\n', reg_df2.iloc[:,1:].columns, reg.coef_)\n",
    "# The mean squared error\n",
    "print(\"Mean squared error: %.2f\"\n",
    "      % mean_squared_error(y, predictions))"
   ]
  },
  {
   "cell_type": "markdown",
   "metadata": {},
   "source": [
    "Including data for visibility has improved our model. For each km greater visibility the temperature is predicted to by 0.47 degrees c higher. \n",
    "\n",
    "Finally let's include whether the precipitation was snow or rain. This is a special type of feature called a 'dummy variable'. This means it can either take a value of 1 or 0. In our instance we want the feature to register as 1 if the precipitation was snow and 0 if it was rain.\n",
    "\n",
    "### Pandas 'get_dummies()' method\n",
    "\n",
    "This takes a column with a categorical variable and recodes it into n-1 columns, where n is the number of different possible values in the column. Since we only have 2 possible values, this method just makes one row.\n",
    "\n",
    "We repeat the same regression process as before, using a new feature for snow."
   ]
  },
  {
   "cell_type": "code",
   "execution_count": 30,
   "metadata": {
    "collapsed": true
   },
   "outputs": [],
   "source": [
    "reg_df3 = df.iloc[:,[4,2,5,8]]"
   ]
  },
  {
   "cell_type": "code",
   "execution_count": 31,
   "metadata": {},
   "outputs": [
    {
     "data": {
      "text/html": [
       "<div>\n",
       "<style scoped>\n",
       "    .dataframe tbody tr th:only-of-type {\n",
       "        vertical-align: middle;\n",
       "    }\n",
       "\n",
       "    .dataframe tbody tr th {\n",
       "        vertical-align: top;\n",
       "    }\n",
       "\n",
       "    .dataframe thead th {\n",
       "        text-align: right;\n",
       "    }\n",
       "</style>\n",
       "<table border=\"1\" class=\"dataframe\">\n",
       "  <thead>\n",
       "    <tr style=\"text-align: right;\">\n",
       "      <th></th>\n",
       "      <th>Apparent Temperature (C)</th>\n",
       "      <th>Humidity</th>\n",
       "      <th>Visibility (km)</th>\n",
       "      <th>snow</th>\n",
       "    </tr>\n",
       "  </thead>\n",
       "  <tbody>\n",
       "    <tr>\n",
       "      <th>0</th>\n",
       "      <td>7.388889</td>\n",
       "      <td>0.89</td>\n",
       "      <td>15.8263</td>\n",
       "      <td>0</td>\n",
       "    </tr>\n",
       "    <tr>\n",
       "      <th>1</th>\n",
       "      <td>7.227778</td>\n",
       "      <td>0.86</td>\n",
       "      <td>15.8263</td>\n",
       "      <td>0</td>\n",
       "    </tr>\n",
       "    <tr>\n",
       "      <th>2</th>\n",
       "      <td>9.377778</td>\n",
       "      <td>0.89</td>\n",
       "      <td>14.9569</td>\n",
       "      <td>0</td>\n",
       "    </tr>\n",
       "    <tr>\n",
       "      <th>3</th>\n",
       "      <td>5.944444</td>\n",
       "      <td>0.83</td>\n",
       "      <td>15.8263</td>\n",
       "      <td>0</td>\n",
       "    </tr>\n",
       "    <tr>\n",
       "      <th>4</th>\n",
       "      <td>6.977778</td>\n",
       "      <td>0.83</td>\n",
       "      <td>15.8263</td>\n",
       "      <td>0</td>\n",
       "    </tr>\n",
       "  </tbody>\n",
       "</table>\n",
       "</div>"
      ],
      "text/plain": [
       "   Apparent Temperature (C)  Humidity  Visibility (km)  snow\n",
       "0                  7.388889      0.89          15.8263     0\n",
       "1                  7.227778      0.86          15.8263     0\n",
       "2                  9.377778      0.89          14.9569     0\n",
       "3                  5.944444      0.83          15.8263     0\n",
       "4                  6.977778      0.83          15.8263     0"
      ]
     },
     "execution_count": 31,
     "metadata": {},
     "output_type": "execute_result"
    }
   ],
   "source": [
    "dummies = pd.get_dummies(reg_df3['Precip Type'], drop_first=True)\n",
    "\n",
    "reg_df3 = reg_df3.join(dummies).drop(['Precip Type'], axis=1)\n",
    "\n",
    "reg_df3.head()"
   ]
  },
  {
   "cell_type": "code",
   "execution_count": 32,
   "metadata": {
    "collapsed": true
   },
   "outputs": [],
   "source": [
    "x = reg_df3.iloc[:,1:].values\n",
    "\n",
    "y = reg_df3.iloc[:,0].values"
   ]
  },
  {
   "cell_type": "code",
   "execution_count": 33,
   "metadata": {
    "collapsed": true
   },
   "outputs": [],
   "source": [
    "reg = linear_model.LinearRegression().fit(X=x,y=y)\n",
    "\n",
    "predictions = reg.predict(x)"
   ]
  },
  {
   "cell_type": "code",
   "execution_count": 34,
   "metadata": {},
   "outputs": [
    {
     "name": "stdout",
     "output_type": "stream",
     "text": [
      "Coefficients: \n",
      " Index(['Humidity', 'Visibility (km)', 'snow'], dtype='object') [-26.05311236   0.18016205 -14.72771303]\n",
      "Mean squared error: 50.53\n"
     ]
    }
   ],
   "source": [
    "print('Coefficients: \\n', reg_df3.iloc[:,1:].columns, reg.coef_)\n",
    "# The mean squared error\n",
    "print(\"Mean squared error: %.2f\"\n",
    "      % mean_squared_error(y, predictions))"
   ]
  },
  {
   "cell_type": "markdown",
   "metadata": {},
   "source": [
    "This snow feature is highly predictive, it is associated on average with a 14.7 degree C decrease in the temperature.\n",
    "\n",
    "Congratulations, you have built a regression model using scikit learn and improved significantly on the predictive power by adding in new features."
   ]
  },
  {
   "cell_type": "markdown",
   "metadata": {},
   "source": [
    "# Regression Analysis - Activity"
   ]
  },
  {
   "cell_type": "markdown",
   "metadata": {},
   "source": [
    "1. Perform regression analysis on the following dataset taken from passengers on the titanic. Initially you are to use age to predict the cost of a ticket. How effective is this model?\n",
    "\n",
    "2. Make a new model with features from Pclass using 'get dummies' and report the new rmse error. Have you improved on your original model?"
   ]
  },
  {
   "cell_type": "markdown",
   "metadata": {},
   "source": [
    "### INSTRUCTORS ONLY - SOLUTION"
   ]
  },
  {
   "cell_type": "code",
   "execution_count": 35,
   "metadata": {},
   "outputs": [
    {
     "data": {
      "text/html": [
       "<div>\n",
       "<style scoped>\n",
       "    .dataframe tbody tr th:only-of-type {\n",
       "        vertical-align: middle;\n",
       "    }\n",
       "\n",
       "    .dataframe tbody tr th {\n",
       "        vertical-align: top;\n",
       "    }\n",
       "\n",
       "    .dataframe thead th {\n",
       "        text-align: right;\n",
       "    }\n",
       "</style>\n",
       "<table border=\"1\" class=\"dataframe\">\n",
       "  <thead>\n",
       "    <tr style=\"text-align: right;\">\n",
       "      <th></th>\n",
       "      <th>Unnamed: 0</th>\n",
       "      <th>Cabin</th>\n",
       "      <th>Embarked</th>\n",
       "      <th>Fare</th>\n",
       "      <th>Pclass</th>\n",
       "      <th>Ticket</th>\n",
       "      <th>Age</th>\n",
       "      <th>Name</th>\n",
       "      <th>Parch</th>\n",
       "      <th>Sex</th>\n",
       "      <th>SibSp</th>\n",
       "      <th>Survived</th>\n",
       "    </tr>\n",
       "  </thead>\n",
       "  <tbody>\n",
       "    <tr>\n",
       "      <th>0</th>\n",
       "      <td>0</td>\n",
       "      <td>NaN</td>\n",
       "      <td>S</td>\n",
       "      <td>7.2500</td>\n",
       "      <td>3</td>\n",
       "      <td>A/5 21171</td>\n",
       "      <td>22.0</td>\n",
       "      <td>Braund, Mr. Owen Harris</td>\n",
       "      <td>0</td>\n",
       "      <td>male</td>\n",
       "      <td>1</td>\n",
       "      <td>0.0</td>\n",
       "    </tr>\n",
       "    <tr>\n",
       "      <th>1</th>\n",
       "      <td>1</td>\n",
       "      <td>C85</td>\n",
       "      <td>C</td>\n",
       "      <td>71.2833</td>\n",
       "      <td>1</td>\n",
       "      <td>PC 17599</td>\n",
       "      <td>38.0</td>\n",
       "      <td>Cumings, Mrs. John Bradley (Florence Briggs Th...</td>\n",
       "      <td>0</td>\n",
       "      <td>female</td>\n",
       "      <td>1</td>\n",
       "      <td>1.0</td>\n",
       "    </tr>\n",
       "    <tr>\n",
       "      <th>2</th>\n",
       "      <td>2</td>\n",
       "      <td>NaN</td>\n",
       "      <td>S</td>\n",
       "      <td>7.9250</td>\n",
       "      <td>3</td>\n",
       "      <td>STON/O2. 3101282</td>\n",
       "      <td>26.0</td>\n",
       "      <td>Heikkinen, Miss. Laina</td>\n",
       "      <td>0</td>\n",
       "      <td>female</td>\n",
       "      <td>0</td>\n",
       "      <td>1.0</td>\n",
       "    </tr>\n",
       "    <tr>\n",
       "      <th>3</th>\n",
       "      <td>3</td>\n",
       "      <td>C123</td>\n",
       "      <td>S</td>\n",
       "      <td>53.1000</td>\n",
       "      <td>1</td>\n",
       "      <td>113803</td>\n",
       "      <td>35.0</td>\n",
       "      <td>Futrelle, Mrs. Jacques Heath (Lily May Peel)</td>\n",
       "      <td>0</td>\n",
       "      <td>female</td>\n",
       "      <td>1</td>\n",
       "      <td>1.0</td>\n",
       "    </tr>\n",
       "    <tr>\n",
       "      <th>4</th>\n",
       "      <td>4</td>\n",
       "      <td>NaN</td>\n",
       "      <td>S</td>\n",
       "      <td>8.0500</td>\n",
       "      <td>3</td>\n",
       "      <td>373450</td>\n",
       "      <td>35.0</td>\n",
       "      <td>Allen, Mr. William Henry</td>\n",
       "      <td>0</td>\n",
       "      <td>male</td>\n",
       "      <td>0</td>\n",
       "      <td>0.0</td>\n",
       "    </tr>\n",
       "    <tr>\n",
       "      <th>5</th>\n",
       "      <td>5</td>\n",
       "      <td>NaN</td>\n",
       "      <td>Q</td>\n",
       "      <td>8.4583</td>\n",
       "      <td>3</td>\n",
       "      <td>330877</td>\n",
       "      <td>NaN</td>\n",
       "      <td>Moran, Mr. James</td>\n",
       "      <td>0</td>\n",
       "      <td>male</td>\n",
       "      <td>0</td>\n",
       "      <td>0.0</td>\n",
       "    </tr>\n",
       "    <tr>\n",
       "      <th>6</th>\n",
       "      <td>6</td>\n",
       "      <td>E46</td>\n",
       "      <td>S</td>\n",
       "      <td>51.8625</td>\n",
       "      <td>1</td>\n",
       "      <td>17463</td>\n",
       "      <td>54.0</td>\n",
       "      <td>McCarthy, Mr. Timothy J</td>\n",
       "      <td>0</td>\n",
       "      <td>male</td>\n",
       "      <td>0</td>\n",
       "      <td>0.0</td>\n",
       "    </tr>\n",
       "    <tr>\n",
       "      <th>7</th>\n",
       "      <td>7</td>\n",
       "      <td>NaN</td>\n",
       "      <td>S</td>\n",
       "      <td>21.0750</td>\n",
       "      <td>3</td>\n",
       "      <td>349909</td>\n",
       "      <td>2.0</td>\n",
       "      <td>Palsson, Master. Gosta Leonard</td>\n",
       "      <td>1</td>\n",
       "      <td>male</td>\n",
       "      <td>3</td>\n",
       "      <td>0.0</td>\n",
       "    </tr>\n",
       "    <tr>\n",
       "      <th>8</th>\n",
       "      <td>8</td>\n",
       "      <td>NaN</td>\n",
       "      <td>S</td>\n",
       "      <td>11.1333</td>\n",
       "      <td>3</td>\n",
       "      <td>347742</td>\n",
       "      <td>27.0</td>\n",
       "      <td>Johnson, Mrs. Oscar W (Elisabeth Vilhelmina Berg)</td>\n",
       "      <td>2</td>\n",
       "      <td>female</td>\n",
       "      <td>0</td>\n",
       "      <td>1.0</td>\n",
       "    </tr>\n",
       "    <tr>\n",
       "      <th>9</th>\n",
       "      <td>9</td>\n",
       "      <td>NaN</td>\n",
       "      <td>C</td>\n",
       "      <td>30.0708</td>\n",
       "      <td>2</td>\n",
       "      <td>237736</td>\n",
       "      <td>14.0</td>\n",
       "      <td>Nasser, Mrs. Nicholas (Adele Achem)</td>\n",
       "      <td>0</td>\n",
       "      <td>female</td>\n",
       "      <td>1</td>\n",
       "      <td>1.0</td>\n",
       "    </tr>\n",
       "    <tr>\n",
       "      <th>10</th>\n",
       "      <td>10</td>\n",
       "      <td>G6</td>\n",
       "      <td>S</td>\n",
       "      <td>16.7000</td>\n",
       "      <td>3</td>\n",
       "      <td>PP 9549</td>\n",
       "      <td>4.0</td>\n",
       "      <td>Sandstrom, Miss. Marguerite Rut</td>\n",
       "      <td>1</td>\n",
       "      <td>female</td>\n",
       "      <td>1</td>\n",
       "      <td>1.0</td>\n",
       "    </tr>\n",
       "    <tr>\n",
       "      <th>11</th>\n",
       "      <td>11</td>\n",
       "      <td>C103</td>\n",
       "      <td>S</td>\n",
       "      <td>26.5500</td>\n",
       "      <td>1</td>\n",
       "      <td>113783</td>\n",
       "      <td>58.0</td>\n",
       "      <td>Bonnell, Miss. Elizabeth</td>\n",
       "      <td>0</td>\n",
       "      <td>female</td>\n",
       "      <td>0</td>\n",
       "      <td>1.0</td>\n",
       "    </tr>\n",
       "    <tr>\n",
       "      <th>12</th>\n",
       "      <td>12</td>\n",
       "      <td>NaN</td>\n",
       "      <td>S</td>\n",
       "      <td>8.0500</td>\n",
       "      <td>3</td>\n",
       "      <td>A/5. 2151</td>\n",
       "      <td>20.0</td>\n",
       "      <td>Saundercock, Mr. William Henry</td>\n",
       "      <td>0</td>\n",
       "      <td>male</td>\n",
       "      <td>0</td>\n",
       "      <td>0.0</td>\n",
       "    </tr>\n",
       "    <tr>\n",
       "      <th>13</th>\n",
       "      <td>13</td>\n",
       "      <td>NaN</td>\n",
       "      <td>S</td>\n",
       "      <td>31.2750</td>\n",
       "      <td>3</td>\n",
       "      <td>347082</td>\n",
       "      <td>39.0</td>\n",
       "      <td>Andersson, Mr. Anders Johan</td>\n",
       "      <td>5</td>\n",
       "      <td>male</td>\n",
       "      <td>1</td>\n",
       "      <td>0.0</td>\n",
       "    </tr>\n",
       "    <tr>\n",
       "      <th>14</th>\n",
       "      <td>14</td>\n",
       "      <td>NaN</td>\n",
       "      <td>S</td>\n",
       "      <td>7.8542</td>\n",
       "      <td>3</td>\n",
       "      <td>350406</td>\n",
       "      <td>14.0</td>\n",
       "      <td>Vestrom, Miss. Hulda Amanda Adolfina</td>\n",
       "      <td>0</td>\n",
       "      <td>female</td>\n",
       "      <td>0</td>\n",
       "      <td>0.0</td>\n",
       "    </tr>\n",
       "    <tr>\n",
       "      <th>15</th>\n",
       "      <td>15</td>\n",
       "      <td>NaN</td>\n",
       "      <td>S</td>\n",
       "      <td>16.0000</td>\n",
       "      <td>2</td>\n",
       "      <td>248706</td>\n",
       "      <td>55.0</td>\n",
       "      <td>Hewlett, Mrs. (Mary D Kingcome)</td>\n",
       "      <td>0</td>\n",
       "      <td>female</td>\n",
       "      <td>0</td>\n",
       "      <td>1.0</td>\n",
       "    </tr>\n",
       "    <tr>\n",
       "      <th>16</th>\n",
       "      <td>16</td>\n",
       "      <td>NaN</td>\n",
       "      <td>Q</td>\n",
       "      <td>29.1250</td>\n",
       "      <td>3</td>\n",
       "      <td>382652</td>\n",
       "      <td>2.0</td>\n",
       "      <td>Rice, Master. Eugene</td>\n",
       "      <td>1</td>\n",
       "      <td>male</td>\n",
       "      <td>4</td>\n",
       "      <td>0.0</td>\n",
       "    </tr>\n",
       "    <tr>\n",
       "      <th>17</th>\n",
       "      <td>17</td>\n",
       "      <td>NaN</td>\n",
       "      <td>S</td>\n",
       "      <td>13.0000</td>\n",
       "      <td>2</td>\n",
       "      <td>244373</td>\n",
       "      <td>NaN</td>\n",
       "      <td>Williams, Mr. Charles Eugene</td>\n",
       "      <td>0</td>\n",
       "      <td>male</td>\n",
       "      <td>0</td>\n",
       "      <td>1.0</td>\n",
       "    </tr>\n",
       "    <tr>\n",
       "      <th>18</th>\n",
       "      <td>18</td>\n",
       "      <td>NaN</td>\n",
       "      <td>S</td>\n",
       "      <td>18.0000</td>\n",
       "      <td>3</td>\n",
       "      <td>345763</td>\n",
       "      <td>31.0</td>\n",
       "      <td>Vander Planke, Mrs. Julius (Emelia Maria Vande...</td>\n",
       "      <td>0</td>\n",
       "      <td>female</td>\n",
       "      <td>1</td>\n",
       "      <td>0.0</td>\n",
       "    </tr>\n",
       "    <tr>\n",
       "      <th>19</th>\n",
       "      <td>19</td>\n",
       "      <td>NaN</td>\n",
       "      <td>C</td>\n",
       "      <td>7.2250</td>\n",
       "      <td>3</td>\n",
       "      <td>2649</td>\n",
       "      <td>NaN</td>\n",
       "      <td>Masselmani, Mrs. Fatima</td>\n",
       "      <td>0</td>\n",
       "      <td>female</td>\n",
       "      <td>0</td>\n",
       "      <td>1.0</td>\n",
       "    </tr>\n",
       "    <tr>\n",
       "      <th>20</th>\n",
       "      <td>20</td>\n",
       "      <td>NaN</td>\n",
       "      <td>S</td>\n",
       "      <td>26.0000</td>\n",
       "      <td>2</td>\n",
       "      <td>239865</td>\n",
       "      <td>35.0</td>\n",
       "      <td>Fynney, Mr. Joseph J</td>\n",
       "      <td>0</td>\n",
       "      <td>male</td>\n",
       "      <td>0</td>\n",
       "      <td>0.0</td>\n",
       "    </tr>\n",
       "    <tr>\n",
       "      <th>21</th>\n",
       "      <td>21</td>\n",
       "      <td>D56</td>\n",
       "      <td>S</td>\n",
       "      <td>13.0000</td>\n",
       "      <td>2</td>\n",
       "      <td>248698</td>\n",
       "      <td>34.0</td>\n",
       "      <td>Beesley, Mr. Lawrence</td>\n",
       "      <td>0</td>\n",
       "      <td>male</td>\n",
       "      <td>0</td>\n",
       "      <td>1.0</td>\n",
       "    </tr>\n",
       "    <tr>\n",
       "      <th>22</th>\n",
       "      <td>22</td>\n",
       "      <td>NaN</td>\n",
       "      <td>Q</td>\n",
       "      <td>8.0292</td>\n",
       "      <td>3</td>\n",
       "      <td>330923</td>\n",
       "      <td>15.0</td>\n",
       "      <td>McGowan, Miss. Anna \"Annie\"</td>\n",
       "      <td>0</td>\n",
       "      <td>female</td>\n",
       "      <td>0</td>\n",
       "      <td>1.0</td>\n",
       "    </tr>\n",
       "    <tr>\n",
       "      <th>23</th>\n",
       "      <td>23</td>\n",
       "      <td>A6</td>\n",
       "      <td>S</td>\n",
       "      <td>35.5000</td>\n",
       "      <td>1</td>\n",
       "      <td>113788</td>\n",
       "      <td>28.0</td>\n",
       "      <td>Sloper, Mr. William Thompson</td>\n",
       "      <td>0</td>\n",
       "      <td>male</td>\n",
       "      <td>0</td>\n",
       "      <td>1.0</td>\n",
       "    </tr>\n",
       "    <tr>\n",
       "      <th>24</th>\n",
       "      <td>24</td>\n",
       "      <td>NaN</td>\n",
       "      <td>S</td>\n",
       "      <td>21.0750</td>\n",
       "      <td>3</td>\n",
       "      <td>349909</td>\n",
       "      <td>8.0</td>\n",
       "      <td>Palsson, Miss. Torborg Danira</td>\n",
       "      <td>1</td>\n",
       "      <td>female</td>\n",
       "      <td>3</td>\n",
       "      <td>0.0</td>\n",
       "    </tr>\n",
       "    <tr>\n",
       "      <th>25</th>\n",
       "      <td>25</td>\n",
       "      <td>NaN</td>\n",
       "      <td>S</td>\n",
       "      <td>31.3875</td>\n",
       "      <td>3</td>\n",
       "      <td>347077</td>\n",
       "      <td>38.0</td>\n",
       "      <td>Asplund, Mrs. Carl Oscar (Selma Augusta Emilia...</td>\n",
       "      <td>5</td>\n",
       "      <td>female</td>\n",
       "      <td>1</td>\n",
       "      <td>1.0</td>\n",
       "    </tr>\n",
       "    <tr>\n",
       "      <th>26</th>\n",
       "      <td>26</td>\n",
       "      <td>NaN</td>\n",
       "      <td>C</td>\n",
       "      <td>7.2250</td>\n",
       "      <td>3</td>\n",
       "      <td>2631</td>\n",
       "      <td>NaN</td>\n",
       "      <td>Emir, Mr. Farred Chehab</td>\n",
       "      <td>0</td>\n",
       "      <td>male</td>\n",
       "      <td>0</td>\n",
       "      <td>0.0</td>\n",
       "    </tr>\n",
       "    <tr>\n",
       "      <th>27</th>\n",
       "      <td>27</td>\n",
       "      <td>C23 C25 C27</td>\n",
       "      <td>S</td>\n",
       "      <td>263.0000</td>\n",
       "      <td>1</td>\n",
       "      <td>19950</td>\n",
       "      <td>19.0</td>\n",
       "      <td>Fortune, Mr. Charles Alexander</td>\n",
       "      <td>2</td>\n",
       "      <td>male</td>\n",
       "      <td>3</td>\n",
       "      <td>0.0</td>\n",
       "    </tr>\n",
       "    <tr>\n",
       "      <th>28</th>\n",
       "      <td>28</td>\n",
       "      <td>NaN</td>\n",
       "      <td>Q</td>\n",
       "      <td>7.8792</td>\n",
       "      <td>3</td>\n",
       "      <td>330959</td>\n",
       "      <td>NaN</td>\n",
       "      <td>O'Dwyer, Miss. Ellen \"Nellie\"</td>\n",
       "      <td>0</td>\n",
       "      <td>female</td>\n",
       "      <td>0</td>\n",
       "      <td>1.0</td>\n",
       "    </tr>\n",
       "    <tr>\n",
       "      <th>29</th>\n",
       "      <td>29</td>\n",
       "      <td>NaN</td>\n",
       "      <td>S</td>\n",
       "      <td>7.8958</td>\n",
       "      <td>3</td>\n",
       "      <td>349216</td>\n",
       "      <td>NaN</td>\n",
       "      <td>Todoroff, Mr. Lalio</td>\n",
       "      <td>0</td>\n",
       "      <td>male</td>\n",
       "      <td>0</td>\n",
       "      <td>0.0</td>\n",
       "    </tr>\n",
       "    <tr>\n",
       "      <th>...</th>\n",
       "      <td>...</td>\n",
       "      <td>...</td>\n",
       "      <td>...</td>\n",
       "      <td>...</td>\n",
       "      <td>...</td>\n",
       "      <td>...</td>\n",
       "      <td>...</td>\n",
       "      <td>...</td>\n",
       "      <td>...</td>\n",
       "      <td>...</td>\n",
       "      <td>...</td>\n",
       "      <td>...</td>\n",
       "    </tr>\n",
       "    <tr>\n",
       "      <th>1279</th>\n",
       "      <td>1279</td>\n",
       "      <td>NaN</td>\n",
       "      <td>Q</td>\n",
       "      <td>7.7500</td>\n",
       "      <td>3</td>\n",
       "      <td>364858</td>\n",
       "      <td>21.0</td>\n",
       "      <td>Canavan, Mr. Patrick</td>\n",
       "      <td>0</td>\n",
       "      <td>male</td>\n",
       "      <td>0</td>\n",
       "      <td>NaN</td>\n",
       "    </tr>\n",
       "    <tr>\n",
       "      <th>1280</th>\n",
       "      <td>1280</td>\n",
       "      <td>NaN</td>\n",
       "      <td>S</td>\n",
       "      <td>21.0750</td>\n",
       "      <td>3</td>\n",
       "      <td>349909</td>\n",
       "      <td>6.0</td>\n",
       "      <td>Palsson, Master. Paul Folke</td>\n",
       "      <td>1</td>\n",
       "      <td>male</td>\n",
       "      <td>3</td>\n",
       "      <td>NaN</td>\n",
       "    </tr>\n",
       "    <tr>\n",
       "      <th>1281</th>\n",
       "      <td>1281</td>\n",
       "      <td>B24</td>\n",
       "      <td>S</td>\n",
       "      <td>93.5000</td>\n",
       "      <td>1</td>\n",
       "      <td>12749</td>\n",
       "      <td>23.0</td>\n",
       "      <td>Payne, Mr. Vivian Ponsonby</td>\n",
       "      <td>0</td>\n",
       "      <td>male</td>\n",
       "      <td>0</td>\n",
       "      <td>NaN</td>\n",
       "    </tr>\n",
       "    <tr>\n",
       "      <th>1282</th>\n",
       "      <td>1282</td>\n",
       "      <td>D28</td>\n",
       "      <td>S</td>\n",
       "      <td>39.4000</td>\n",
       "      <td>1</td>\n",
       "      <td>PC 17592</td>\n",
       "      <td>51.0</td>\n",
       "      <td>Lines, Mrs. Ernest H (Elizabeth Lindsey James)</td>\n",
       "      <td>1</td>\n",
       "      <td>female</td>\n",
       "      <td>0</td>\n",
       "      <td>NaN</td>\n",
       "    </tr>\n",
       "    <tr>\n",
       "      <th>1283</th>\n",
       "      <td>1283</td>\n",
       "      <td>NaN</td>\n",
       "      <td>S</td>\n",
       "      <td>20.2500</td>\n",
       "      <td>3</td>\n",
       "      <td>C.A. 2673</td>\n",
       "      <td>13.0</td>\n",
       "      <td>Abbott, Master. Eugene Joseph</td>\n",
       "      <td>2</td>\n",
       "      <td>male</td>\n",
       "      <td>0</td>\n",
       "      <td>NaN</td>\n",
       "    </tr>\n",
       "    <tr>\n",
       "      <th>1284</th>\n",
       "      <td>1284</td>\n",
       "      <td>NaN</td>\n",
       "      <td>S</td>\n",
       "      <td>10.5000</td>\n",
       "      <td>2</td>\n",
       "      <td>C.A. 30769</td>\n",
       "      <td>47.0</td>\n",
       "      <td>Gilbert, Mr. William</td>\n",
       "      <td>0</td>\n",
       "      <td>male</td>\n",
       "      <td>0</td>\n",
       "      <td>NaN</td>\n",
       "    </tr>\n",
       "    <tr>\n",
       "      <th>1285</th>\n",
       "      <td>1285</td>\n",
       "      <td>NaN</td>\n",
       "      <td>S</td>\n",
       "      <td>22.0250</td>\n",
       "      <td>3</td>\n",
       "      <td>315153</td>\n",
       "      <td>29.0</td>\n",
       "      <td>Kink-Heilmann, Mr. Anton</td>\n",
       "      <td>1</td>\n",
       "      <td>male</td>\n",
       "      <td>3</td>\n",
       "      <td>NaN</td>\n",
       "    </tr>\n",
       "    <tr>\n",
       "      <th>1286</th>\n",
       "      <td>1286</td>\n",
       "      <td>C31</td>\n",
       "      <td>S</td>\n",
       "      <td>60.0000</td>\n",
       "      <td>1</td>\n",
       "      <td>13695</td>\n",
       "      <td>18.0</td>\n",
       "      <td>Smith, Mrs. Lucien Philip (Mary Eloise Hughes)</td>\n",
       "      <td>0</td>\n",
       "      <td>female</td>\n",
       "      <td>1</td>\n",
       "      <td>NaN</td>\n",
       "    </tr>\n",
       "    <tr>\n",
       "      <th>1287</th>\n",
       "      <td>1287</td>\n",
       "      <td>NaN</td>\n",
       "      <td>Q</td>\n",
       "      <td>7.2500</td>\n",
       "      <td>3</td>\n",
       "      <td>371109</td>\n",
       "      <td>24.0</td>\n",
       "      <td>Colbert, Mr. Patrick</td>\n",
       "      <td>0</td>\n",
       "      <td>male</td>\n",
       "      <td>0</td>\n",
       "      <td>NaN</td>\n",
       "    </tr>\n",
       "    <tr>\n",
       "      <th>1288</th>\n",
       "      <td>1288</td>\n",
       "      <td>B41</td>\n",
       "      <td>C</td>\n",
       "      <td>79.2000</td>\n",
       "      <td>1</td>\n",
       "      <td>13567</td>\n",
       "      <td>48.0</td>\n",
       "      <td>Frolicher-Stehli, Mrs. Maxmillian (Margaretha ...</td>\n",
       "      <td>1</td>\n",
       "      <td>female</td>\n",
       "      <td>1</td>\n",
       "      <td>NaN</td>\n",
       "    </tr>\n",
       "    <tr>\n",
       "      <th>1289</th>\n",
       "      <td>1289</td>\n",
       "      <td>NaN</td>\n",
       "      <td>S</td>\n",
       "      <td>7.7750</td>\n",
       "      <td>3</td>\n",
       "      <td>347065</td>\n",
       "      <td>22.0</td>\n",
       "      <td>Larsson-Rondberg, Mr. Edvard A</td>\n",
       "      <td>0</td>\n",
       "      <td>male</td>\n",
       "      <td>0</td>\n",
       "      <td>NaN</td>\n",
       "    </tr>\n",
       "    <tr>\n",
       "      <th>1290</th>\n",
       "      <td>1290</td>\n",
       "      <td>NaN</td>\n",
       "      <td>Q</td>\n",
       "      <td>7.7333</td>\n",
       "      <td>3</td>\n",
       "      <td>21332</td>\n",
       "      <td>31.0</td>\n",
       "      <td>Conlon, Mr. Thomas Henry</td>\n",
       "      <td>0</td>\n",
       "      <td>male</td>\n",
       "      <td>0</td>\n",
       "      <td>NaN</td>\n",
       "    </tr>\n",
       "    <tr>\n",
       "      <th>1291</th>\n",
       "      <td>1291</td>\n",
       "      <td>C7</td>\n",
       "      <td>S</td>\n",
       "      <td>164.8667</td>\n",
       "      <td>1</td>\n",
       "      <td>36928</td>\n",
       "      <td>30.0</td>\n",
       "      <td>Bonnell, Miss. Caroline</td>\n",
       "      <td>0</td>\n",
       "      <td>female</td>\n",
       "      <td>0</td>\n",
       "      <td>NaN</td>\n",
       "    </tr>\n",
       "    <tr>\n",
       "      <th>1292</th>\n",
       "      <td>1292</td>\n",
       "      <td>NaN</td>\n",
       "      <td>S</td>\n",
       "      <td>21.0000</td>\n",
       "      <td>2</td>\n",
       "      <td>28664</td>\n",
       "      <td>38.0</td>\n",
       "      <td>Gale, Mr. Harry</td>\n",
       "      <td>0</td>\n",
       "      <td>male</td>\n",
       "      <td>1</td>\n",
       "      <td>NaN</td>\n",
       "    </tr>\n",
       "    <tr>\n",
       "      <th>1293</th>\n",
       "      <td>1293</td>\n",
       "      <td>NaN</td>\n",
       "      <td>C</td>\n",
       "      <td>59.4000</td>\n",
       "      <td>1</td>\n",
       "      <td>112378</td>\n",
       "      <td>22.0</td>\n",
       "      <td>Gibson, Miss. Dorothy Winifred</td>\n",
       "      <td>1</td>\n",
       "      <td>female</td>\n",
       "      <td>0</td>\n",
       "      <td>NaN</td>\n",
       "    </tr>\n",
       "    <tr>\n",
       "      <th>1294</th>\n",
       "      <td>1294</td>\n",
       "      <td>NaN</td>\n",
       "      <td>S</td>\n",
       "      <td>47.1000</td>\n",
       "      <td>1</td>\n",
       "      <td>113059</td>\n",
       "      <td>17.0</td>\n",
       "      <td>Carrau, Mr. Jose Pedro</td>\n",
       "      <td>0</td>\n",
       "      <td>male</td>\n",
       "      <td>0</td>\n",
       "      <td>NaN</td>\n",
       "    </tr>\n",
       "    <tr>\n",
       "      <th>1295</th>\n",
       "      <td>1295</td>\n",
       "      <td>D40</td>\n",
       "      <td>C</td>\n",
       "      <td>27.7208</td>\n",
       "      <td>1</td>\n",
       "      <td>17765</td>\n",
       "      <td>43.0</td>\n",
       "      <td>Frauenthal, Mr. Isaac Gerald</td>\n",
       "      <td>0</td>\n",
       "      <td>male</td>\n",
       "      <td>1</td>\n",
       "      <td>NaN</td>\n",
       "    </tr>\n",
       "    <tr>\n",
       "      <th>1296</th>\n",
       "      <td>1296</td>\n",
       "      <td>D38</td>\n",
       "      <td>C</td>\n",
       "      <td>13.8625</td>\n",
       "      <td>2</td>\n",
       "      <td>SC/PARIS 2166</td>\n",
       "      <td>20.0</td>\n",
       "      <td>Nourney, Mr. Alfred (Baron von Drachstedt\")\"</td>\n",
       "      <td>0</td>\n",
       "      <td>male</td>\n",
       "      <td>0</td>\n",
       "      <td>NaN</td>\n",
       "    </tr>\n",
       "    <tr>\n",
       "      <th>1297</th>\n",
       "      <td>1297</td>\n",
       "      <td>NaN</td>\n",
       "      <td>S</td>\n",
       "      <td>10.5000</td>\n",
       "      <td>2</td>\n",
       "      <td>28666</td>\n",
       "      <td>23.0</td>\n",
       "      <td>Ware, Mr. William Jeffery</td>\n",
       "      <td>0</td>\n",
       "      <td>male</td>\n",
       "      <td>1</td>\n",
       "      <td>NaN</td>\n",
       "    </tr>\n",
       "    <tr>\n",
       "      <th>1298</th>\n",
       "      <td>1298</td>\n",
       "      <td>C80</td>\n",
       "      <td>C</td>\n",
       "      <td>211.5000</td>\n",
       "      <td>1</td>\n",
       "      <td>113503</td>\n",
       "      <td>50.0</td>\n",
       "      <td>Widener, Mr. George Dunton</td>\n",
       "      <td>1</td>\n",
       "      <td>male</td>\n",
       "      <td>1</td>\n",
       "      <td>NaN</td>\n",
       "    </tr>\n",
       "    <tr>\n",
       "      <th>1299</th>\n",
       "      <td>1299</td>\n",
       "      <td>NaN</td>\n",
       "      <td>Q</td>\n",
       "      <td>7.7208</td>\n",
       "      <td>3</td>\n",
       "      <td>334915</td>\n",
       "      <td>NaN</td>\n",
       "      <td>Riordan, Miss. Johanna Hannah\"\"</td>\n",
       "      <td>0</td>\n",
       "      <td>female</td>\n",
       "      <td>0</td>\n",
       "      <td>NaN</td>\n",
       "    </tr>\n",
       "    <tr>\n",
       "      <th>1300</th>\n",
       "      <td>1300</td>\n",
       "      <td>NaN</td>\n",
       "      <td>S</td>\n",
       "      <td>13.7750</td>\n",
       "      <td>3</td>\n",
       "      <td>SOTON/O.Q. 3101315</td>\n",
       "      <td>3.0</td>\n",
       "      <td>Peacock, Miss. Treasteall</td>\n",
       "      <td>1</td>\n",
       "      <td>female</td>\n",
       "      <td>1</td>\n",
       "      <td>NaN</td>\n",
       "    </tr>\n",
       "    <tr>\n",
       "      <th>1301</th>\n",
       "      <td>1301</td>\n",
       "      <td>NaN</td>\n",
       "      <td>Q</td>\n",
       "      <td>7.7500</td>\n",
       "      <td>3</td>\n",
       "      <td>365237</td>\n",
       "      <td>NaN</td>\n",
       "      <td>Naughton, Miss. Hannah</td>\n",
       "      <td>0</td>\n",
       "      <td>female</td>\n",
       "      <td>0</td>\n",
       "      <td>NaN</td>\n",
       "    </tr>\n",
       "    <tr>\n",
       "      <th>1302</th>\n",
       "      <td>1302</td>\n",
       "      <td>C78</td>\n",
       "      <td>Q</td>\n",
       "      <td>90.0000</td>\n",
       "      <td>1</td>\n",
       "      <td>19928</td>\n",
       "      <td>37.0</td>\n",
       "      <td>Minahan, Mrs. William Edward (Lillian E Thorpe)</td>\n",
       "      <td>0</td>\n",
       "      <td>female</td>\n",
       "      <td>1</td>\n",
       "      <td>NaN</td>\n",
       "    </tr>\n",
       "    <tr>\n",
       "      <th>1303</th>\n",
       "      <td>1303</td>\n",
       "      <td>NaN</td>\n",
       "      <td>S</td>\n",
       "      <td>7.7750</td>\n",
       "      <td>3</td>\n",
       "      <td>347086</td>\n",
       "      <td>28.0</td>\n",
       "      <td>Henriksson, Miss. Jenny Lovisa</td>\n",
       "      <td>0</td>\n",
       "      <td>female</td>\n",
       "      <td>0</td>\n",
       "      <td>NaN</td>\n",
       "    </tr>\n",
       "    <tr>\n",
       "      <th>1304</th>\n",
       "      <td>1304</td>\n",
       "      <td>NaN</td>\n",
       "      <td>S</td>\n",
       "      <td>8.0500</td>\n",
       "      <td>3</td>\n",
       "      <td>A.5. 3236</td>\n",
       "      <td>NaN</td>\n",
       "      <td>Spector, Mr. Woolf</td>\n",
       "      <td>0</td>\n",
       "      <td>male</td>\n",
       "      <td>0</td>\n",
       "      <td>NaN</td>\n",
       "    </tr>\n",
       "    <tr>\n",
       "      <th>1305</th>\n",
       "      <td>1305</td>\n",
       "      <td>C105</td>\n",
       "      <td>C</td>\n",
       "      <td>108.9000</td>\n",
       "      <td>1</td>\n",
       "      <td>PC 17758</td>\n",
       "      <td>39.0</td>\n",
       "      <td>Oliva y Ocana, Dona. Fermina</td>\n",
       "      <td>0</td>\n",
       "      <td>female</td>\n",
       "      <td>0</td>\n",
       "      <td>NaN</td>\n",
       "    </tr>\n",
       "    <tr>\n",
       "      <th>1306</th>\n",
       "      <td>1306</td>\n",
       "      <td>NaN</td>\n",
       "      <td>S</td>\n",
       "      <td>7.2500</td>\n",
       "      <td>3</td>\n",
       "      <td>SOTON/O.Q. 3101262</td>\n",
       "      <td>38.5</td>\n",
       "      <td>Saether, Mr. Simon Sivertsen</td>\n",
       "      <td>0</td>\n",
       "      <td>male</td>\n",
       "      <td>0</td>\n",
       "      <td>NaN</td>\n",
       "    </tr>\n",
       "    <tr>\n",
       "      <th>1307</th>\n",
       "      <td>1307</td>\n",
       "      <td>NaN</td>\n",
       "      <td>S</td>\n",
       "      <td>8.0500</td>\n",
       "      <td>3</td>\n",
       "      <td>359309</td>\n",
       "      <td>NaN</td>\n",
       "      <td>Ware, Mr. Frederick</td>\n",
       "      <td>0</td>\n",
       "      <td>male</td>\n",
       "      <td>0</td>\n",
       "      <td>NaN</td>\n",
       "    </tr>\n",
       "    <tr>\n",
       "      <th>1308</th>\n",
       "      <td>1308</td>\n",
       "      <td>NaN</td>\n",
       "      <td>C</td>\n",
       "      <td>22.3583</td>\n",
       "      <td>3</td>\n",
       "      <td>2668</td>\n",
       "      <td>NaN</td>\n",
       "      <td>Peter, Master. Michael J</td>\n",
       "      <td>1</td>\n",
       "      <td>male</td>\n",
       "      <td>1</td>\n",
       "      <td>NaN</td>\n",
       "    </tr>\n",
       "  </tbody>\n",
       "</table>\n",
       "<p>1309 rows × 12 columns</p>\n",
       "</div>"
      ],
      "text/plain": [
       "      Unnamed: 0        Cabin Embarked      Fare  Pclass              Ticket  \\\n",
       "0              0          NaN        S    7.2500       3           A/5 21171   \n",
       "1              1          C85        C   71.2833       1            PC 17599   \n",
       "2              2          NaN        S    7.9250       3    STON/O2. 3101282   \n",
       "3              3         C123        S   53.1000       1              113803   \n",
       "4              4          NaN        S    8.0500       3              373450   \n",
       "5              5          NaN        Q    8.4583       3              330877   \n",
       "6              6          E46        S   51.8625       1               17463   \n",
       "7              7          NaN        S   21.0750       3              349909   \n",
       "8              8          NaN        S   11.1333       3              347742   \n",
       "9              9          NaN        C   30.0708       2              237736   \n",
       "10            10           G6        S   16.7000       3             PP 9549   \n",
       "11            11         C103        S   26.5500       1              113783   \n",
       "12            12          NaN        S    8.0500       3           A/5. 2151   \n",
       "13            13          NaN        S   31.2750       3              347082   \n",
       "14            14          NaN        S    7.8542       3              350406   \n",
       "15            15          NaN        S   16.0000       2              248706   \n",
       "16            16          NaN        Q   29.1250       3              382652   \n",
       "17            17          NaN        S   13.0000       2              244373   \n",
       "18            18          NaN        S   18.0000       3              345763   \n",
       "19            19          NaN        C    7.2250       3                2649   \n",
       "20            20          NaN        S   26.0000       2              239865   \n",
       "21            21          D56        S   13.0000       2              248698   \n",
       "22            22          NaN        Q    8.0292       3              330923   \n",
       "23            23           A6        S   35.5000       1              113788   \n",
       "24            24          NaN        S   21.0750       3              349909   \n",
       "25            25          NaN        S   31.3875       3              347077   \n",
       "26            26          NaN        C    7.2250       3                2631   \n",
       "27            27  C23 C25 C27        S  263.0000       1               19950   \n",
       "28            28          NaN        Q    7.8792       3              330959   \n",
       "29            29          NaN        S    7.8958       3              349216   \n",
       "...          ...          ...      ...       ...     ...                 ...   \n",
       "1279        1279          NaN        Q    7.7500       3              364858   \n",
       "1280        1280          NaN        S   21.0750       3              349909   \n",
       "1281        1281          B24        S   93.5000       1               12749   \n",
       "1282        1282          D28        S   39.4000       1            PC 17592   \n",
       "1283        1283          NaN        S   20.2500       3           C.A. 2673   \n",
       "1284        1284          NaN        S   10.5000       2          C.A. 30769   \n",
       "1285        1285          NaN        S   22.0250       3              315153   \n",
       "1286        1286          C31        S   60.0000       1               13695   \n",
       "1287        1287          NaN        Q    7.2500       3              371109   \n",
       "1288        1288          B41        C   79.2000       1               13567   \n",
       "1289        1289          NaN        S    7.7750       3              347065   \n",
       "1290        1290          NaN        Q    7.7333       3               21332   \n",
       "1291        1291           C7        S  164.8667       1               36928   \n",
       "1292        1292          NaN        S   21.0000       2               28664   \n",
       "1293        1293          NaN        C   59.4000       1              112378   \n",
       "1294        1294          NaN        S   47.1000       1              113059   \n",
       "1295        1295          D40        C   27.7208       1               17765   \n",
       "1296        1296          D38        C   13.8625       2       SC/PARIS 2166   \n",
       "1297        1297          NaN        S   10.5000       2               28666   \n",
       "1298        1298          C80        C  211.5000       1              113503   \n",
       "1299        1299          NaN        Q    7.7208       3              334915   \n",
       "1300        1300          NaN        S   13.7750       3  SOTON/O.Q. 3101315   \n",
       "1301        1301          NaN        Q    7.7500       3              365237   \n",
       "1302        1302          C78        Q   90.0000       1               19928   \n",
       "1303        1303          NaN        S    7.7750       3              347086   \n",
       "1304        1304          NaN        S    8.0500       3           A.5. 3236   \n",
       "1305        1305         C105        C  108.9000       1            PC 17758   \n",
       "1306        1306          NaN        S    7.2500       3  SOTON/O.Q. 3101262   \n",
       "1307        1307          NaN        S    8.0500       3              359309   \n",
       "1308        1308          NaN        C   22.3583       3                2668   \n",
       "\n",
       "       Age                                               Name  Parch     Sex  \\\n",
       "0     22.0                            Braund, Mr. Owen Harris      0    male   \n",
       "1     38.0  Cumings, Mrs. John Bradley (Florence Briggs Th...      0  female   \n",
       "2     26.0                             Heikkinen, Miss. Laina      0  female   \n",
       "3     35.0       Futrelle, Mrs. Jacques Heath (Lily May Peel)      0  female   \n",
       "4     35.0                           Allen, Mr. William Henry      0    male   \n",
       "5      NaN                                   Moran, Mr. James      0    male   \n",
       "6     54.0                            McCarthy, Mr. Timothy J      0    male   \n",
       "7      2.0                     Palsson, Master. Gosta Leonard      1    male   \n",
       "8     27.0  Johnson, Mrs. Oscar W (Elisabeth Vilhelmina Berg)      2  female   \n",
       "9     14.0                Nasser, Mrs. Nicholas (Adele Achem)      0  female   \n",
       "10     4.0                    Sandstrom, Miss. Marguerite Rut      1  female   \n",
       "11    58.0                           Bonnell, Miss. Elizabeth      0  female   \n",
       "12    20.0                     Saundercock, Mr. William Henry      0    male   \n",
       "13    39.0                        Andersson, Mr. Anders Johan      5    male   \n",
       "14    14.0               Vestrom, Miss. Hulda Amanda Adolfina      0  female   \n",
       "15    55.0                   Hewlett, Mrs. (Mary D Kingcome)       0  female   \n",
       "16     2.0                               Rice, Master. Eugene      1    male   \n",
       "17     NaN                       Williams, Mr. Charles Eugene      0    male   \n",
       "18    31.0  Vander Planke, Mrs. Julius (Emelia Maria Vande...      0  female   \n",
       "19     NaN                            Masselmani, Mrs. Fatima      0  female   \n",
       "20    35.0                               Fynney, Mr. Joseph J      0    male   \n",
       "21    34.0                              Beesley, Mr. Lawrence      0    male   \n",
       "22    15.0                        McGowan, Miss. Anna \"Annie\"      0  female   \n",
       "23    28.0                       Sloper, Mr. William Thompson      0    male   \n",
       "24     8.0                      Palsson, Miss. Torborg Danira      1  female   \n",
       "25    38.0  Asplund, Mrs. Carl Oscar (Selma Augusta Emilia...      5  female   \n",
       "26     NaN                            Emir, Mr. Farred Chehab      0    male   \n",
       "27    19.0                     Fortune, Mr. Charles Alexander      2    male   \n",
       "28     NaN                      O'Dwyer, Miss. Ellen \"Nellie\"      0  female   \n",
       "29     NaN                                Todoroff, Mr. Lalio      0    male   \n",
       "...    ...                                                ...    ...     ...   \n",
       "1279  21.0                               Canavan, Mr. Patrick      0    male   \n",
       "1280   6.0                        Palsson, Master. Paul Folke      1    male   \n",
       "1281  23.0                         Payne, Mr. Vivian Ponsonby      0    male   \n",
       "1282  51.0     Lines, Mrs. Ernest H (Elizabeth Lindsey James)      1  female   \n",
       "1283  13.0                      Abbott, Master. Eugene Joseph      2    male   \n",
       "1284  47.0                               Gilbert, Mr. William      0    male   \n",
       "1285  29.0                           Kink-Heilmann, Mr. Anton      1    male   \n",
       "1286  18.0     Smith, Mrs. Lucien Philip (Mary Eloise Hughes)      0  female   \n",
       "1287  24.0                               Colbert, Mr. Patrick      0    male   \n",
       "1288  48.0  Frolicher-Stehli, Mrs. Maxmillian (Margaretha ...      1  female   \n",
       "1289  22.0                     Larsson-Rondberg, Mr. Edvard A      0    male   \n",
       "1290  31.0                           Conlon, Mr. Thomas Henry      0    male   \n",
       "1291  30.0                            Bonnell, Miss. Caroline      0  female   \n",
       "1292  38.0                                    Gale, Mr. Harry      0    male   \n",
       "1293  22.0                     Gibson, Miss. Dorothy Winifred      1  female   \n",
       "1294  17.0                             Carrau, Mr. Jose Pedro      0    male   \n",
       "1295  43.0                       Frauenthal, Mr. Isaac Gerald      0    male   \n",
       "1296  20.0       Nourney, Mr. Alfred (Baron von Drachstedt\")\"      0    male   \n",
       "1297  23.0                          Ware, Mr. William Jeffery      0    male   \n",
       "1298  50.0                         Widener, Mr. George Dunton      1    male   \n",
       "1299   NaN                    Riordan, Miss. Johanna Hannah\"\"      0  female   \n",
       "1300   3.0                          Peacock, Miss. Treasteall      1  female   \n",
       "1301   NaN                             Naughton, Miss. Hannah      0  female   \n",
       "1302  37.0    Minahan, Mrs. William Edward (Lillian E Thorpe)      0  female   \n",
       "1303  28.0                     Henriksson, Miss. Jenny Lovisa      0  female   \n",
       "1304   NaN                                 Spector, Mr. Woolf      0    male   \n",
       "1305  39.0                       Oliva y Ocana, Dona. Fermina      0  female   \n",
       "1306  38.5                       Saether, Mr. Simon Sivertsen      0    male   \n",
       "1307   NaN                                Ware, Mr. Frederick      0    male   \n",
       "1308   NaN                           Peter, Master. Michael J      1    male   \n",
       "\n",
       "      SibSp  Survived  \n",
       "0         1       0.0  \n",
       "1         1       1.0  \n",
       "2         0       1.0  \n",
       "3         1       1.0  \n",
       "4         0       0.0  \n",
       "5         0       0.0  \n",
       "6         0       0.0  \n",
       "7         3       0.0  \n",
       "8         0       1.0  \n",
       "9         1       1.0  \n",
       "10        1       1.0  \n",
       "11        0       1.0  \n",
       "12        0       0.0  \n",
       "13        1       0.0  \n",
       "14        0       0.0  \n",
       "15        0       1.0  \n",
       "16        4       0.0  \n",
       "17        0       1.0  \n",
       "18        1       0.0  \n",
       "19        0       1.0  \n",
       "20        0       0.0  \n",
       "21        0       1.0  \n",
       "22        0       1.0  \n",
       "23        0       1.0  \n",
       "24        3       0.0  \n",
       "25        1       1.0  \n",
       "26        0       0.0  \n",
       "27        3       0.0  \n",
       "28        0       1.0  \n",
       "29        0       0.0  \n",
       "...     ...       ...  \n",
       "1279      0       NaN  \n",
       "1280      3       NaN  \n",
       "1281      0       NaN  \n",
       "1282      0       NaN  \n",
       "1283      0       NaN  \n",
       "1284      0       NaN  \n",
       "1285      3       NaN  \n",
       "1286      1       NaN  \n",
       "1287      0       NaN  \n",
       "1288      1       NaN  \n",
       "1289      0       NaN  \n",
       "1290      0       NaN  \n",
       "1291      0       NaN  \n",
       "1292      1       NaN  \n",
       "1293      0       NaN  \n",
       "1294      0       NaN  \n",
       "1295      1       NaN  \n",
       "1296      0       NaN  \n",
       "1297      1       NaN  \n",
       "1298      1       NaN  \n",
       "1299      0       NaN  \n",
       "1300      1       NaN  \n",
       "1301      0       NaN  \n",
       "1302      1       NaN  \n",
       "1303      0       NaN  \n",
       "1304      0       NaN  \n",
       "1305      0       NaN  \n",
       "1306      0       NaN  \n",
       "1307      0       NaN  \n",
       "1308      1       NaN  \n",
       "\n",
       "[1309 rows x 12 columns]"
      ]
     },
     "execution_count": 35,
     "metadata": {},
     "output_type": "execute_result"
    }
   ],
   "source": [
    "df = pd.read_csv('titanic.csv', index_col=False)\n",
    "df"
   ]
  },
  {
   "cell_type": "code",
   "execution_count": 37,
   "metadata": {},
   "outputs": [
    {
     "name": "stdout",
     "output_type": "stream",
     "text": [
      "      Fare   Age\n",
      "0   7.2500  22.0\n",
      "1  71.2833  38.0\n",
      "2   7.9250  26.0\n",
      "3  53.1000  35.0\n",
      "4   8.0500  35.0\n"
     ]
    }
   ],
   "source": [
    "titanic_1 = df.iloc[:,[3,6]].dropna()\n",
    "\n",
    "print(titanic_1.head())\n",
    "\n",
    "x = titanic_1.iloc[:,1:].values\n",
    "\n",
    "y = titanic_1.iloc[:,0].values"
   ]
  },
  {
   "cell_type": "code",
   "execution_count": 38,
   "metadata": {},
   "outputs": [
    {
     "data": {
      "image/png": "[encoded data removed]",
      "text/plain": [
       "<matplotlib.figure.Figure at 0x10cd035c0>"
      ]
     },
     "metadata": {},
     "output_type": "display_data"
    }
   ],
   "source": [
    "plt.figure()\n",
    "plt.plot(x,y,'b.')\n",
    "plt.xlabel(\"$Age$\")\n",
    "plt.ylabel(\"Fare\")\n",
    "plt.show()"
   ]
  },
  {
   "cell_type": "code",
   "execution_count": 39,
   "metadata": {
    "collapsed": true
   },
   "outputs": [],
   "source": [
    "reg = linear_model.LinearRegression().fit(X=x,y=y)\n",
    "\n",
    "predictions = reg.predict(x)"
   ]
  },
  {
   "cell_type": "code",
   "execution_count": 40,
   "metadata": {},
   "outputs": [
    {
     "name": "stdout",
     "output_type": "stream",
     "text": [
      "Coefficients: \n",
      " Index(['Age'], dtype='object') [0.692299]\n",
      "Mean squared error: 3004.00\n"
     ]
    }
   ],
   "source": [
    "print('Coefficients: \\n', titanic_1.iloc[:,1:].columns, reg.coef_)\n",
    "# The mean squared error\n",
    "print(\"Mean squared error: %.2f\"\n",
    "      % mean_squared_error(y, predictions))"
   ]
  },
  {
   "cell_type": "code",
   "execution_count": 41,
   "metadata": {},
   "outputs": [
    {
     "name": "stdout",
     "output_type": "stream",
     "text": [
      "      Fare  class_ticket__2  class_ticket__3\n",
      "0   7.2500                0                1\n",
      "1  71.2833                0                0\n",
      "2   7.9250                0                1\n",
      "3  53.1000                0                0\n",
      "4   8.0500                0                1\n"
     ]
    }
   ],
   "source": [
    "titanic_2= df.iloc[:,[3,4]].dropna()\n",
    "\n",
    "dummies = pd.get_dummies(titanic_2['Pclass'], drop_first=True, prefix='class_ticket_')\n",
    "\n",
    "titanic_2 = titanic_2.join(dummies).drop(['Pclass'], axis=1)\n",
    "\n",
    "print(titanic_2.head())\n",
    "\n",
    "x = titanic_2.iloc[:,1:].values\n",
    "\n",
    "y = titanic_2.iloc[:,0].values"
   ]
  },
  {
   "cell_type": "code",
   "execution_count": 42,
   "metadata": {
    "collapsed": true
   },
   "outputs": [],
   "source": [
    "reg = linear_model.LinearRegression().fit(X=x,y=y)\n",
    "\n",
    "predictions = reg.predict(x)"
   ]
  },
  {
   "cell_type": "code",
   "execution_count": 43,
   "metadata": {},
   "outputs": [
    {
     "name": "stdout",
     "output_type": "stream",
     "text": [
      "Coefficients: \n",
      " Index(['class_ticket__2', 'class_ticket__3'], dtype='object') [-66.32979525 -74.20610294]\n",
      "Mean squared error: 1703.68\n"
     ]
    }
   ],
   "source": [
    "print('Coefficients: \\n', titanic_2.iloc[:,1:].columns, reg.coef_)\n",
    "# The mean squared error\n",
    "print(\"Mean squared error: %.2f\"\n",
    "      % mean_squared_error(y, predictions))"
   ]
  }
 ],
 "metadata": {
  "gist": {
   "data": {
    "description": "Gradient Descent-Python",
    "public": true
   },
   "id": ""
  },
  "hide_input": false,
  "kernelspec": {
   "display_name": "Python 3",
   "language": "python",
   "name": "python3"
  },
  "language_info": {
   "codemirror_mode": {
    "name": "ipython",
    "version": 3
   },
   "file_extension": ".py",
   "mimetype": "text/x-python",
   "name": "python",
   "nbconvert_exporter": "python",
   "pygments_lexer": "ipython3",
   "version": "3.6.1"
  },
  "toc": {
   "base_numbering": 1,
   "nav_menu": {},
   "number_sections": true,
   "sideBar": true,
   "skip_h1_title": false,
   "title_cell": "Table of Contents",
   "title_sidebar": "Contents",
   "toc_cell": false,
   "toc_position": {
    "height": "calc(100% - 180px)",
    "left": "10px",
    "top": "150px",
    "width": "279.233px"
   },
   "toc_section_display": true,
   "toc_window_display": true
  },
  "varInspector": {
   "cols": {
    "lenName": 16,
    "lenType": 16,
    "lenVar": 40
   },
   "kernels_config": {
    "python": {
     "delete_cmd_postfix": "",
     "delete_cmd_prefix": "del ",
     "library": "var_list.py",
     "varRefreshCmd": "print(var_dic_list())"
    },
    "r": {
     "delete_cmd_postfix": ") ",
     "delete_cmd_prefix": "rm(",
     "library": "var_list.r",
     "varRefreshCmd": "cat(var_dic_list()) "
    }
   },
   "position": {
    "height": "461.183px",
    "left": "846.167px",
    "right": "138.333px",
    "top": "127px",
    "width": "559.667px"
   },
   "types_to_exclude": [
    "module",
    "function",
    "builtin_function_or_method",
    "instance",
    "_Feature"
   ],
   "window_display": false
  }
 },
 "nbformat": 4,
 "nbformat_minor": 2
}
