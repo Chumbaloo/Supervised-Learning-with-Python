{
 "cells": [
  {
   "cell_type": "code",
   "execution_count": 1,
   "metadata": {},
   "outputs": [],
   "source": [
    "import pandas as pd\n",
    "import numpy as np\n",
    "\n",
    "%matplotlib inline\n",
    "import matplotlib.pyplot as plt\n",
    "\n",
    "from sklearn.model_selection import train_test_split\n",
    "from sklearn.metrics import accuracy_score\n",
    "from sklearn.model_selection import KFold"
   ]
  },
  {
   "cell_type": "markdown",
   "metadata": {},
   "source": [
    "# Read data from disk"
   ]
  },
  {
   "cell_type": "code",
   "execution_count": 2,
   "metadata": {},
   "outputs": [],
   "source": [
    "data = pd.read_csv('titanic.csv')"
   ]
  },
  {
   "cell_type": "code",
   "execution_count": 3,
   "metadata": {},
   "outputs": [
    {
     "data": {
      "text/html": [
       "<div>\n",
       "<style scoped>\n",
       "    .dataframe tbody tr th:only-of-type {\n",
       "        vertical-align: middle;\n",
       "    }\n",
       "\n",
       "    .dataframe tbody tr th {\n",
       "        vertical-align: top;\n",
       "    }\n",
       "\n",
       "    .dataframe thead th {\n",
       "        text-align: right;\n",
       "    }\n",
       "</style>\n",
       "<table border=\"1\" class=\"dataframe\">\n",
       "  <thead>\n",
       "    <tr style=\"text-align: right;\">\n",
       "      <th></th>\n",
       "      <th>PassengerId</th>\n",
       "      <th>Survived</th>\n",
       "      <th>Pclass</th>\n",
       "      <th>Name</th>\n",
       "      <th>Sex</th>\n",
       "      <th>Age</th>\n",
       "      <th>SibSp</th>\n",
       "      <th>Parch</th>\n",
       "      <th>Ticket</th>\n",
       "      <th>Fare</th>\n",
       "      <th>Cabin</th>\n",
       "      <th>Embarked</th>\n",
       "    </tr>\n",
       "  </thead>\n",
       "  <tbody>\n",
       "    <tr>\n",
       "      <th>0</th>\n",
       "      <td>1</td>\n",
       "      <td>0</td>\n",
       "      <td>3</td>\n",
       "      <td>Braund, Mr. Owen Harris</td>\n",
       "      <td>male</td>\n",
       "      <td>22.0</td>\n",
       "      <td>1</td>\n",
       "      <td>0</td>\n",
       "      <td>A/5 21171</td>\n",
       "      <td>7.2500</td>\n",
       "      <td>NaN</td>\n",
       "      <td>S</td>\n",
       "    </tr>\n",
       "    <tr>\n",
       "      <th>1</th>\n",
       "      <td>2</td>\n",
       "      <td>1</td>\n",
       "      <td>1</td>\n",
       "      <td>Cumings, Mrs. John Bradley (Florence Briggs Th...</td>\n",
       "      <td>female</td>\n",
       "      <td>38.0</td>\n",
       "      <td>1</td>\n",
       "      <td>0</td>\n",
       "      <td>PC 17599</td>\n",
       "      <td>71.2833</td>\n",
       "      <td>C85</td>\n",
       "      <td>C</td>\n",
       "    </tr>\n",
       "    <tr>\n",
       "      <th>2</th>\n",
       "      <td>3</td>\n",
       "      <td>1</td>\n",
       "      <td>3</td>\n",
       "      <td>Heikkinen, Miss. Laina</td>\n",
       "      <td>female</td>\n",
       "      <td>26.0</td>\n",
       "      <td>0</td>\n",
       "      <td>0</td>\n",
       "      <td>STON/O2. 3101282</td>\n",
       "      <td>7.9250</td>\n",
       "      <td>NaN</td>\n",
       "      <td>S</td>\n",
       "    </tr>\n",
       "    <tr>\n",
       "      <th>3</th>\n",
       "      <td>4</td>\n",
       "      <td>1</td>\n",
       "      <td>1</td>\n",
       "      <td>Futrelle, Mrs. Jacques Heath (Lily May Peel)</td>\n",
       "      <td>female</td>\n",
       "      <td>35.0</td>\n",
       "      <td>1</td>\n",
       "      <td>0</td>\n",
       "      <td>113803</td>\n",
       "      <td>53.1000</td>\n",
       "      <td>C123</td>\n",
       "      <td>S</td>\n",
       "    </tr>\n",
       "    <tr>\n",
       "      <th>4</th>\n",
       "      <td>5</td>\n",
       "      <td>0</td>\n",
       "      <td>3</td>\n",
       "      <td>Allen, Mr. William Henry</td>\n",
       "      <td>male</td>\n",
       "      <td>35.0</td>\n",
       "      <td>0</td>\n",
       "      <td>0</td>\n",
       "      <td>373450</td>\n",
       "      <td>8.0500</td>\n",
       "      <td>NaN</td>\n",
       "      <td>S</td>\n",
       "    </tr>\n",
       "  </tbody>\n",
       "</table>\n",
       "</div>"
      ],
      "text/plain": [
       "   PassengerId  Survived  Pclass  \\\n",
       "0            1         0       3   \n",
       "1            2         1       1   \n",
       "2            3         1       3   \n",
       "3            4         1       1   \n",
       "4            5         0       3   \n",
       "\n",
       "                                                Name     Sex   Age  SibSp  \\\n",
       "0                            Braund, Mr. Owen Harris    male  22.0      1   \n",
       "1  Cumings, Mrs. John Bradley (Florence Briggs Th...  female  38.0      1   \n",
       "2                             Heikkinen, Miss. Laina  female  26.0      0   \n",
       "3       Futrelle, Mrs. Jacques Heath (Lily May Peel)  female  35.0      1   \n",
       "4                           Allen, Mr. William Henry    male  35.0      0   \n",
       "\n",
       "   Parch            Ticket     Fare Cabin Embarked  \n",
       "0      0         A/5 21171   7.2500   NaN        S  \n",
       "1      0          PC 17599  71.2833   C85        C  \n",
       "2      0  STON/O2. 3101282   7.9250   NaN        S  \n",
       "3      0            113803  53.1000  C123        S  \n",
       "4      0            373450   8.0500   NaN        S  "
      ]
     },
     "execution_count": 3,
     "metadata": {},
     "output_type": "execute_result"
    }
   ],
   "source": [
    "data.head()"
   ]
  },
  {
   "cell_type": "markdown",
   "metadata": {},
   "source": [
    "# Basic preprocessing and train-validation split"
   ]
  },
  {
   "cell_type": "code",
   "execution_count": 4,
   "metadata": {},
   "outputs": [],
   "source": [
    "def preprocess(data):\n",
    "    def fix_age(age):\n",
    "        if np.isnan(age):\n",
    "            return -1\n",
    "        elif age < 1:\n",
    "            return age*100\n",
    "        else:\n",
    "            return age\n",
    "    \n",
    "    data.loc[:, 'Sex'] = data.Sex.apply(lambda s: int(s == 'female'))\n",
    "    data.loc[:, 'Age'] = data.Age.apply(fix_age)\n",
    "    \n",
    "    embarked = pd.get_dummies(data.Embarked, prefix='Emb')[['Emb_C','Emb_Q','Emb_S']]\n",
    "    cols = ['Pclass','Sex','Age','SibSp','Parch','Fare']\n",
    "    \n",
    "    return pd.concat([data[cols], embarked], axis=1).values"
   ]
  },
  {
   "cell_type": "code",
   "execution_count": 5,
   "metadata": {
    "scrolled": true
   },
   "outputs": [
    {
     "name": "stderr",
     "output_type": "stream",
     "text": [
      "/usr/local/Cellar/python3/3.6.2/Frameworks/Python.framework/Versions/3.6/lib/python3.6/site-packages/pandas/core/indexing.py:543: SettingWithCopyWarning: \n",
      "A value is trying to be set on a copy of a slice from a DataFrame.\n",
      "Try using .loc[row_indexer,col_indexer] = value instead\n",
      "\n",
      "See the caveats in the documentation: http://pandas.pydata.org/pandas-docs/stable/indexing.html#indexing-view-versus-copy\n",
      "  self.obj[item] = s\n"
     ]
    }
   ],
   "source": [
    "train, val = train_test_split(data, test_size=0.2, random_state=11)\n",
    "\n",
    "x_train = preprocess(train)\n",
    "y_train = train['Survived'].values\n",
    "\n",
    "x_val = preprocess(val)\n",
    "y_val = val['Survived'].values"
   ]
  },
  {
   "cell_type": "markdown",
   "metadata": {},
   "source": [
    "# Exercise 2: Bagging Classifier"
   ]
  },
  {
   "cell_type": "code",
   "execution_count": 6,
   "metadata": {},
   "outputs": [],
   "source": [
    "from sklearn.tree import DecisionTreeClassifier\n",
    "from sklearn.ensemble import BaggingClassifier"
   ]
  },
  {
   "cell_type": "code",
   "execution_count": 7,
   "metadata": {},
   "outputs": [],
   "source": [
    "dt_params = {\n",
    "    'criterion': 'entropy',\n",
    "    'random_state': 11\n",
    "}\n",
    "dt = DecisionTreeClassifier(**dt_params)\n",
    "\n",
    "bc_params = {\n",
    "    'base_estimator': dt,\n",
    "    'n_estimators': 50,\n",
    "    'max_samples': 0.5,\n",
    "    'random_state': 11,\n",
    "    'n_jobs': -1\n",
    "}\n",
    "bc = BaggingClassifier(**bc_params)"
   ]
  },
  {
   "cell_type": "code",
   "execution_count": 8,
   "metadata": {},
   "outputs": [
    {
     "name": "stdout",
     "output_type": "stream",
     "text": [
      "Decision Tree:\n",
      "> Accuracy on training data = 0.9831\n",
      "> Accuracy on validation data = 0.7598\n"
     ]
    }
   ],
   "source": [
    "dt.fit(x_train, y_train)\n",
    "dt_preds_train = dt.predict(x_train)\n",
    "dt_preds_val = dt.predict(x_val)\n",
    "\n",
    "print('Decision Tree:\\n> Accuracy on training data = {:.4f}\\n> Accuracy on validation data = {:.4f}'.format(\n",
    "    accuracy_score(y_true=y_train, y_pred=dt_preds_train),\n",
    "    accuracy_score(y_true=y_val, y_pred=dt_preds_val)\n",
    "))\n"
   ]
  },
  {
   "cell_type": "code",
   "execution_count": 9,
   "metadata": {},
   "outputs": [
    {
     "name": "stdout",
     "output_type": "stream",
     "text": [
      "Bagging Classifier:\n",
      "> Accuracy on training data = 0.9284\n",
      "> Accuracy on validation data = 0.8603\n"
     ]
    }
   ],
   "source": [
    "bc.fit(x_train, y_train)\n",
    "bc_preds_train = bc.predict(x_train)\n",
    "bc_preds_val = bc.predict(x_val)\n",
    "\n",
    "print('Bagging Classifier:\\n> Accuracy on training data = {:.4f}\\n> Accuracy on validation data = {:.4f}'.format(\n",
    "    accuracy_score(y_true=y_train, y_pred=bc_preds_train),\n",
    "    accuracy_score(y_true=y_val, y_pred=bc_preds_val)\n",
    "))"
   ]
  },
  {
   "cell_type": "markdown",
   "metadata": {},
   "source": [
    "# Exercise 3: Random Forest"
   ]
  },
  {
   "cell_type": "code",
   "execution_count": 10,
   "metadata": {},
   "outputs": [],
   "source": [
    "from sklearn.ensemble import RandomForestClassifier"
   ]
  },
  {
   "cell_type": "code",
   "execution_count": 11,
   "metadata": {},
   "outputs": [],
   "source": [
    "rf_params = {\n",
    "    'n_estimators': 100,\n",
    "    'criterion': 'entropy',\n",
    "    'max_features': 0.5,\n",
    "    'min_samples_leaf': 10,\n",
    "    'random_state': 11,\n",
    "    'n_jobs': -1\n",
    "}\n",
    "rf = RandomForestClassifier(**rf_params)"
   ]
  },
  {
   "cell_type": "code",
   "execution_count": 12,
   "metadata": {},
   "outputs": [
    {
     "name": "stdout",
     "output_type": "stream",
     "text": [
      "Random Forest:\n",
      "> Accuracy on training data = 0.8230\n",
      "> Accuracy on validation data = 0.8603\n"
     ]
    }
   ],
   "source": [
    "rf.fit(x_train, y_train)\n",
    "rf_preds_train = rf.predict(x_train)\n",
    "rf_preds_val = rf.predict(x_val)\n",
    "\n",
    "print('Random Forest:\\n> Accuracy on training data = {:.4f}\\n> Accuracy on validation data = {:.4f}'.format(\n",
    "    accuracy_score(y_true=y_train, y_pred=rf_preds_train),\n",
    "    accuracy_score(y_true=y_val, y_pred=rf_preds_val)\n",
    "))"
   ]
  },
  {
   "cell_type": "markdown",
   "metadata": {},
   "source": [
    "# Exercise 4: Adaptive Boosting"
   ]
  },
  {
   "cell_type": "code",
   "execution_count": 13,
   "metadata": {},
   "outputs": [],
   "source": [
    "from sklearn.ensemble import AdaBoostClassifier"
   ]
  },
  {
   "cell_type": "code",
   "execution_count": 14,
   "metadata": {},
   "outputs": [],
   "source": [
    "dt_params = {\n",
    "    'max_depth': 1,\n",
    "    'random_state': 11\n",
    "}\n",
    "dt = DecisionTreeClassifier(**dt_params)\n",
    "\n",
    "ab_params = {\n",
    "    'n_estimators': 100,\n",
    "    'base_estimator': dt,\n",
    "    'random_state': 11\n",
    "}\n",
    "ab = AdaBoostClassifier(**ab_params)"
   ]
  },
  {
   "cell_type": "code",
   "execution_count": 15,
   "metadata": {},
   "outputs": [
    {
     "name": "stdout",
     "output_type": "stream",
     "text": [
      "Adaptive Boosting:\n",
      "> Accuracy on training data = 0.8244\n",
      "> Accuracy on validation data = 0.8547\n"
     ]
    }
   ],
   "source": [
    "ab.fit(x_train, y_train)\n",
    "ab_preds_train = ab.predict(x_train)\n",
    "ab_preds_val = ab.predict(x_val)\n",
    "\n",
    "print('Adaptive Boosting:\\n> Accuracy on training data = {:.4f}\\n> Accuracy on validation data = {:.4f}'.format(\n",
    "    accuracy_score(y_true=y_train, y_pred=ab_preds_train),\n",
    "    accuracy_score(y_true=y_val, y_pred=ab_preds_val)\n",
    "))"
   ]
  },
  {
   "cell_type": "markdown",
   "metadata": {},
   "source": [
    "## Show accuracy trend with no. of base estimators"
   ]
  },
  {
   "cell_type": "code",
   "execution_count": 16,
   "metadata": {},
   "outputs": [],
   "source": [
    "ab_params = {\n",
    "    'base_estimator': dt,\n",
    "    'random_state': 11\n",
    "}\n",
    "\n",
    "n_estimator_values = list(range(10, 210, 10))\n",
    "train_accuracies, val_accuracies = [], []\n",
    "\n",
    "for n_estimators in n_estimator_values:\n",
    "    ab = AdaBoostClassifier(n_estimators=n_estimators, **ab_params)\n",
    "    ab.fit(x_train, y_train)\n",
    "    ab_preds_train = ab.predict(x_train)\n",
    "    ab_preds_val = ab.predict(x_val)\n",
    "    \n",
    "    train_accuracies.append(accuracy_score(y_true=y_train, y_pred=ab_preds_train))\n",
    "    val_accuracies.append(accuracy_score(y_true=y_val, y_pred=ab_preds_val))"
   ]
  },
  {
   "cell_type": "code",
   "execution_count": 17,
   "metadata": {
    "scrolled": false
   },
   "outputs": [
    {
     "data": {
      "image/png": "[encoded data removed]",
      "text/plain": [
       "<Figure size 720x504 with 1 Axes>"
      ]
     },
     "metadata": {},
     "output_type": "display_data"
    }
   ],
   "source": [
    "plt.figure(figsize=(10,7))\n",
    "plt.plot(n_estimator_values, train_accuracies, label='Train')\n",
    "plt.plot(n_estimator_values, val_accuracies, label='Validation')\n",
    "\n",
    "plt.ylabel('Accuracy score')\n",
    "plt.xlabel('n_estimators')\n",
    "\n",
    "plt.legend()\n",
    "plt.show()"
   ]
  },
  {
   "cell_type": "markdown",
   "metadata": {},
   "source": [
    "# Exercise 5: Gradient Boosting Classifier"
   ]
  },
  {
   "cell_type": "code",
   "execution_count": 18,
   "metadata": {},
   "outputs": [],
   "source": [
    "from sklearn.ensemble import GradientBoostingClassifier"
   ]
  },
  {
   "cell_type": "code",
   "execution_count": 19,
   "metadata": {},
   "outputs": [],
   "source": [
    "gbc_params = {\n",
    "    'n_estimators': 100,\n",
    "    'max_depth': 3,\n",
    "    'min_samples_leaf': 5,\n",
    "    'random_state': 11\n",
    "}\n",
    "gbc = GradientBoostingClassifier(**gbc_params)"
   ]
  },
  {
   "cell_type": "code",
   "execution_count": 20,
   "metadata": {},
   "outputs": [
    {
     "name": "stdout",
     "output_type": "stream",
     "text": [
      "Gradient Boosting Classifier:\n",
      "> Accuracy on training data = 0.8947\n",
      "> Accuracy on validation data = 0.8771\n"
     ]
    }
   ],
   "source": [
    "gbc.fit(x_train, y_train)\n",
    "gbc_preds_train = gbc.predict(x_train)\n",
    "gbc_preds_val = gbc.predict(x_val)\n",
    "\n",
    "print('Gradient Boosting Classifier:\\n> Accuracy on training data = {:.4f}\\n> Accuracy on validation data = {:.4f}'.format(\n",
    "    accuracy_score(y_true=y_train, y_pred=gbc_preds_train),\n",
    "    accuracy_score(y_true=y_val, y_pred=gbc_preds_val)\n",
    "))"
   ]
  },
  {
   "cell_type": "markdown",
   "metadata": {},
   "source": [
    "# Exercise 6: Stacking"
   ]
  },
  {
   "cell_type": "code",
   "execution_count": 21,
   "metadata": {},
   "outputs": [],
   "source": [
    "# Base models\n",
    "from sklearn.neighbors import KNeighborsClassifier\n",
    "from sklearn.svm import LinearSVC\n",
    "# Stacking model\n",
    "from sklearn.linear_model import LogisticRegression\n"
   ]
  },
  {
   "cell_type": "markdown",
   "metadata": {},
   "source": [
    "## Training base predictors"
   ]
  },
  {
   "cell_type": "code",
   "execution_count": 22,
   "metadata": {
    "scrolled": true
   },
   "outputs": [
    {
     "name": "stdout",
     "output_type": "stream",
     "text": [
      "[[ 3.  0. 16. ...  1. -1. -1.]\n",
      " [ 1.  0. 47. ...  1. -1. -1.]\n",
      " [ 3.  0. 32. ...  1. -1. -1.]\n",
      " ...\n",
      " [ 3.  0. 20. ...  1. -1. -1.]\n",
      " [ 3.  0. 22. ...  1. -1. -1.]\n",
      " [ 3.  0. 25. ...  0. -1. -1.]]\n"
     ]
    }
   ],
   "source": [
    "x_train_with_metapreds = np.zeros((x_train.shape[0], x_train.shape[1]+2))\n",
    "x_train_with_metapreds[:, :-2] = x_train\n",
    "x_train_with_metapreds[:, -2:] = -1\n",
    "print(x_train_with_metapreds)"
   ]
  },
  {
   "cell_type": "code",
   "execution_count": 23,
   "metadata": {},
   "outputs": [
    {
     "name": "stderr",
     "output_type": "stream",
     "text": [
      "/usr/local/Cellar/python3/3.6.2/Frameworks/Python.framework/Versions/3.6/lib/python3.6/site-packages/sklearn/svm/base.py:931: ConvergenceWarning: Liblinear failed to converge, increase the number of iterations.\n",
      "  \"the number of iterations.\", ConvergenceWarning)\n",
      "/usr/local/Cellar/python3/3.6.2/Frameworks/Python.framework/Versions/3.6/lib/python3.6/site-packages/sklearn/svm/base.py:931: ConvergenceWarning: Liblinear failed to converge, increase the number of iterations.\n",
      "  \"the number of iterations.\", ConvergenceWarning)\n",
      "/usr/local/Cellar/python3/3.6.2/Frameworks/Python.framework/Versions/3.6/lib/python3.6/site-packages/sklearn/svm/base.py:931: ConvergenceWarning: Liblinear failed to converge, increase the number of iterations.\n",
      "  \"the number of iterations.\", ConvergenceWarning)\n",
      "/usr/local/Cellar/python3/3.6.2/Frameworks/Python.framework/Versions/3.6/lib/python3.6/site-packages/sklearn/svm/base.py:931: ConvergenceWarning: Liblinear failed to converge, increase the number of iterations.\n",
      "  \"the number of iterations.\", ConvergenceWarning)\n",
      "/usr/local/Cellar/python3/3.6.2/Frameworks/Python.framework/Versions/3.6/lib/python3.6/site-packages/sklearn/svm/base.py:931: ConvergenceWarning: Liblinear failed to converge, increase the number of iterations.\n",
      "  \"the number of iterations.\", ConvergenceWarning)\n"
     ]
    }
   ],
   "source": [
    "kf = KFold(n_splits=5, random_state=11)\n",
    "\n",
    "for train_indices, val_indices in kf.split(x_train):\n",
    "    kfold_x_train, kfold_x_val = x_train[train_indices], x_train[val_indices]\n",
    "    kfold_y_train, kfold_y_val = y_train[train_indices], y_train[val_indices]\n",
    "    \n",
    "    svm = LinearSVC(random_state=11, max_iter=1000)\n",
    "    svm.fit(kfold_x_train, kfold_y_train)\n",
    "    svm_pred = svm.predict(kfold_x_val)\n",
    "    \n",
    "    knn = KNeighborsClassifier(n_neighbors=4)\n",
    "    knn.fit(kfold_x_train, kfold_y_train)\n",
    "    knn_pred = knn.predict(kfold_x_val)\n",
    "    \n",
    "    x_train_with_metapreds[val_indices, -2] = svm_pred\n",
    "    x_train_with_metapreds[val_indices, -1] = knn_pred"
   ]
  },
  {
   "cell_type": "markdown",
   "metadata": {},
   "source": [
    "## Add predictions from base predictor to validation dataset"
   ]
  },
  {
   "cell_type": "code",
   "execution_count": 24,
   "metadata": {},
   "outputs": [
    {
     "name": "stdout",
     "output_type": "stream",
     "text": [
      "[[ 3.  1. -1. ...  1. -1. -1.]\n",
      " [ 3.  0. 27. ...  1. -1. -1.]\n",
      " [ 3.  0. -1. ...  0. -1. -1.]\n",
      " ...\n",
      " [ 3.  0. 22. ...  1. -1. -1.]\n",
      " [ 1.  0. -1. ...  1. -1. -1.]\n",
      " [ 1.  0. 25. ...  0. -1. -1.]]\n"
     ]
    }
   ],
   "source": [
    "x_val_with_metapreds = np.zeros((x_val.shape[0], x_val.shape[1]+2))\n",
    "x_val_with_metapreds[:, :-2] = x_val\n",
    "x_val_with_metapreds[:, -2:] = -1\n",
    "print(x_val_with_metapreds)"
   ]
  },
  {
   "cell_type": "code",
   "execution_count": 25,
   "metadata": {},
   "outputs": [
    {
     "name": "stderr",
     "output_type": "stream",
     "text": [
      "/usr/local/Cellar/python3/3.6.2/Frameworks/Python.framework/Versions/3.6/lib/python3.6/site-packages/sklearn/svm/base.py:931: ConvergenceWarning: Liblinear failed to converge, increase the number of iterations.\n",
      "  \"the number of iterations.\", ConvergenceWarning)\n"
     ]
    }
   ],
   "source": [
    "svm = LinearSVC(random_state=11, max_iter=1000)\n",
    "svm.fit(x_train, y_train)\n",
    "\n",
    "knn = KNeighborsClassifier(n_neighbors=4)\n",
    "knn.fit(x_train, y_train)\n",
    "\n",
    "svm_pred = svm.predict(x_val)\n",
    "knn_pred = knn.predict(x_val)\n",
    "\n",
    "x_val_with_metapreds[:, -2] = svm_pred\n",
    "x_val_with_metapreds[:, -1] = knn_pred"
   ]
  },
  {
   "cell_type": "markdown",
   "metadata": {},
   "source": [
    "## Training stacked model"
   ]
  },
  {
   "cell_type": "code",
   "execution_count": 26,
   "metadata": {},
   "outputs": [
    {
     "name": "stdout",
     "output_type": "stream",
     "text": [
      "Stacked Classifier:\n",
      "> Accuracy on training data = 0.7865\n",
      "> Accuracy on validation data = 0.8883\n"
     ]
    },
    {
     "name": "stderr",
     "output_type": "stream",
     "text": [
      "/usr/local/Cellar/python3/3.6.2/Frameworks/Python.framework/Versions/3.6/lib/python3.6/site-packages/sklearn/linear_model/logistic.py:433: FutureWarning: Default solver will be changed to 'lbfgs' in 0.22. Specify a solver to silence this warning.\n",
      "  FutureWarning)\n"
     ]
    }
   ],
   "source": [
    "lr = LogisticRegression(random_state=11)\n",
    "lr.fit(x_train_with_metapreds, y_train)\n",
    "lr_preds_train = lr.predict(x_train_with_metapreds)\n",
    "lr_preds_val = lr.predict(x_val_with_metapreds)\n",
    "\n",
    "print('Stacked Classifier:\\n> Accuracy on training data = {:.4f}\\n> Accuracy on validation data = {:.4f}'.format(\n",
    "    accuracy_score(y_true=y_train, y_pred=lr_preds_train),\n",
    "    accuracy_score(y_true=y_val, y_pred=lr_preds_val)\n",
    "))"
   ]
  },
  {
   "cell_type": "code",
   "execution_count": 27,
   "metadata": {},
   "outputs": [
    {
     "name": "stdout",
     "output_type": "stream",
     "text": [
      "SVM:\n",
      "> Accuracy on training data = 0.6924\n",
      "> Accuracy on validation data = 0.7654\n",
      "kNN:\n",
      "> Accuracy on training data = 0.7921\n",
      "> Accuracy on validation data = 0.6704\n"
     ]
    }
   ],
   "source": [
    "# Comparing accuracy with that of base predictors\n",
    "\n",
    "print('SVM:\\n> Accuracy on training data = {:.4f}\\n> Accuracy on validation data = {:.4f}'.format(\n",
    "    accuracy_score(y_true=y_train, y_pred=svm.predict(x_train)),\n",
    "    accuracy_score(y_true=y_val, y_pred=svm_pred)\n",
    "))\n",
    "print('kNN:\\n> Accuracy on training data = {:.4f}\\n> Accuracy on validation data = {:.4f}'.format(\n",
    "    accuracy_score(y_true=y_train, y_pred=knn.predict(x_train)),\n",
    "    accuracy_score(y_true=y_val, y_pred=knn_pred)\n",
    "))"
   ]
  },
  {
   "cell_type": "code",
   "execution_count": null,
   "metadata": {},
   "outputs": [],
   "source": []
  }
 ],
 "metadata": {
  "kernelspec": {
   "display_name": "Python 3",
   "language": "python",
   "name": "python3"
  },
  "language_info": {
   "codemirror_mode": {
    "name": "ipython",
    "version": 3
   },
   "file_extension": ".py",
   "mimetype": "text/x-python",
   "name": "python",
   "nbconvert_exporter": "python",
   "pygments_lexer": "ipython3",
   "version": "3.6.2"
  }
 },
 "nbformat": 4,
 "nbformat_minor": 2
}
