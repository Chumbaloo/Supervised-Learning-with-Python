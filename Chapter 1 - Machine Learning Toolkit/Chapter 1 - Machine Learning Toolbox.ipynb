{
 "cells": [
  {
   "cell_type": "markdown",
   "metadata": {},
   "source": [
    "# Topic 2 - Python and Jupyter Notebooks"
   ]
  },
  {
   "cell_type": "markdown",
   "metadata": {},
   "source": [
    "## Concept 3 - Variables \n",
    "A Variable is a mutable object that can store anything we would like it to in python. Try out the below!"
   ]
  },
  {
   "cell_type": "code",
   "execution_count": 45,
   "metadata": {},
   "outputs": [
    {
     "data": {
      "text/plain": [
       "'Hello World!'"
      ]
     },
     "execution_count": 45,
     "metadata": {},
     "output_type": "execute_result"
    }
   ],
   "source": [
    "my_first_variable = 'Hello World!'\n",
    "\n",
    "print(my_first_variable)"
   ]
  },
  {
   "cell_type": "markdown",
   "metadata": {},
   "source": [
    "Note that once a cell has been run, any variables, libraries or functions etc are stored in the jupyter kernel and can be reused in other cells.\n",
    "\n",
    "Variables evaluate the expressions found in them. Try out the below!"
   ]
  },
  {
   "cell_type": "code",
   "execution_count": 9,
   "metadata": {},
   "outputs": [
    {
     "name": "stdout",
     "output_type": "stream",
     "text": [
      "5\n"
     ]
    }
   ],
   "source": [
    "my_second_variable = 2 + 3\n",
    "\n",
    "print(my_second_variable)"
   ]
  },
  {
   "cell_type": "markdown",
   "metadata": {},
   "source": [
    "Variables take on the type of whatever is saved in them. If you need a refresher on types (there may be some in Python that you haven't seen before), check out https://docs.python.org/2/library/types.html"
   ]
  },
  {
   "cell_type": "code",
   "execution_count": 10,
   "metadata": {},
   "outputs": [
    {
     "name": "stdout",
     "output_type": "stream",
     "text": [
      "<class 'str'>\n",
      "<class 'int'>\n"
     ]
    }
   ],
   "source": [
    "print(type(my_first_variable))\n",
    "\n",
    "print(type(my_second_variable))"
   ]
  },
  {
   "cell_type": "markdown",
   "metadata": {},
   "source": [
    "Variables can be updated to take new contents simply by setting them equal to a new value. The kernel has my_first_variable stored from the cells above."
   ]
  },
  {
   "cell_type": "code",
   "execution_count": 11,
   "metadata": {},
   "outputs": [
    {
     "name": "stdout",
     "output_type": "stream",
     "text": [
      "Hi Guys!\n",
      "Bye Guys!\n"
     ]
    }
   ],
   "source": [
    "print(my_first_variable)\n",
    "\n",
    "my_first_variable = 'Bye Guys!'\n",
    "\n",
    "print(my_first_variable)"
   ]
  },
  {
   "cell_type": "markdown",
   "metadata": {},
   "source": [
    "## Concept 4 - Operators "
   ]
  },
  {
   "cell_type": "markdown",
   "metadata": {},
   "source": [
    "An operator is a character that is used to make some kind of interaction take place between objects in python. Some classic arithmetic operators are + - / *. In Python we can also use + to concatenate strings."
   ]
  },
  {
   "cell_type": "code",
   "execution_count": 14,
   "metadata": {},
   "outputs": [
    {
     "name": "stdout",
     "output_type": "stream",
     "text": [
      "7\n",
      "25\n",
      "<class 'int'>\n",
      "<class 'str'>\n"
     ]
    }
   ],
   "source": [
    "print(2+5)\n",
    "print(\"2\" + \"5\")\n",
    "\n",
    "#Subtle difference between these two, even though they look the same\n",
    "\n",
    "print(type(2+5))\n",
    "print(type(\"2\" + \"5\"))"
   ]
  },
  {
   "cell_type": "markdown",
   "metadata": {},
   "source": [
    "Boolean operators allow us to make tests that are useful for conditional logic (if condition = True, perform an action). Some examples of boolean operators are > (greater than), < (less than), == (equal to), != (not equal to)"
   ]
  },
  {
   "cell_type": "code",
   "execution_count": 16,
   "metadata": {},
   "outputs": [
    {
     "name": "stdout",
     "output_type": "stream",
     "text": [
      "True\n",
      "False\n",
      "False\n",
      "True\n"
     ]
    }
   ],
   "source": [
    "print(2 == 2)\n",
    "\n",
    "print(1 > 2)\n",
    "\n",
    "print(2 < 1)\n",
    "\n",
    "print(2 != 1)"
   ]
  },
  {
   "cell_type": "markdown",
   "metadata": {},
   "source": [
    "For if conditions, a colon is used after the condition is specified, with an indentation in the next line of code"
   ]
  },
  {
   "cell_type": "code",
   "execution_count": 17,
   "metadata": {},
   "outputs": [
    {
     "name": "stdout",
     "output_type": "stream",
     "text": [
      "that's obvious\n"
     ]
    }
   ],
   "source": [
    "if 2>1:\n",
    "    print(\"that's obvious\")"
   ]
  },
  {
   "cell_type": "markdown",
   "metadata": {},
   "source": [
    "## Concept 5 - Functional Programming "
   ]
  },
  {
   "cell_type": "markdown",
   "metadata": {},
   "source": [
    "Python supports functional programming and a large portion of the work we'll be doing will make use of functions that are part of libraries. So far we have used the 'print' and 'type' functions that are reserved terms in Python. A function is 'called' by adding brackets after it. There is a subtle difference between the two pieces of code below."
   ]
  },
  {
   "cell_type": "code",
   "execution_count": 1,
   "metadata": {},
   "outputs": [
    {
     "data": {
      "text/plain": [
       "<function print>"
      ]
     },
     "execution_count": 1,
     "metadata": {},
     "output_type": "execute_result"
    }
   ],
   "source": [
    "#Example 1\n",
    "print"
   ]
  },
  {
   "cell_type": "code",
   "execution_count": 6,
   "metadata": {},
   "outputs": [
    {
     "name": "stdout",
     "output_type": "stream",
     "text": [
      "\n"
     ]
    }
   ],
   "source": [
    "#Example 2\n",
    "print()"
   ]
  },
  {
   "cell_type": "markdown",
   "metadata": {},
   "source": [
    "In Example 1 we have not called the function. Simply returned the function. In example two we have called the function but given it no arguments. Arguments are the inputs to the function and are supplied within the brackets that call the function. For example, the function 'type' returns the type of it's argument. If we put the integer 5 in, we get..."
   ]
  },
  {
   "cell_type": "code",
   "execution_count": 3,
   "metadata": {},
   "outputs": [
    {
     "data": {
      "text/plain": [
       "int"
      ]
     },
     "execution_count": 3,
     "metadata": {},
     "output_type": "execute_result"
    }
   ],
   "source": [
    "type(5)"
   ]
  },
  {
   "cell_type": "markdown",
   "metadata": {
    "collapsed": true
   },
   "source": [
    "If a function requires multiple arguments, we supply them within the brackets separated by commas. To show you an example let's build our own function that takes two arguments."
   ]
  },
  {
   "cell_type": "code",
   "execution_count": 4,
   "metadata": {},
   "outputs": [
    {
     "data": {
      "text/plain": [
       "20"
      ]
     },
     "execution_count": 4,
     "metadata": {},
     "output_type": "execute_result"
    }
   ],
   "source": [
    "#define the function with the def command, stating the name of the function and the arguments it takes. It's possible to have a function with no arguments.\n",
    "\n",
    "#This function takes two arguments, first_no & second_no\n",
    "\n",
    "def multiply(first_no, second_no):\n",
    "    \n",
    "    #perform any operations with an indentation\n",
    "    output = first_no * second_no\n",
    "    \n",
    "    # return what you want using the return command\n",
    "    return output\n",
    "\n",
    "multiply(5,4)"
   ]
  },
  {
   "cell_type": "markdown",
   "metadata": {},
   "source": [
    "## Concept 6 - Lists "
   ]
  },
  {
   "cell_type": "markdown",
   "metadata": {},
   "source": [
    "Lists are a classic part of Python. A changeable collection of objects that have an order that is accessable via an index. Square brackets are how we tell Python to build a list []."
   ]
  },
  {
   "cell_type": "code",
   "execution_count": 35,
   "metadata": {
    "collapsed": true
   },
   "outputs": [],
   "source": [
    "my_first_list = [1, 2, 3]"
   ]
  },
  {
   "cell_type": "markdown",
   "metadata": {},
   "source": [
    "To retrieve elements in a list, in index location can be given using another pair of square brackets. \n",
    "N.B indices start at 0 in Python!"
   ]
  },
  {
   "cell_type": "code",
   "execution_count": 36,
   "metadata": {},
   "outputs": [
    {
     "data": {
      "text/plain": [
       "1"
      ]
     },
     "execution_count": 36,
     "metadata": {},
     "output_type": "execute_result"
    }
   ],
   "source": [
    "#Element #1\n",
    "my_first_list[0]"
   ]
  },
  {
   "cell_type": "markdown",
   "metadata": {},
   "source": [
    "Lists can contain any objects we want, they don't need to be a consistent type. In the example below we have a string, an integer and even a function."
   ]
  },
  {
   "cell_type": "code",
   "execution_count": 37,
   "metadata": {
    "collapsed": true
   },
   "outputs": [],
   "source": [
    "my_second_list = ['a', 2, print]"
   ]
  },
  {
   "cell_type": "code",
   "execution_count": 38,
   "metadata": {},
   "outputs": [
    {
     "data": {
      "text/plain": [
       "<function print>"
      ]
     },
     "execution_count": 38,
     "metadata": {},
     "output_type": "execute_result"
    }
   ],
   "source": [
    "my_second_list[2]"
   ]
  },
  {
   "cell_type": "code",
   "execution_count": 39,
   "metadata": {},
   "outputs": [
    {
     "name": "stdout",
     "output_type": "stream",
     "text": [
      "Hello World!\n"
     ]
    }
   ],
   "source": [
    "my_second_list[2]('Hello World!')"
   ]
  },
  {
   "cell_type": "markdown",
   "metadata": {
    "collapsed": true
   },
   "source": [
    "Slicing is a way of retrieving multiple elements in a list by making use of the colon :"
   ]
  },
  {
   "cell_type": "code",
   "execution_count": 30,
   "metadata": {},
   "outputs": [
    {
     "data": {
      "text/plain": [
       "['zero', 'one', 'two', 'three']"
      ]
     },
     "execution_count": 30,
     "metadata": {},
     "output_type": "execute_result"
    }
   ],
   "source": [
    "my_third_list = ['zero','one','two','three','four','five','six','seven','eight']\n",
    "\n",
    "#colon before the index returns everything up until this index. In this case index location 0, 1, 2, 3 (remember indices start at 0 in Python)\n",
    "my_third_list[:4]"
   ]
  },
  {
   "cell_type": "code",
   "execution_count": 31,
   "metadata": {},
   "outputs": [
    {
     "data": {
      "text/plain": [
       "['four', 'five', 'six', 'seven', 'eight']"
      ]
     },
     "execution_count": 31,
     "metadata": {},
     "output_type": "execute_result"
    }
   ],
   "source": [
    "#colon after the index returns the index and everything after. In this case index location 4,5,6,7,8\n",
    "my_third_list[4:]"
   ]
  },
  {
   "cell_type": "markdown",
   "metadata": {},
   "source": [
    "For a computationally effective operation on a list, the pythonic approach is the list comprehension. List comprehensions take the following shape.\n",
    "\n",
    "[OPERATION for ELEMENT in LIST]\n",
    "\n",
    "E.g"
   ]
  },
  {
   "cell_type": "code",
   "execution_count": 40,
   "metadata": {},
   "outputs": [
    {
     "data": {
      "text/plain": [
       "[2, 4, 6]"
      ]
     },
     "execution_count": 40,
     "metadata": {},
     "output_type": "execute_result"
    }
   ],
   "source": [
    "[w*2 for w in my_first_list]"
   ]
  },
  {
   "cell_type": "markdown",
   "metadata": {},
   "source": [
    "Gives us each element in the list * 2. This can be really useful for speedy opertaions to a whole list."
   ]
  },
  {
   "cell_type": "markdown",
   "metadata": {},
   "source": [
    "## Topic 2 Activity"
   ]
  },
  {
   "cell_type": "markdown",
   "metadata": {},
   "source": [
    "To write a function that takes two arguments, tests to see if they are the same type and returns them as a list if they meet the condition."
   ]
  },
  {
   "cell_type": "code",
   "execution_count": 43,
   "metadata": {},
   "outputs": [
    {
     "data": {
      "text/plain": [
       "['hi', 'there']"
      ]
     },
     "execution_count": 43,
     "metadata": {},
     "output_type": "execute_result"
    }
   ],
   "source": [
    "#Solution\n",
    "def argument_checker(arg1, arg2):\n",
    "    if type(arg1) == type(arg2):\n",
    "        output = [arg1, arg2]\n",
    "        return output\n",
    "    \n",
    "argument_checker('hi', 'there')"
   ]
  },
  {
   "cell_type": "code",
   "execution_count": 44,
   "metadata": {
    "collapsed": true
   },
   "outputs": [],
   "source": [
    "#Solution\n",
    "argument_checker('hi', 6)"
   ]
  },
  {
   "cell_type": "markdown",
   "metadata": {},
   "source": [
    "# Topic 3 - Pandas, Your New Favourite Python Library"
   ]
  },
  {
   "cell_type": "markdown",
   "metadata": {},
   "source": [
    "## Concept 1 - Attaching Libraries "
   ]
  },
  {
   "cell_type": "markdown",
   "metadata": {},
   "source": [
    "A very helpful aspect of working with Python is it's support for Libraries. These are packages of code written by other people that save a lot of time for us as end users. Arguabley the most important library for any data scientist in Python is Pandas. Pandas is a library that gives support for DataFrames, which are the main structure by which we can store and use our data."
   ]
  },
  {
   "cell_type": "code",
   "execution_count": 55,
   "metadata": {
    "collapsed": true
   },
   "outputs": [],
   "source": [
    "#import statement\n",
    "import pandas"
   ]
  },
  {
   "cell_type": "markdown",
   "metadata": {},
   "source": [
    "## Concept 2 - DataFrame Construction"
   ]
  },
  {
   "cell_type": "markdown",
   "metadata": {},
   "source": [
    "We can make a DataFrame in many ways. An intuitive way is using the following pattern.\n",
    "\n",
    "Call pandas.DataFrame()\n",
    "\n",
    "Give an argument in the form.\n",
    "\n",
    "{'Column_name':[things,in,the,column], 'Next_column':[things,in,the,column]}"
   ]
  },
  {
   "cell_type": "code",
   "execution_count": 57,
   "metadata": {},
   "outputs": [
    {
     "data": {
      "text/html": [
       "<div>\n",
       "<style scoped>\n",
       "    .dataframe tbody tr th:only-of-type {\n",
       "        vertical-align: middle;\n",
       "    }\n",
       "\n",
       "    .dataframe tbody tr th {\n",
       "        vertical-align: top;\n",
       "    }\n",
       "\n",
       "    .dataframe thead th {\n",
       "        text-align: right;\n",
       "    }\n",
       "</style>\n",
       "<table border=\"1\" class=\"dataframe\">\n",
       "  <thead>\n",
       "    <tr style=\"text-align: right;\">\n",
       "      <th></th>\n",
       "      <th>Column 1</th>\n",
       "      <th>Column 2</th>\n",
       "    </tr>\n",
       "  </thead>\n",
       "  <tbody>\n",
       "    <tr>\n",
       "      <th>0</th>\n",
       "      <td>1</td>\n",
       "      <td>4</td>\n",
       "    </tr>\n",
       "    <tr>\n",
       "      <th>1</th>\n",
       "      <td>2</td>\n",
       "      <td>5</td>\n",
       "    </tr>\n",
       "    <tr>\n",
       "      <th>2</th>\n",
       "      <td>3</td>\n",
       "      <td>6</td>\n",
       "    </tr>\n",
       "  </tbody>\n",
       "</table>\n",
       "</div>"
      ],
      "text/plain": [
       "   Column 1  Column 2\n",
       "0         1         4\n",
       "1         2         5\n",
       "2         3         6"
      ]
     },
     "execution_count": 57,
     "metadata": {},
     "output_type": "execute_result"
    }
   ],
   "source": [
    "df = pandas.DataFrame({'Column 1':[1,2,3], 'Column 2':[4,5,6]})\n",
    "\n",
    "df"
   ]
  },
  {
   "cell_type": "markdown",
   "metadata": {},
   "source": [
    "Note that pandas has automatically given us row indices from 0:2 for each of our rows."
   ]
  },
  {
   "cell_type": "markdown",
   "metadata": {},
   "source": [
    "## Concept 3 - DataFrame Importing"
   ]
  },
  {
   "cell_type": "markdown",
   "metadata": {},
   "source": [
    "Reading data from csv is simple using pandas. We simply call the pandas function read_csv, with the csv location as an argument. The following code saves a dataframe with information about the passengers of the titanic to a variable named titanic. You can use Jupyter's interface to scroll through the data. Neat huh?\n",
    "\n",
    "Data Dictionary-\n",
    "\n",
    "survival\tSurvival\t0 = No, 1 = Yes\n",
    "pclass\tTicket class\t1 = 1st, 2 = 2nd, 3 = 3rd\n",
    "sex\tSex\t\n",
    "Age\tAge in years\t\n",
    "sibsp\t# of siblings / spouses aboard the Titanic\t\n",
    "parch\t# of parents / children aboard the Titanic\t\n",
    "ticket\tTicket number\t\n",
    "fare\tPassenger fare\t\n",
    "cabin\tCabin number\t\n",
    "embarked\tPort of Embarkation\tC = Cherbourg, Q = Queenstown, S = Southampton"
   ]
  },
  {
   "cell_type": "code",
   "execution_count": 133,
   "metadata": {
    "collapsed": true
   },
   "outputs": [],
   "source": [
    "ticket_info = pandas.read_csv('~/Desktop/ticket_info.csv', index_col='PassengerId')"
   ]
  },
  {
   "cell_type": "markdown",
   "metadata": {},
   "source": [
    "## Concept 4 - DataFrame Indexing & Slicing"
   ]
  },
  {
   "cell_type": "markdown",
   "metadata": {},
   "source": [
    "DataFrames make use of 'methods' to perform operations on them. For example, returning a particular subset of the information found in our titanic dataframe requires the .iloc method."
   ]
  },
  {
   "cell_type": "code",
   "execution_count": 134,
   "metadata": {},
   "outputs": [
    {
     "data": {
      "text/plain": [
       "Cabin                    NaN\n",
       "Embarked                   S\n",
       "Fare                   7.925\n",
       "Pclass                     3\n",
       "Ticket      STON/O2. 3101282\n",
       "Name: 3, dtype: object"
      ]
     },
     "execution_count": 134,
     "metadata": {},
     "output_type": "execute_result"
    }
   ],
   "source": [
    "ticket_info.iloc[2]"
   ]
  },
  {
   "cell_type": "markdown",
   "metadata": {},
   "source": [
    "Returns the 3rd row of the dataframe, with all variables. Remember indices in Python start at 0. We can slice the same way we did with lists, using the colon."
   ]
  },
  {
   "cell_type": "code",
   "execution_count": 135,
   "metadata": {},
   "outputs": [
    {
     "data": {
      "text/html": [
       "<div>\n",
       "<style scoped>\n",
       "    .dataframe tbody tr th:only-of-type {\n",
       "        vertical-align: middle;\n",
       "    }\n",
       "\n",
       "    .dataframe tbody tr th {\n",
       "        vertical-align: top;\n",
       "    }\n",
       "\n",
       "    .dataframe thead th {\n",
       "        text-align: right;\n",
       "    }\n",
       "</style>\n",
       "<table border=\"1\" class=\"dataframe\">\n",
       "  <thead>\n",
       "    <tr style=\"text-align: right;\">\n",
       "      <th></th>\n",
       "      <th>Cabin</th>\n",
       "      <th>Embarked</th>\n",
       "      <th>Fare</th>\n",
       "      <th>Pclass</th>\n",
       "      <th>Ticket</th>\n",
       "    </tr>\n",
       "    <tr>\n",
       "      <th>PassengerId</th>\n",
       "      <th></th>\n",
       "      <th></th>\n",
       "      <th></th>\n",
       "      <th></th>\n",
       "      <th></th>\n",
       "    </tr>\n",
       "  </thead>\n",
       "  <tbody>\n",
       "    <tr>\n",
       "      <th>3</th>\n",
       "      <td>NaN</td>\n",
       "      <td>S</td>\n",
       "      <td>7.9250</td>\n",
       "      <td>3</td>\n",
       "      <td>STON/O2. 3101282</td>\n",
       "    </tr>\n",
       "    <tr>\n",
       "      <th>4</th>\n",
       "      <td>C123</td>\n",
       "      <td>S</td>\n",
       "      <td>53.1000</td>\n",
       "      <td>1</td>\n",
       "      <td>113803</td>\n",
       "    </tr>\n",
       "    <tr>\n",
       "      <th>5</th>\n",
       "      <td>NaN</td>\n",
       "      <td>S</td>\n",
       "      <td>8.0500</td>\n",
       "      <td>3</td>\n",
       "      <td>373450</td>\n",
       "    </tr>\n",
       "    <tr>\n",
       "      <th>6</th>\n",
       "      <td>NaN</td>\n",
       "      <td>Q</td>\n",
       "      <td>8.4583</td>\n",
       "      <td>3</td>\n",
       "      <td>330877</td>\n",
       "    </tr>\n",
       "    <tr>\n",
       "      <th>7</th>\n",
       "      <td>E46</td>\n",
       "      <td>S</td>\n",
       "      <td>51.8625</td>\n",
       "      <td>1</td>\n",
       "      <td>17463</td>\n",
       "    </tr>\n",
       "    <tr>\n",
       "      <th>8</th>\n",
       "      <td>NaN</td>\n",
       "      <td>S</td>\n",
       "      <td>21.0750</td>\n",
       "      <td>3</td>\n",
       "      <td>349909</td>\n",
       "    </tr>\n",
       "    <tr>\n",
       "      <th>9</th>\n",
       "      <td>NaN</td>\n",
       "      <td>S</td>\n",
       "      <td>11.1333</td>\n",
       "      <td>3</td>\n",
       "      <td>347742</td>\n",
       "    </tr>\n",
       "    <tr>\n",
       "      <th>10</th>\n",
       "      <td>NaN</td>\n",
       "      <td>C</td>\n",
       "      <td>30.0708</td>\n",
       "      <td>2</td>\n",
       "      <td>237736</td>\n",
       "    </tr>\n",
       "    <tr>\n",
       "      <th>11</th>\n",
       "      <td>G6</td>\n",
       "      <td>S</td>\n",
       "      <td>16.7000</td>\n",
       "      <td>3</td>\n",
       "      <td>PP 9549</td>\n",
       "    </tr>\n",
       "    <tr>\n",
       "      <th>12</th>\n",
       "      <td>C103</td>\n",
       "      <td>S</td>\n",
       "      <td>26.5500</td>\n",
       "      <td>1</td>\n",
       "      <td>113783</td>\n",
       "    </tr>\n",
       "    <tr>\n",
       "      <th>13</th>\n",
       "      <td>NaN</td>\n",
       "      <td>S</td>\n",
       "      <td>8.0500</td>\n",
       "      <td>3</td>\n",
       "      <td>A/5. 2151</td>\n",
       "    </tr>\n",
       "    <tr>\n",
       "      <th>14</th>\n",
       "      <td>NaN</td>\n",
       "      <td>S</td>\n",
       "      <td>31.2750</td>\n",
       "      <td>3</td>\n",
       "      <td>347082</td>\n",
       "    </tr>\n",
       "    <tr>\n",
       "      <th>15</th>\n",
       "      <td>NaN</td>\n",
       "      <td>S</td>\n",
       "      <td>7.8542</td>\n",
       "      <td>3</td>\n",
       "      <td>350406</td>\n",
       "    </tr>\n",
       "    <tr>\n",
       "      <th>16</th>\n",
       "      <td>NaN</td>\n",
       "      <td>S</td>\n",
       "      <td>16.0000</td>\n",
       "      <td>2</td>\n",
       "      <td>248706</td>\n",
       "    </tr>\n",
       "    <tr>\n",
       "      <th>17</th>\n",
       "      <td>NaN</td>\n",
       "      <td>Q</td>\n",
       "      <td>29.1250</td>\n",
       "      <td>3</td>\n",
       "      <td>382652</td>\n",
       "    </tr>\n",
       "    <tr>\n",
       "      <th>18</th>\n",
       "      <td>NaN</td>\n",
       "      <td>S</td>\n",
       "      <td>13.0000</td>\n",
       "      <td>2</td>\n",
       "      <td>244373</td>\n",
       "    </tr>\n",
       "    <tr>\n",
       "      <th>19</th>\n",
       "      <td>NaN</td>\n",
       "      <td>S</td>\n",
       "      <td>18.0000</td>\n",
       "      <td>3</td>\n",
       "      <td>345763</td>\n",
       "    </tr>\n",
       "    <tr>\n",
       "      <th>20</th>\n",
       "      <td>NaN</td>\n",
       "      <td>C</td>\n",
       "      <td>7.2250</td>\n",
       "      <td>3</td>\n",
       "      <td>2649</td>\n",
       "    </tr>\n",
       "    <tr>\n",
       "      <th>21</th>\n",
       "      <td>NaN</td>\n",
       "      <td>S</td>\n",
       "      <td>26.0000</td>\n",
       "      <td>2</td>\n",
       "      <td>239865</td>\n",
       "    </tr>\n",
       "    <tr>\n",
       "      <th>22</th>\n",
       "      <td>D56</td>\n",
       "      <td>S</td>\n",
       "      <td>13.0000</td>\n",
       "      <td>2</td>\n",
       "      <td>248698</td>\n",
       "    </tr>\n",
       "    <tr>\n",
       "      <th>23</th>\n",
       "      <td>NaN</td>\n",
       "      <td>Q</td>\n",
       "      <td>8.0292</td>\n",
       "      <td>3</td>\n",
       "      <td>330923</td>\n",
       "    </tr>\n",
       "    <tr>\n",
       "      <th>24</th>\n",
       "      <td>A6</td>\n",
       "      <td>S</td>\n",
       "      <td>35.5000</td>\n",
       "      <td>1</td>\n",
       "      <td>113788</td>\n",
       "    </tr>\n",
       "    <tr>\n",
       "      <th>25</th>\n",
       "      <td>NaN</td>\n",
       "      <td>S</td>\n",
       "      <td>21.0750</td>\n",
       "      <td>3</td>\n",
       "      <td>349909</td>\n",
       "    </tr>\n",
       "    <tr>\n",
       "      <th>26</th>\n",
       "      <td>NaN</td>\n",
       "      <td>S</td>\n",
       "      <td>31.3875</td>\n",
       "      <td>3</td>\n",
       "      <td>347077</td>\n",
       "    </tr>\n",
       "    <tr>\n",
       "      <th>27</th>\n",
       "      <td>NaN</td>\n",
       "      <td>C</td>\n",
       "      <td>7.2250</td>\n",
       "      <td>3</td>\n",
       "      <td>2631</td>\n",
       "    </tr>\n",
       "    <tr>\n",
       "      <th>28</th>\n",
       "      <td>C23 C25 C27</td>\n",
       "      <td>S</td>\n",
       "      <td>263.0000</td>\n",
       "      <td>1</td>\n",
       "      <td>19950</td>\n",
       "    </tr>\n",
       "    <tr>\n",
       "      <th>29</th>\n",
       "      <td>NaN</td>\n",
       "      <td>Q</td>\n",
       "      <td>7.8792</td>\n",
       "      <td>3</td>\n",
       "      <td>330959</td>\n",
       "    </tr>\n",
       "    <tr>\n",
       "      <th>30</th>\n",
       "      <td>NaN</td>\n",
       "      <td>S</td>\n",
       "      <td>7.8958</td>\n",
       "      <td>3</td>\n",
       "      <td>349216</td>\n",
       "    </tr>\n",
       "    <tr>\n",
       "      <th>31</th>\n",
       "      <td>NaN</td>\n",
       "      <td>C</td>\n",
       "      <td>27.7208</td>\n",
       "      <td>1</td>\n",
       "      <td>PC 17601</td>\n",
       "    </tr>\n",
       "    <tr>\n",
       "      <th>32</th>\n",
       "      <td>B78</td>\n",
       "      <td>C</td>\n",
       "      <td>146.5208</td>\n",
       "      <td>1</td>\n",
       "      <td>PC 17569</td>\n",
       "    </tr>\n",
       "    <tr>\n",
       "      <th>33</th>\n",
       "      <td>NaN</td>\n",
       "      <td>Q</td>\n",
       "      <td>7.7500</td>\n",
       "      <td>3</td>\n",
       "      <td>335677</td>\n",
       "    </tr>\n",
       "    <tr>\n",
       "      <th>34</th>\n",
       "      <td>NaN</td>\n",
       "      <td>S</td>\n",
       "      <td>10.5000</td>\n",
       "      <td>2</td>\n",
       "      <td>C.A. 24579</td>\n",
       "    </tr>\n",
       "    <tr>\n",
       "      <th>35</th>\n",
       "      <td>NaN</td>\n",
       "      <td>C</td>\n",
       "      <td>82.1708</td>\n",
       "      <td>1</td>\n",
       "      <td>PC 17604</td>\n",
       "    </tr>\n",
       "    <tr>\n",
       "      <th>36</th>\n",
       "      <td>NaN</td>\n",
       "      <td>S</td>\n",
       "      <td>52.0000</td>\n",
       "      <td>1</td>\n",
       "      <td>113789</td>\n",
       "    </tr>\n",
       "    <tr>\n",
       "      <th>37</th>\n",
       "      <td>NaN</td>\n",
       "      <td>C</td>\n",
       "      <td>7.2292</td>\n",
       "      <td>3</td>\n",
       "      <td>2677</td>\n",
       "    </tr>\n",
       "    <tr>\n",
       "      <th>38</th>\n",
       "      <td>NaN</td>\n",
       "      <td>S</td>\n",
       "      <td>8.0500</td>\n",
       "      <td>3</td>\n",
       "      <td>A./5. 2152</td>\n",
       "    </tr>\n",
       "    <tr>\n",
       "      <th>39</th>\n",
       "      <td>NaN</td>\n",
       "      <td>S</td>\n",
       "      <td>18.0000</td>\n",
       "      <td>3</td>\n",
       "      <td>345764</td>\n",
       "    </tr>\n",
       "    <tr>\n",
       "      <th>40</th>\n",
       "      <td>NaN</td>\n",
       "      <td>C</td>\n",
       "      <td>11.2417</td>\n",
       "      <td>3</td>\n",
       "      <td>2651</td>\n",
       "    </tr>\n",
       "    <tr>\n",
       "      <th>41</th>\n",
       "      <td>NaN</td>\n",
       "      <td>S</td>\n",
       "      <td>9.4750</td>\n",
       "      <td>3</td>\n",
       "      <td>7546</td>\n",
       "    </tr>\n",
       "    <tr>\n",
       "      <th>42</th>\n",
       "      <td>NaN</td>\n",
       "      <td>S</td>\n",
       "      <td>21.0000</td>\n",
       "      <td>2</td>\n",
       "      <td>11668</td>\n",
       "    </tr>\n",
       "    <tr>\n",
       "      <th>43</th>\n",
       "      <td>NaN</td>\n",
       "      <td>C</td>\n",
       "      <td>7.8958</td>\n",
       "      <td>3</td>\n",
       "      <td>349253</td>\n",
       "    </tr>\n",
       "    <tr>\n",
       "      <th>44</th>\n",
       "      <td>NaN</td>\n",
       "      <td>C</td>\n",
       "      <td>41.5792</td>\n",
       "      <td>2</td>\n",
       "      <td>SC/Paris 2123</td>\n",
       "    </tr>\n",
       "    <tr>\n",
       "      <th>45</th>\n",
       "      <td>NaN</td>\n",
       "      <td>Q</td>\n",
       "      <td>7.8792</td>\n",
       "      <td>3</td>\n",
       "      <td>330958</td>\n",
       "    </tr>\n",
       "    <tr>\n",
       "      <th>46</th>\n",
       "      <td>NaN</td>\n",
       "      <td>S</td>\n",
       "      <td>8.0500</td>\n",
       "      <td>3</td>\n",
       "      <td>S.C./A.4. 23567</td>\n",
       "    </tr>\n",
       "    <tr>\n",
       "      <th>47</th>\n",
       "      <td>NaN</td>\n",
       "      <td>Q</td>\n",
       "      <td>15.5000</td>\n",
       "      <td>3</td>\n",
       "      <td>370371</td>\n",
       "    </tr>\n",
       "    <tr>\n",
       "      <th>48</th>\n",
       "      <td>NaN</td>\n",
       "      <td>Q</td>\n",
       "      <td>7.7500</td>\n",
       "      <td>3</td>\n",
       "      <td>14311</td>\n",
       "    </tr>\n",
       "    <tr>\n",
       "      <th>49</th>\n",
       "      <td>NaN</td>\n",
       "      <td>C</td>\n",
       "      <td>21.6792</td>\n",
       "      <td>3</td>\n",
       "      <td>2662</td>\n",
       "    </tr>\n",
       "    <tr>\n",
       "      <th>50</th>\n",
       "      <td>NaN</td>\n",
       "      <td>S</td>\n",
       "      <td>17.8000</td>\n",
       "      <td>3</td>\n",
       "      <td>349237</td>\n",
       "    </tr>\n",
       "  </tbody>\n",
       "</table>\n",
       "</div>"
      ],
      "text/plain": [
       "                   Cabin Embarked      Fare  Pclass            Ticket\n",
       "PassengerId                                                          \n",
       "3                    NaN        S    7.9250       3  STON/O2. 3101282\n",
       "4                   C123        S   53.1000       1            113803\n",
       "5                    NaN        S    8.0500       3            373450\n",
       "6                    NaN        Q    8.4583       3            330877\n",
       "7                    E46        S   51.8625       1             17463\n",
       "8                    NaN        S   21.0750       3            349909\n",
       "9                    NaN        S   11.1333       3            347742\n",
       "10                   NaN        C   30.0708       2            237736\n",
       "11                    G6        S   16.7000       3           PP 9549\n",
       "12                  C103        S   26.5500       1            113783\n",
       "13                   NaN        S    8.0500       3         A/5. 2151\n",
       "14                   NaN        S   31.2750       3            347082\n",
       "15                   NaN        S    7.8542       3            350406\n",
       "16                   NaN        S   16.0000       2            248706\n",
       "17                   NaN        Q   29.1250       3            382652\n",
       "18                   NaN        S   13.0000       2            244373\n",
       "19                   NaN        S   18.0000       3            345763\n",
       "20                   NaN        C    7.2250       3              2649\n",
       "21                   NaN        S   26.0000       2            239865\n",
       "22                   D56        S   13.0000       2            248698\n",
       "23                   NaN        Q    8.0292       3            330923\n",
       "24                    A6        S   35.5000       1            113788\n",
       "25                   NaN        S   21.0750       3            349909\n",
       "26                   NaN        S   31.3875       3            347077\n",
       "27                   NaN        C    7.2250       3              2631\n",
       "28           C23 C25 C27        S  263.0000       1             19950\n",
       "29                   NaN        Q    7.8792       3            330959\n",
       "30                   NaN        S    7.8958       3            349216\n",
       "31                   NaN        C   27.7208       1          PC 17601\n",
       "32                   B78        C  146.5208       1          PC 17569\n",
       "33                   NaN        Q    7.7500       3            335677\n",
       "34                   NaN        S   10.5000       2        C.A. 24579\n",
       "35                   NaN        C   82.1708       1          PC 17604\n",
       "36                   NaN        S   52.0000       1            113789\n",
       "37                   NaN        C    7.2292       3              2677\n",
       "38                   NaN        S    8.0500       3        A./5. 2152\n",
       "39                   NaN        S   18.0000       3            345764\n",
       "40                   NaN        C   11.2417       3              2651\n",
       "41                   NaN        S    9.4750       3              7546\n",
       "42                   NaN        S   21.0000       2             11668\n",
       "43                   NaN        C    7.8958       3            349253\n",
       "44                   NaN        C   41.5792       2     SC/Paris 2123\n",
       "45                   NaN        Q    7.8792       3            330958\n",
       "46                   NaN        S    8.0500       3   S.C./A.4. 23567\n",
       "47                   NaN        Q   15.5000       3            370371\n",
       "48                   NaN        Q    7.7500       3             14311\n",
       "49                   NaN        C   21.6792       3              2662\n",
       "50                   NaN        S   17.8000       3            349237"
      ]
     },
     "execution_count": 135,
     "metadata": {},
     "output_type": "execute_result"
    }
   ],
   "source": [
    "ticket_info.iloc[2:50]"
   ]
  },
  {
   "cell_type": "markdown",
   "metadata": {},
   "source": [
    "## Concept 5 - DataFrame Merging"
   ]
  },
  {
   "cell_type": "markdown",
   "metadata": {},
   "source": [
    "Sometimes we have data in different frames that needs to be combined in some way. This problem occurs often in the real world and a solution is provided by pandas in the form of merges. Using the same technique as found in concept 2, we can make three dataframes. All we need is a common factor between the two dataframes that we can use as a ‘key’ to join the two frames together. In this instance we can use the name of the show."
   ]
  },
  {
   "cell_type": "code",
   "execution_count": 102,
   "metadata": {
    "collapsed": true
   },
   "outputs": [],
   "source": [
    "netflix1 = pandas.DataFrame({'Show Name':\n",
    "                             ['House of Cards','Orange is the New Black','Making a Murderer'], \n",
    "                             'Category':\n",
    "                             ['Drama','Drama','Documentary']\n",
    "                            })\n",
    "\n",
    "netflix2 = pandas.DataFrame({'Show Name':\n",
    "                             ['House of Cards','Orange is the New Black','Making a Murderer'],\n",
    "                             'Season Count':\n",
    "                             [6,6,2]\n",
    "                            })\n",
    "\n",
    "netflix3 = pandas.DataFrame({'Show Name':\n",
    "                             ['House of Cards','Orange is the New Black','Making a Murderer'], \n",
    "                             'Original Release':\n",
    "                             ['2013-02-01','2013-07-11','2015-12-18']\n",
    "                            })\n"
   ]
  },
  {
   "cell_type": "code",
   "execution_count": 103,
   "metadata": {},
   "outputs": [
    {
     "data": {
      "text/html": [
       "<div>\n",
       "<style scoped>\n",
       "    .dataframe tbody tr th:only-of-type {\n",
       "        vertical-align: middle;\n",
       "    }\n",
       "\n",
       "    .dataframe tbody tr th {\n",
       "        vertical-align: top;\n",
       "    }\n",
       "\n",
       "    .dataframe thead th {\n",
       "        text-align: right;\n",
       "    }\n",
       "</style>\n",
       "<table border=\"1\" class=\"dataframe\">\n",
       "  <thead>\n",
       "    <tr style=\"text-align: right;\">\n",
       "      <th></th>\n",
       "      <th>Show Name</th>\n",
       "      <th>Category</th>\n",
       "    </tr>\n",
       "  </thead>\n",
       "  <tbody>\n",
       "    <tr>\n",
       "      <th>0</th>\n",
       "      <td>House of Cards</td>\n",
       "      <td>Drama</td>\n",
       "    </tr>\n",
       "    <tr>\n",
       "      <th>1</th>\n",
       "      <td>Orange is the New Black</td>\n",
       "      <td>Drama</td>\n",
       "    </tr>\n",
       "    <tr>\n",
       "      <th>2</th>\n",
       "      <td>Making a Murderer</td>\n",
       "      <td>Documentary</td>\n",
       "    </tr>\n",
       "  </tbody>\n",
       "</table>\n",
       "</div>"
      ],
      "text/plain": [
       "                 Show Name     Category\n",
       "0           House of Cards        Drama\n",
       "1  Orange is the New Black        Drama\n",
       "2        Making a Murderer  Documentary"
      ]
     },
     "execution_count": 103,
     "metadata": {},
     "output_type": "execute_result"
    }
   ],
   "source": [
    "netflix1"
   ]
  },
  {
   "cell_type": "code",
   "execution_count": 104,
   "metadata": {},
   "outputs": [
    {
     "data": {
      "text/html": [
       "<div>\n",
       "<style scoped>\n",
       "    .dataframe tbody tr th:only-of-type {\n",
       "        vertical-align: middle;\n",
       "    }\n",
       "\n",
       "    .dataframe tbody tr th {\n",
       "        vertical-align: top;\n",
       "    }\n",
       "\n",
       "    .dataframe thead th {\n",
       "        text-align: right;\n",
       "    }\n",
       "</style>\n",
       "<table border=\"1\" class=\"dataframe\">\n",
       "  <thead>\n",
       "    <tr style=\"text-align: right;\">\n",
       "      <th></th>\n",
       "      <th>Show Name</th>\n",
       "      <th>Season Count</th>\n",
       "    </tr>\n",
       "  </thead>\n",
       "  <tbody>\n",
       "    <tr>\n",
       "      <th>0</th>\n",
       "      <td>House of Cards</td>\n",
       "      <td>6</td>\n",
       "    </tr>\n",
       "    <tr>\n",
       "      <th>1</th>\n",
       "      <td>Orange is the New Black</td>\n",
       "      <td>6</td>\n",
       "    </tr>\n",
       "    <tr>\n",
       "      <th>2</th>\n",
       "      <td>Making a Murderer</td>\n",
       "      <td>2</td>\n",
       "    </tr>\n",
       "  </tbody>\n",
       "</table>\n",
       "</div>"
      ],
      "text/plain": [
       "                 Show Name  Season Count\n",
       "0           House of Cards             6\n",
       "1  Orange is the New Black             6\n",
       "2        Making a Murderer             2"
      ]
     },
     "execution_count": 104,
     "metadata": {},
     "output_type": "execute_result"
    }
   ],
   "source": [
    "netflix2"
   ]
  },
  {
   "cell_type": "code",
   "execution_count": 105,
   "metadata": {},
   "outputs": [
    {
     "data": {
      "text/html": [
       "<div>\n",
       "<style scoped>\n",
       "    .dataframe tbody tr th:only-of-type {\n",
       "        vertical-align: middle;\n",
       "    }\n",
       "\n",
       "    .dataframe tbody tr th {\n",
       "        vertical-align: top;\n",
       "    }\n",
       "\n",
       "    .dataframe thead th {\n",
       "        text-align: right;\n",
       "    }\n",
       "</style>\n",
       "<table border=\"1\" class=\"dataframe\">\n",
       "  <thead>\n",
       "    <tr style=\"text-align: right;\">\n",
       "      <th></th>\n",
       "      <th>Show Name</th>\n",
       "      <th>Original Release</th>\n",
       "    </tr>\n",
       "  </thead>\n",
       "  <tbody>\n",
       "    <tr>\n",
       "      <th>0</th>\n",
       "      <td>House of Cards</td>\n",
       "      <td>2013-02-01</td>\n",
       "    </tr>\n",
       "    <tr>\n",
       "      <th>1</th>\n",
       "      <td>Orange is the New Black</td>\n",
       "      <td>2013-07-11</td>\n",
       "    </tr>\n",
       "    <tr>\n",
       "      <th>2</th>\n",
       "      <td>Making a Murderer</td>\n",
       "      <td>2015-12-18</td>\n",
       "    </tr>\n",
       "  </tbody>\n",
       "</table>\n",
       "</div>"
      ],
      "text/plain": [
       "                 Show Name Original Release\n",
       "0           House of Cards       2013-02-01\n",
       "1  Orange is the New Black       2013-07-11\n",
       "2        Making a Murderer       2015-12-18"
      ]
     },
     "execution_count": 105,
     "metadata": {},
     "output_type": "execute_result"
    }
   ],
   "source": [
    "netflix3"
   ]
  },
  {
   "cell_type": "markdown",
   "metadata": {},
   "source": [
    "Using pandas 'merge' method we can combine these"
   ]
  },
  {
   "cell_type": "code",
   "execution_count": 142,
   "metadata": {},
   "outputs": [
    {
     "data": {
      "text/html": [
       "<div>\n",
       "<style scoped>\n",
       "    .dataframe tbody tr th:only-of-type {\n",
       "        vertical-align: middle;\n",
       "    }\n",
       "\n",
       "    .dataframe tbody tr th {\n",
       "        vertical-align: top;\n",
       "    }\n",
       "\n",
       "    .dataframe thead th {\n",
       "        text-align: right;\n",
       "    }\n",
       "</style>\n",
       "<table border=\"1\" class=\"dataframe\">\n",
       "  <thead>\n",
       "    <tr style=\"text-align: right;\">\n",
       "      <th></th>\n",
       "      <th>Show Name</th>\n",
       "      <th>Category</th>\n",
       "      <th>Season Count</th>\n",
       "    </tr>\n",
       "  </thead>\n",
       "  <tbody>\n",
       "    <tr>\n",
       "      <th>0</th>\n",
       "      <td>House of Cards</td>\n",
       "      <td>Drama</td>\n",
       "      <td>6</td>\n",
       "    </tr>\n",
       "    <tr>\n",
       "      <th>1</th>\n",
       "      <td>Orange is the New Black</td>\n",
       "      <td>Drama</td>\n",
       "      <td>6</td>\n",
       "    </tr>\n",
       "    <tr>\n",
       "      <th>2</th>\n",
       "      <td>Making a Murderer</td>\n",
       "      <td>Documentary</td>\n",
       "      <td>2</td>\n",
       "    </tr>\n",
       "  </tbody>\n",
       "</table>\n",
       "</div>"
      ],
      "text/plain": [
       "                 Show Name     Category  Season Count\n",
       "0           House of Cards        Drama             6\n",
       "1  Orange is the New Black        Drama             6\n",
       "2        Making a Murderer  Documentary             2"
      ]
     },
     "execution_count": 142,
     "metadata": {},
     "output_type": "execute_result"
    }
   ],
   "source": [
    "netflix1.merge(netflix2)"
   ]
  },
  {
   "cell_type": "markdown",
   "metadata": {},
   "source": [
    "It's also possible to 'chain' together several merges like so"
   ]
  },
  {
   "cell_type": "code",
   "execution_count": 143,
   "metadata": {},
   "outputs": [
    {
     "data": {
      "text/html": [
       "<div>\n",
       "<style scoped>\n",
       "    .dataframe tbody tr th:only-of-type {\n",
       "        vertical-align: middle;\n",
       "    }\n",
       "\n",
       "    .dataframe tbody tr th {\n",
       "        vertical-align: top;\n",
       "    }\n",
       "\n",
       "    .dataframe thead th {\n",
       "        text-align: right;\n",
       "    }\n",
       "</style>\n",
       "<table border=\"1\" class=\"dataframe\">\n",
       "  <thead>\n",
       "    <tr style=\"text-align: right;\">\n",
       "      <th></th>\n",
       "      <th>Show Name</th>\n",
       "      <th>Category</th>\n",
       "      <th>Season Count</th>\n",
       "      <th>Original Release</th>\n",
       "    </tr>\n",
       "  </thead>\n",
       "  <tbody>\n",
       "    <tr>\n",
       "      <th>0</th>\n",
       "      <td>House of Cards</td>\n",
       "      <td>Drama</td>\n",
       "      <td>6</td>\n",
       "      <td>2013-02-01</td>\n",
       "    </tr>\n",
       "    <tr>\n",
       "      <th>1</th>\n",
       "      <td>Orange is the New Black</td>\n",
       "      <td>Drama</td>\n",
       "      <td>6</td>\n",
       "      <td>2013-07-11</td>\n",
       "    </tr>\n",
       "    <tr>\n",
       "      <th>2</th>\n",
       "      <td>Making a Murderer</td>\n",
       "      <td>Documentary</td>\n",
       "      <td>2</td>\n",
       "      <td>2015-12-18</td>\n",
       "    </tr>\n",
       "  </tbody>\n",
       "</table>\n",
       "</div>"
      ],
      "text/plain": [
       "                 Show Name     Category  Season Count Original Release\n",
       "0           House of Cards        Drama             6       2013-02-01\n",
       "1  Orange is the New Black        Drama             6       2013-07-11\n",
       "2        Making a Murderer  Documentary             2       2015-12-18"
      ]
     },
     "execution_count": 143,
     "metadata": {},
     "output_type": "execute_result"
    }
   ],
   "source": [
    "netflix1.merge(netflix2).merge(netflix3)"
   ]
  },
  {
   "cell_type": "markdown",
   "metadata": {},
   "source": [
    "## Topic 3 Activity"
   ]
  },
  {
   "cell_type": "markdown",
   "metadata": {},
   "source": [
    "Find out how many rows are in the combined ticket and passenger info data? What was the common factor (key) you used to merge the dataframes?\n",
    "\n",
    "Get rows 460-470 of data. Were any of these rows more expensive tickets than the ticket held by passenger id 400?"
   ]
  },
  {
   "cell_type": "code",
   "execution_count": 8,
   "metadata": {},
   "outputs": [
    {
     "data": {
      "text/html": [
       "<div>\n",
       "<style scoped>\n",
       "    .dataframe tbody tr th:only-of-type {\n",
       "        vertical-align: middle;\n",
       "    }\n",
       "\n",
       "    .dataframe tbody tr th {\n",
       "        vertical-align: top;\n",
       "    }\n",
       "\n",
       "    .dataframe thead th {\n",
       "        text-align: right;\n",
       "    }\n",
       "</style>\n",
       "<table border=\"1\" class=\"dataframe\">\n",
       "  <thead>\n",
       "    <tr style=\"text-align: right;\">\n",
       "      <th></th>\n",
       "      <th>PassengerId</th>\n",
       "      <th>Cabin</th>\n",
       "      <th>Embarked</th>\n",
       "      <th>Fare</th>\n",
       "      <th>Pclass</th>\n",
       "      <th>Ticket</th>\n",
       "      <th>Age</th>\n",
       "      <th>Name</th>\n",
       "      <th>Parch</th>\n",
       "      <th>Sex</th>\n",
       "      <th>SibSp</th>\n",
       "      <th>Survived</th>\n",
       "    </tr>\n",
       "  </thead>\n",
       "  <tbody>\n",
       "    <tr>\n",
       "      <th>460</th>\n",
       "      <td>461</td>\n",
       "      <td>E12</td>\n",
       "      <td>S</td>\n",
       "      <td>26.5500</td>\n",
       "      <td>1</td>\n",
       "      <td>19952</td>\n",
       "      <td>48.00</td>\n",
       "      <td>Anderson, Mr. Harry</td>\n",
       "      <td>0</td>\n",
       "      <td>male</td>\n",
       "      <td>0</td>\n",
       "      <td>1.0</td>\n",
       "    </tr>\n",
       "    <tr>\n",
       "      <th>461</th>\n",
       "      <td>462</td>\n",
       "      <td>NaN</td>\n",
       "      <td>S</td>\n",
       "      <td>8.0500</td>\n",
       "      <td>3</td>\n",
       "      <td>364506</td>\n",
       "      <td>34.00</td>\n",
       "      <td>Morley, Mr. William</td>\n",
       "      <td>0</td>\n",
       "      <td>male</td>\n",
       "      <td>0</td>\n",
       "      <td>0.0</td>\n",
       "    </tr>\n",
       "    <tr>\n",
       "      <th>462</th>\n",
       "      <td>463</td>\n",
       "      <td>E63</td>\n",
       "      <td>S</td>\n",
       "      <td>38.5000</td>\n",
       "      <td>1</td>\n",
       "      <td>111320</td>\n",
       "      <td>47.00</td>\n",
       "      <td>Gee, Mr. Arthur H</td>\n",
       "      <td>0</td>\n",
       "      <td>male</td>\n",
       "      <td>0</td>\n",
       "      <td>0.0</td>\n",
       "    </tr>\n",
       "    <tr>\n",
       "      <th>463</th>\n",
       "      <td>464</td>\n",
       "      <td>NaN</td>\n",
       "      <td>S</td>\n",
       "      <td>13.0000</td>\n",
       "      <td>2</td>\n",
       "      <td>234360</td>\n",
       "      <td>48.00</td>\n",
       "      <td>Milling, Mr. Jacob Christian</td>\n",
       "      <td>0</td>\n",
       "      <td>male</td>\n",
       "      <td>0</td>\n",
       "      <td>0.0</td>\n",
       "    </tr>\n",
       "    <tr>\n",
       "      <th>464</th>\n",
       "      <td>465</td>\n",
       "      <td>NaN</td>\n",
       "      <td>S</td>\n",
       "      <td>8.0500</td>\n",
       "      <td>3</td>\n",
       "      <td>A/S 2816</td>\n",
       "      <td>NaN</td>\n",
       "      <td>Maisner, Mr. Simon</td>\n",
       "      <td>0</td>\n",
       "      <td>male</td>\n",
       "      <td>0</td>\n",
       "      <td>0.0</td>\n",
       "    </tr>\n",
       "    <tr>\n",
       "      <th>465</th>\n",
       "      <td>466</td>\n",
       "      <td>NaN</td>\n",
       "      <td>S</td>\n",
       "      <td>7.0500</td>\n",
       "      <td>3</td>\n",
       "      <td>SOTON/O.Q. 3101306</td>\n",
       "      <td>38.00</td>\n",
       "      <td>Goncalves, Mr. Manuel Estanslas</td>\n",
       "      <td>0</td>\n",
       "      <td>male</td>\n",
       "      <td>0</td>\n",
       "      <td>0.0</td>\n",
       "    </tr>\n",
       "    <tr>\n",
       "      <th>466</th>\n",
       "      <td>467</td>\n",
       "      <td>NaN</td>\n",
       "      <td>S</td>\n",
       "      <td>0.0000</td>\n",
       "      <td>2</td>\n",
       "      <td>239853</td>\n",
       "      <td>NaN</td>\n",
       "      <td>Campbell, Mr. William</td>\n",
       "      <td>0</td>\n",
       "      <td>male</td>\n",
       "      <td>0</td>\n",
       "      <td>0.0</td>\n",
       "    </tr>\n",
       "    <tr>\n",
       "      <th>467</th>\n",
       "      <td>468</td>\n",
       "      <td>NaN</td>\n",
       "      <td>S</td>\n",
       "      <td>26.5500</td>\n",
       "      <td>1</td>\n",
       "      <td>113792</td>\n",
       "      <td>56.00</td>\n",
       "      <td>Smart, Mr. John Montgomery</td>\n",
       "      <td>0</td>\n",
       "      <td>male</td>\n",
       "      <td>0</td>\n",
       "      <td>0.0</td>\n",
       "    </tr>\n",
       "    <tr>\n",
       "      <th>468</th>\n",
       "      <td>469</td>\n",
       "      <td>NaN</td>\n",
       "      <td>Q</td>\n",
       "      <td>7.7250</td>\n",
       "      <td>3</td>\n",
       "      <td>36209</td>\n",
       "      <td>NaN</td>\n",
       "      <td>Scanlan, Mr. James</td>\n",
       "      <td>0</td>\n",
       "      <td>male</td>\n",
       "      <td>0</td>\n",
       "      <td>0.0</td>\n",
       "    </tr>\n",
       "    <tr>\n",
       "      <th>469</th>\n",
       "      <td>470</td>\n",
       "      <td>NaN</td>\n",
       "      <td>C</td>\n",
       "      <td>19.2583</td>\n",
       "      <td>3</td>\n",
       "      <td>2666</td>\n",
       "      <td>0.75</td>\n",
       "      <td>Baclini, Miss. Helene Barbara</td>\n",
       "      <td>1</td>\n",
       "      <td>female</td>\n",
       "      <td>2</td>\n",
       "      <td>1.0</td>\n",
       "    </tr>\n",
       "  </tbody>\n",
       "</table>\n",
       "</div>"
      ],
      "text/plain": [
       "     PassengerId Cabin Embarked     Fare  Pclass              Ticket    Age  \\\n",
       "460          461   E12        S  26.5500       1               19952  48.00   \n",
       "461          462   NaN        S   8.0500       3              364506  34.00   \n",
       "462          463   E63        S  38.5000       1              111320  47.00   \n",
       "463          464   NaN        S  13.0000       2              234360  48.00   \n",
       "464          465   NaN        S   8.0500       3            A/S 2816    NaN   \n",
       "465          466   NaN        S   7.0500       3  SOTON/O.Q. 3101306  38.00   \n",
       "466          467   NaN        S   0.0000       2              239853    NaN   \n",
       "467          468   NaN        S  26.5500       1              113792  56.00   \n",
       "468          469   NaN        Q   7.7250       3               36209    NaN   \n",
       "469          470   NaN        C  19.2583       3                2666   0.75   \n",
       "\n",
       "                                Name  Parch     Sex  SibSp  Survived  \n",
       "460              Anderson, Mr. Harry      0    male      0       1.0  \n",
       "461              Morley, Mr. William      0    male      0       0.0  \n",
       "462                Gee, Mr. Arthur H      0    male      0       0.0  \n",
       "463     Milling, Mr. Jacob Christian      0    male      0       0.0  \n",
       "464               Maisner, Mr. Simon      0    male      0       0.0  \n",
       "465  Goncalves, Mr. Manuel Estanslas      0    male      0       0.0  \n",
       "466            Campbell, Mr. William      0    male      0       0.0  \n",
       "467       Smart, Mr. John Montgomery      0    male      0       0.0  \n",
       "468               Scanlan, Mr. James      0    male      0       0.0  \n",
       "469    Baclini, Miss. Helene Barbara      1  female      2       1.0  "
      ]
     },
     "execution_count": 8,
     "metadata": {},
     "output_type": "execute_result"
    }
   ],
   "source": [
    "#Solution\n",
    "\n",
    "ticket_info = pandas.read_csv('~/Desktop/ticket_info.csv')\n",
    "\n",
    "passenger_info = pandas.read_csv('~/Desktop/passenger_info.csv')\n",
    "\n",
    "#Common factor is PassengerId\n",
    "\n",
    "total_info = ticket_info.merge(passenger_info)\n",
    "\n",
    "total_info.iloc[460:470]"
   ]
  },
  {
   "cell_type": "code",
   "execution_count": 7,
   "metadata": {},
   "outputs": [
    {
     "data": {
      "text/plain": [
       "PassengerId                        485\n",
       "Cabin                              B49\n",
       "Embarked                             C\n",
       "Fare                           91.0792\n",
       "Pclass                               1\n",
       "Ticket                           11967\n",
       "Age                                 25\n",
       "Name           Bishop, Mr. Dickinson H\n",
       "Parch                                0\n",
       "Sex                               male\n",
       "SibSp                                1\n",
       "Survived                             1\n",
       "Name: 484, dtype: object"
      ]
     },
     "execution_count": 7,
     "metadata": {},
     "output_type": "execute_result"
    }
   ],
   "source": [
    "#Solution\n",
    "\n",
    "total_info.iloc[484]"
   ]
  }
 ],
 "metadata": {
  "kernelspec": {
   "display_name": "Python 3",
   "language": "python",
   "name": "python3"
  },
  "language_info": {
   "codemirror_mode": {
    "name": "ipython",
    "version": 3
   },
   "file_extension": ".py",
   "mimetype": "text/x-python",
   "name": "python",
   "nbconvert_exporter": "python",
   "pygments_lexer": "ipython3",
   "version": "3.6.1"
  }
 },
 "nbformat": 4,
 "nbformat_minor": 2
}
